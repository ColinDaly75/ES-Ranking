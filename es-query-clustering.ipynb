{
 "cells": [
  {
   "cell_type": "code",
   "execution_count": 1,
   "id": "f11f2b06",
   "metadata": {
    "_cell_guid": "b1076dfc-b9ad-4769-8c92-a6c4dae69d19",
    "_uuid": "8f2839f25d086af736a60e9eeb907d3b93b6e0e5",
    "execution": {
     "iopub.execute_input": "2025-02-09T15:09:23.475833Z",
     "iopub.status.busy": "2025-02-09T15:09:23.475488Z",
     "iopub.status.idle": "2025-02-09T15:09:41.909450Z",
     "shell.execute_reply": "2025-02-09T15:09:41.908268Z"
    },
    "papermill": {
     "duration": 18.439717,
     "end_time": "2025-02-09T15:09:41.911203",
     "exception": false,
     "start_time": "2025-02-09T15:09:23.471486",
     "status": "completed"
    },
    "tags": []
   },
   "outputs": [
    {
     "name": "stdout",
     "output_type": "stream",
     "text": [
      "/kaggle/input/tcd-corpus/TCD_All_Micro.txt\n",
      "/kaggle/input/es-query-history/ws-query-history-v25.txt\n",
      "/kaggle/input/es-query-history/es-query-history-v25.txt\n"
     ]
    }
   ],
   "source": [
    "import numpy as np # linear algebra\n",
    "import pandas as pd # data processing, CSV file I/O (e.g. pd.read_csv)\n",
    "import time\n",
    "import os\n",
    "\n",
    "from gensim.models import Word2Vec\n",
    "from gensim.utils import simple_preprocess\n",
    "from sklearn.cluster import KMeans\n",
    "\n",
    "\n",
    "for dirname, _, filenames in os.walk('/kaggle/input'):\n",
    "    for filename in filenames:\n",
    "        print(os.path.join(dirname, filename))\n",
    "\n"
   ]
  },
  {
   "cell_type": "code",
   "execution_count": 2,
   "id": "3afd4326",
   "metadata": {
    "execution": {
     "iopub.execute_input": "2025-02-09T15:09:41.917634Z",
     "iopub.status.busy": "2025-02-09T15:09:41.917019Z",
     "iopub.status.idle": "2025-02-09T15:10:08.235063Z",
     "shell.execute_reply": "2025-02-09T15:10:08.233488Z"
    },
    "papermill": {
     "duration": 26.322951,
     "end_time": "2025-02-09T15:10:08.236964",
     "exception": false,
     "start_time": "2025-02-09T15:09:41.914013",
     "status": "completed"
    },
    "tags": []
   },
   "outputs": [
    {
     "name": "stdout",
     "output_type": "stream",
     "text": [
      "This step took --- 26.31045913696289 seconds ---\n"
     ]
    }
   ],
   "source": [
    "start_time = time.time()\n",
    "\n",
    "# Step 1: Read the corpus from the file \n",
    "#with open(\"/kaggle/input/es-query-history/es-query-history-v25.txt\", \"r\", encoding=\"utf-8\") as file:\n",
    "\n",
    "with open(\"/kaggle/input/tcd-corpus/TCD_All_Micro.txt\", \"r\", encoding=\"utf-8\") as file:\n",
    "    all_lines = file.readlines()  # Read all lines from the file\n",
    "    percent_count = int(len(all_lines) * 0.1)  # quick run:  get n% of the total number of lines\n",
    "    lines = all_lines[:percent_count]          # quick run: keep only the first n% of lines\n",
    "\n",
    "\n",
    "\n",
    "# Remove any empty lines and preprocess each line into tokens\n",
    "tokenized_corpus = [simple_preprocess(line) for line in lines if line.strip()]\n",
    "\n",
    "# Check if we have any data\n",
    "if not tokenized_corpus:\n",
    "    raise ValueError(\"The input file is empty or contains no valid text.\")\n",
    "\n",
    "\n",
    "\n",
    "# import the ES two-column query history \n",
    "#query_history_file=\"/kaggle/input/es-query-history/es-query-history-v25.txt\"\n",
    "#column_names = ['queries', 'volume']\n",
    "#es_df = pd.read_csv(\n",
    "#    query_history_file,\n",
    "#    sep =\"\\t\",\n",
    "#    names=column_names,\n",
    "#    header=None\n",
    "#)\n",
    "\n",
    "print(\"This step took --- %s seconds ---\" % (time.time() - start_time))"
   ]
  },
  {
   "cell_type": "code",
   "execution_count": 3,
   "id": "f01501bb",
   "metadata": {
    "execution": {
     "iopub.execute_input": "2025-02-09T15:10:08.243560Z",
     "iopub.status.busy": "2025-02-09T15:10:08.243059Z",
     "iopub.status.idle": "2025-02-09T15:10:43.326058Z",
     "shell.execute_reply": "2025-02-09T15:10:43.324913Z"
    },
    "papermill": {
     "duration": 35.08936,
     "end_time": "2025-02-09T15:10:43.328977",
     "exception": false,
     "start_time": "2025-02-09T15:10:08.239617",
     "status": "completed"
    },
    "tags": []
   },
   "outputs": [
    {
     "name": "stdout",
     "output_type": "stream",
     "text": [
      "This step took --- 35.07724380493164 seconds ---\n"
     ]
    }
   ],
   "source": [
    "start_time = time.time()\n",
    "# Step 2: Train a Word2Vec model on the tokenized corpus\n",
    "model = Word2Vec(sentences=tokenized_corpus, vector_size=100, window=5, min_count=1, workers=4)\n",
    "\n",
    "# Extract the vocabulary words from the model.\n",
    "words = list(model.wv.index_to_key)\n",
    "#print(\"Vocabulary:\", words)\n",
    "\n",
    "print(\"This step took --- %s seconds ---\" % (time.time() - start_time))"
   ]
  },
  {
   "cell_type": "code",
   "execution_count": 4,
   "id": "98f3bdfc",
   "metadata": {
    "execution": {
     "iopub.execute_input": "2025-02-09T15:10:43.334562Z",
     "iopub.status.busy": "2025-02-09T15:10:43.334212Z",
     "iopub.status.idle": "2025-02-09T15:10:43.833590Z",
     "shell.execute_reply": "2025-02-09T15:10:43.832471Z"
    },
    "papermill": {
     "duration": 0.504377,
     "end_time": "2025-02-09T15:10:43.835672",
     "exception": false,
     "start_time": "2025-02-09T15:10:43.331295",
     "status": "completed"
    },
    "tags": []
   },
   "outputs": [],
   "source": [
    "# Step 3: Extract the corresponding word embeddings\n",
    "word_vectors = np.array([model.wv[word] for word in words])\n",
    "\n"
   ]
  },
  {
   "cell_type": "code",
   "execution_count": 5,
   "id": "1761a0ee",
   "metadata": {
    "execution": {
     "iopub.execute_input": "2025-02-09T15:10:43.843423Z",
     "iopub.status.busy": "2025-02-09T15:10:43.843034Z",
     "iopub.status.idle": "2025-02-09T15:35:11.569647Z",
     "shell.execute_reply": "2025-02-09T15:35:11.568022Z"
    },
    "papermill": {
     "duration": 1467.735491,
     "end_time": "2025-02-09T15:35:11.573674",
     "exception": false,
     "start_time": "2025-02-09T15:10:43.838183",
     "status": "completed"
    },
    "tags": []
   },
   "outputs": [
    {
     "name": "stderr",
     "output_type": "stream",
     "text": [
      "/usr/local/lib/python3.10/dist-packages/sklearn/cluster/_kmeans.py:870: FutureWarning: The default value of `n_init` will change from 10 to 'auto' in 1.4. Set the value of `n_init` explicitly to suppress the warning\n",
      "  warnings.warn(\n"
     ]
    },
    {
     "name": "stdout",
     "output_type": "stream",
     "text": [
      "This step took --- 1467.7195312976837 seconds ---\n"
     ]
    }
   ],
   "source": [
    "start_time = time.time()\n",
    "# Step 4: Use K-Means clustering to cluster the word embeddings into a predefined number of clusters.\n",
    "num_clusters = 1000  # Trial and error suggests 1000 is good compromise to produce 3 or 4 in each.\n",
    "kmeans = KMeans(n_clusters=num_clusters, random_state=42)\n",
    "kmeans.fit(word_vectors)\n",
    "labels = kmeans.labels_\n",
    "\n",
    "# Organize words by their assigned cluster.\n",
    "clusters = {}\n",
    "for word, label in zip(words, labels):\n",
    "    clusters.setdefault(label, []).append(word)\n",
    "\n",
    "print(\"This step took --- %s seconds ---\" % (time.time() - start_time))"
   ]
  },
  {
   "cell_type": "code",
   "execution_count": 6,
   "id": "ea807739",
   "metadata": {
    "execution": {
     "iopub.execute_input": "2025-02-09T15:35:11.580410Z",
     "iopub.status.busy": "2025-02-09T15:35:11.580048Z",
     "iopub.status.idle": "2025-02-09T15:35:11.587094Z",
     "shell.execute_reply": "2025-02-09T15:35:11.585971Z"
    },
    "papermill": {
     "duration": 0.012466,
     "end_time": "2025-02-09T15:35:11.588829",
     "exception": false,
     "start_time": "2025-02-09T15:35:11.576363",
     "status": "completed"
    },
    "tags": []
   },
   "outputs": [
    {
     "name": "stdout",
     "output_type": "stream",
     "text": [
      "Cluster containing 'geology': ['botany', 'geology', 'classics', 'zoology']\n",
      "This step took --- 0.0007977485656738281 seconds ---\n"
     ]
    }
   ],
   "source": [
    "start_time = time.time()\n",
    "# Step 5: Print out the clusters.\n",
    "#for cluster_id, word_list in clusters.items():\n",
    "#    print(f\"Cluster {cluster_id}: {word_list}\")\n",
    "target_word = \"geology\"  # Change this to the word you want to look up.\n",
    "\n",
    "if target_word in words:\n",
    "    # Find the label for the target word.\n",
    "    target_index = words.index(target_word)\n",
    "    target_label = labels[target_index]\n",
    "    \n",
    "    # Print out the cluster that contains the target word.\n",
    "    print(f\"Cluster containing '{target_word}': {clusters[target_label]}\")\n",
    "else:\n",
    "    print(f\"'{target_word}' not found in the vocabulary.\")\n",
    "\n",
    "\n",
    "print(\"This step took --- %s seconds ---\" % (time.time() - start_time))"
   ]
  }
 ],
 "metadata": {
  "kaggle": {
   "accelerator": "none",
   "dataSources": [
    {
     "datasetId": 4462893,
     "sourceId": 7714034,
     "sourceType": "datasetVersion"
    },
    {
     "datasetId": 6633641,
     "sourceId": 10703912,
     "sourceType": "datasetVersion"
    }
   ],
   "dockerImageVersionId": 30886,
   "isGpuEnabled": false,
   "isInternetEnabled": true,
   "language": "python",
   "sourceType": "notebook"
  },
  "kernelspec": {
   "display_name": "Python 3",
   "language": "python",
   "name": "python3"
  },
  "language_info": {
   "codemirror_mode": {
    "name": "ipython",
    "version": 3
   },
   "file_extension": ".py",
   "mimetype": "text/x-python",
   "name": "python",
   "nbconvert_exporter": "python",
   "pygments_lexer": "ipython3",
   "version": "3.10.12"
  },
  "papermill": {
   "default_parameters": {},
   "duration": 1554.365521,
   "end_time": "2025-02-09T15:35:14.707471",
   "environment_variables": {},
   "exception": null,
   "input_path": "__notebook__.ipynb",
   "output_path": "__notebook__.ipynb",
   "parameters": {},
   "start_time": "2025-02-09T15:09:20.341950",
   "version": "2.6.0"
  }
 },
 "nbformat": 4,
 "nbformat_minor": 5
}
