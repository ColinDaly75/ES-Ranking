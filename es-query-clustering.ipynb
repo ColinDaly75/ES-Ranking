{
 "cells": [
  {
   "cell_type": "code",
   "execution_count": 1,
   "id": "2edbcc9e",
   "metadata": {
    "_cell_guid": "b1076dfc-b9ad-4769-8c92-a6c4dae69d19",
    "_uuid": "8f2839f25d086af736a60e9eeb907d3b93b6e0e5",
    "execution": {
     "iopub.execute_input": "2025-02-10T14:42:58.196655Z",
     "iopub.status.busy": "2025-02-10T14:42:58.196172Z",
     "iopub.status.idle": "2025-02-10T14:43:20.088303Z",
     "shell.execute_reply": "2025-02-10T14:43:20.086655Z"
    },
    "papermill": {
     "duration": 21.898536,
     "end_time": "2025-02-10T14:43:20.090071",
     "exception": false,
     "start_time": "2025-02-10T14:42:58.191535",
     "status": "completed"
    },
    "tags": []
   },
   "outputs": [
    {
     "name": "stdout",
     "output_type": "stream",
     "text": [
      "/kaggle/input/es-query-history/ws-query-history-v25.txt\n",
      "/kaggle/input/es-query-history/es-query-history-v25.txt\n",
      "/kaggle/input/tcd-corpus/TCD_All_Micro.txt\n"
     ]
    }
   ],
   "source": [
    "import numpy as np # linear algebra\n",
    "import pandas as pd # data processing, CSV file I/O (e.g. pd.read_csv)\n",
    "import time\n",
    "import os\n",
    "\n",
    "from gensim.models import Word2Vec\n",
    "from gensim.utils import simple_preprocess\n",
    "from sklearn.cluster import KMeans\n",
    "\n",
    "\n",
    "for dirname, _, filenames in os.walk('/kaggle/input'):\n",
    "    for filename in filenames:\n",
    "        print(os.path.join(dirname, filename))\n",
    "\n"
   ]
  },
  {
   "cell_type": "code",
   "execution_count": 2,
   "id": "9eb44ab8",
   "metadata": {
    "execution": {
     "iopub.execute_input": "2025-02-10T14:43:20.097677Z",
     "iopub.status.busy": "2025-02-10T14:43:20.097109Z",
     "iopub.status.idle": "2025-02-10T14:46:00.658665Z",
     "shell.execute_reply": "2025-02-10T14:46:00.657420Z"
    },
    "papermill": {
     "duration": 160.570064,
     "end_time": "2025-02-10T14:46:00.663415",
     "exception": false,
     "start_time": "2025-02-10T14:43:20.093351",
     "status": "completed"
    },
    "tags": []
   },
   "outputs": [
    {
     "name": "stdout",
     "output_type": "stream",
     "text": [
      "This step took --- 160.6 seconds ---\n"
     ]
    }
   ],
   "source": [
    "start_time = time.time()\n",
    "\n",
    "# Step 1: Read the corpus from the file \n",
    "#with open(\"/kaggle/input/es-query-history/es-query-history-v25.txt\", \"r\", encoding=\"utf-8\") as file:\n",
    "\n",
    "with open(\"/kaggle/input/tcd-corpus/TCD_All_Micro.txt\", \"r\", encoding=\"utf-8\") as file:\n",
    "    all_lines = file.readlines()  # Read all lines from the file\n",
    "    percent_count = int(len(all_lines) * 1.0 )  # quick run:  get n% of the total number of lines\n",
    "    lines = all_lines[:percent_count]          # quick run: keep only the first n% of lines\n",
    "\n",
    "\n",
    "\n",
    "# Remove any empty lines and preprocess each line into tokens\n",
    "tokenized_corpus = [simple_preprocess(line) for line in lines if line.strip()]\n",
    "\n",
    "# Check if we have any data\n",
    "if not tokenized_corpus:\n",
    "    raise ValueError(\"The input file is empty or contains no valid text.\")\n",
    "\n",
    "\n",
    "\n",
    "# import the ES two-column query history \n",
    "#query_history_file=\"/kaggle/input/es-query-history/es-query-history-v25.txt\"\n",
    "#column_names = ['queries', 'volume']\n",
    "#es_df = pd.read_csv(\n",
    "#    query_history_file,\n",
    "#    sep =\"\\t\",\n",
    "#    names=column_names,\n",
    "#    header=None\n",
    "#)\n",
    "\n",
    "print(\"This step took --- %.1f seconds ---\" % (time.time() - start_time))"
   ]
  },
  {
   "cell_type": "code",
   "execution_count": 3,
   "id": "b2269090",
   "metadata": {
    "execution": {
     "iopub.execute_input": "2025-02-10T14:46:00.670547Z",
     "iopub.status.busy": "2025-02-10T14:46:00.670192Z",
     "iopub.status.idle": "2025-02-10T14:53:10.130014Z",
     "shell.execute_reply": "2025-02-10T14:53:10.128800Z"
    },
    "papermill": {
     "duration": 429.46754,
     "end_time": "2025-02-10T14:53:10.133832",
     "exception": false,
     "start_time": "2025-02-10T14:46:00.666292",
     "status": "completed"
    },
    "tags": []
   },
   "outputs": [
    {
     "name": "stdout",
     "output_type": "stream",
     "text": [
      "This step took --- 429.5 seconds ---\n"
     ]
    }
   ],
   "source": [
    "start_time = time.time()\n",
    "# Step 2: Train a Word2Vec model on the tokenized corpus\n",
    "model = Word2Vec(sentences=tokenized_corpus, vector_size=200, window=5, min_count=1, workers=4)\n",
    "\n",
    "# Extract the vocabulary words from the model.\n",
    "words = list(model.wv.index_to_key)\n",
    "#print(\"Vocabulary:\", words)\n",
    "\n",
    "print(\"This step took --- %.1f seconds ---\" % (time.time() - start_time))"
   ]
  },
  {
   "cell_type": "code",
   "execution_count": 4,
   "id": "93419779",
   "metadata": {
    "execution": {
     "iopub.execute_input": "2025-02-10T14:53:10.141227Z",
     "iopub.status.busy": "2025-02-10T14:53:10.140826Z",
     "iopub.status.idle": "2025-02-10T14:53:12.207835Z",
     "shell.execute_reply": "2025-02-10T14:53:12.206647Z"
    },
    "papermill": {
     "duration": 2.073005,
     "end_time": "2025-02-10T14:53:12.209840",
     "exception": false,
     "start_time": "2025-02-10T14:53:10.136835",
     "status": "completed"
    },
    "tags": []
   },
   "outputs": [],
   "source": [
    "# Step 3: Extract the corresponding word embeddings\n",
    "word_vectors = np.array([model.wv[word] for word in words])\n",
    "\n"
   ]
  },
  {
   "cell_type": "code",
   "execution_count": 5,
   "id": "31c0a9a1",
   "metadata": {
    "execution": {
     "iopub.execute_input": "2025-02-10T14:53:12.220862Z",
     "iopub.status.busy": "2025-02-10T14:53:12.220439Z",
     "iopub.status.idle": "2025-02-10T15:25:40.489961Z",
     "shell.execute_reply": "2025-02-10T15:25:40.488706Z"
    },
    "papermill": {
     "duration": 1948.280444,
     "end_time": "2025-02-10T15:25:40.493614",
     "exception": false,
     "start_time": "2025-02-10T14:53:12.213170",
     "status": "completed"
    },
    "tags": []
   },
   "outputs": [
    {
     "name": "stdout",
     "output_type": "stream",
     "text": [
      "This step took --- 1948.3 seconds ---\n"
     ]
    }
   ],
   "source": [
    "start_time = time.time()\n",
    "# Step 4: Use K-Means clustering to cluster the word embeddings into a predefined number of clusters.\n",
    "num_clusters = 2000  # Trial and error suggests 2000 is good compromise to produce 3 or 4 in each.\n",
    "kmeans = KMeans(n_clusters=num_clusters, random_state=42, n_init='auto')\n",
    "kmeans.fit(word_vectors)\n",
    "labels = kmeans.labels_\n",
    "\n",
    "# Organize words by their assigned cluster.\n",
    "clusters = {}\n",
    "for word, label in zip(words, labels):\n",
    "    clusters.setdefault(label, []).append(word)\n",
    "\n",
    "print(\"This step took --- %.1f seconds ---\" % (time.time() - start_time))"
   ]
  },
  {
   "cell_type": "code",
   "execution_count": 6,
   "id": "90731c7a",
   "metadata": {
    "execution": {
     "iopub.execute_input": "2025-02-10T15:25:40.501453Z",
     "iopub.status.busy": "2025-02-10T15:25:40.501116Z",
     "iopub.status.idle": "2025-02-10T15:25:40.507451Z",
     "shell.execute_reply": "2025-02-10T15:25:40.506090Z"
    },
    "papermill": {
     "duration": 0.012294,
     "end_time": "2025-02-10T15:25:40.509273",
     "exception": false,
     "start_time": "2025-02-10T15:25:40.496979",
     "status": "completed"
    },
    "tags": []
   },
   "outputs": [
    {
     "name": "stdout",
     "output_type": "stream",
     "text": [
      "Cluster containing 'geology': ['botany', 'geology', 'zoology']\n"
     ]
    }
   ],
   "source": [
    "# Step 5: Print out the clusters.\n",
    "#for cluster_id, word_list in clusters.items():\n",
    "#    print(f\"Cluster {cluster_id}: {word_list}\")\n",
    "target_word = \"geology\"  # Change this to the word you want to look up.\n",
    "\n",
    "if target_word in words:\n",
    "    # Find the label for the target word.\n",
    "    target_index = words.index(target_word)\n",
    "    target_label = labels[target_index]\n",
    "    \n",
    "    # Print out the cluster that contains the target word.\n",
    "    print(f\"Cluster containing '{target_word}': {clusters[target_label]}\")\n",
    "else:\n",
    "    print(f\"'{target_word}' not found in the vocabulary.\")\n"
   ]
  },
  {
   "cell_type": "code",
   "execution_count": 7,
   "id": "8686de44",
   "metadata": {
    "execution": {
     "iopub.execute_input": "2025-02-10T15:25:40.516721Z",
     "iopub.status.busy": "2025-02-10T15:25:40.516390Z",
     "iopub.status.idle": "2025-02-10T15:25:40.523468Z",
     "shell.execute_reply": "2025-02-10T15:25:40.522403Z"
    },
    "papermill": {
     "duration": 0.012648,
     "end_time": "2025-02-10T15:25:40.525151",
     "exception": false,
     "start_time": "2025-02-10T15:25:40.512503",
     "status": "completed"
    },
    "tags": []
   },
   "outputs": [
    {
     "name": "stdout",
     "output_type": "stream",
     "text": [
      "Cluster containing 'vacancy': ['physrevb', 'flakes', 'vacancy', 'synonyms', 'rsc', 'moo', 'sonication', 'ecm', 'nomenclature', 'intercalated', 'assemblies', 'magnets', 'stm', 'nmp', 'filler', 'encapsulation', 'multifunctional', 'cnts', 'formulations', 'pristine', 'patterned', 'cofeb', 'surrogate', 'dovepress', 'artificially', 'ferromagnetism', 'sds', 'nanostructured', 'physicochemical', 'diodes', 'chirality', 'biologically', 'csic', 'cft', 'crystallography', 'organometallic', 'angewandte', 'sensitized', 'tris', 'pss', 'dichalcogenides', 'spins', 'pedot', 'supercapacitors', 'amr', 'purity', 'pore', 'glue', 'sol', 'seeded', 'biosensors', 'insulating', 'thermo', 'stacking', 'conductors', 'tmd', 'mno', 'polymeric', 'tetrahedron', 'pigments', 'corrosion', 'cryogenic', 'accessory', 'fingerprinting', 'lattices', 'triplet', 'aldrich', 'laden', 'cavities', 'gated', 'semiconducting', 'unbound', 'mnps', 'suspensions', 'cdse', 'mose', 'multilayer', 'micron', 'impurity', 'carbohydrate', 'stranded', 'bandgap', 'photochemical', 'mer', 'optoelectronic', 'hyperthermia', 'pva', 'precursors', 'surfactants', 'photochemistry', 'wse', 'linker', 'bioorganic', 'zns', 'resonators', 'polyethylene', 'helical', 'cofe', 'impurities', 'ionized', 'dilute', 'nanorods', 'hybrids', 'bonded', 'micromechanical', 'ultrafine', 'ultrathin', 'magnesium', 'cellulose', 'bsa', 'chromium', 'implanted', 'polystyrene', 'freshly', 'insulators', 'ree', 'veins', 'colloids', 'ferrite', 'aerosols', 'brittle', 'agilent', 'conjugates', 'chitosan', 'inks', 'nanometer', 'inert', 'asbestos', 'internalization', 'nacl', 'netic', 'urea', 'ceramics', 'tungsten', 'methane', 'precipitated', 'abt', 'magnetically', 'dyes', 'conjugation', 'sams', 'indium', 'dichroism', 'purified', 'cerium', 'nanocomposite', 'aluminum', 'molar', 'sprayed', 'fibers', 'analyte', 'rheology', 'polyelectrolyte', 'materialia', 'spore', 'immobilization', 'viscoelastic', 'resistor', 'intercalation', 'nanostructure', 'vial', 'colloid', 'biosensor', 'streptavidin', 'pvp', 'ammonia', 'epoxy', 'sulphide', 'irradiated', 'dressings', 'etched', 'fibrin', 'gag', 'biomimetic', 'disulfide', 'cages', 'photocatalytic', 'gels', 'hydroxide', 'feldspar', 'alginate', 'bromide', 'fibrous', 'carbohydrates', 'amide', 'hydroxyapatite', 'biocompatible', 'bismuth', 'polypyridyl', 'spion', 'tetrahedral', 'covalently', 'germanium', 'antibacterial', 'sulfide', 'respirable', 'unsaturated', 'dox', 'acidic', 'silicate', 'solute', 'pyrolysis', 'gaseous', 'oxidized', 'spions', 'pmma', 'mxene', 'chlorine', 'carcinogens', 'microspheres', 'alkali', 'tethered', 'chondrocytes', 'macromolecular', 'fluoride', 'dimethyl', 'vicinal', 'biodistribution', 'anions', 'corrosive', 'hydrocarbons', 'ceria', 'polycrystalline', 'fabrics', 'biotin', 'hydrophilic', 'cryst', 'lspa', 'vials', 'templated', 'nitrous', 'reconstituted', 'ninw', 'amphetamine', 'inhalable', 'mesophase', 'gypsum', 'mha', 'mole', 'ammonium', 'olivine', 'hydrated', 'nanoribbons', 'multilayered', 'explosives', 'perovskite', 'crystallisation', 'albumin', 'facile', 'abrasion', 'nanocrystal', 'nanoprobes', 'arsenic', 'phenyl', 'methanol', 'alumina', 'sputtering', 'pev', 'hdt', 'carbide', 'undoped', 'muscovite', 'photophysical', 'ene', 'electrophoresis', 'syntheses', 'ribosome', 'octahedral', 'multilayers', 'catalysed', 'seawater', 'hydrous', 'pab', 'aaps', 'singlet', 'nanoporous', 'doxorubicin', 'pyrite', 'alkyl', 'pyridine', 'biob', 'carbonates', 'ruo', 'monodisperse', 'bimetallic', 'insoluble', 'lactic', 'cationic', 'additives', 'ticles', 'citrate', 'glycosylated', 'halide', 'acetone', 'vanadium', 'cyclen', 'farnell', 'electroactive', 'tröger', 'capsules', 'tetra', 'ester', 'selenium', 'anatase', 'sulfate', 'toluene', 'cyclodextrin', 'disulphide', 'uranyl', 'hcl', 'etch', 'amphiphilic', 'tert', 'pores', 'selenide', 'mafic', 'chalcogen', 'telluride', 'feeders', 'chlorinated', 'hplc', 'permeable', 'kda', 'isopropyl', 'feedstock', 'lamellar', 'nucleophilic', 'cysteine', 'carboxylic', 'methylene', 'carbonyl', 'oxo', 'halogen', 'reagent', 'lysp', 'digested', 'lysine', 'mwcnt', 'dimers', 'catalyzed', 'paraffin', 'lipidic', 'palladium', 'pyrogenic', 'scfv', 'mesoporous', 'amines', 'myoglobin', 'biotinylated', 'spacer', 'microfabricated', 'monoxide', 'gelatin', 'chloroform', 'fluorine', 'agnw', 'citric', 'electrospun', 'cucl', 'phthalocyanine', 'pellets', 'valent', 'dsu', 'isomer', 'hydroxyl', 'aldehydes', 'polyester', 'aliphatic', 'bifunctional', 'anhydride', 'abraded', 'titania', 'salbutamol', 'acetylene', 'propylene', 'styrene', 'heterocyclic', 'halides', 'crosslinked', 'hydrofluoric', 'ketones', 'ethane', 'propyl', 'ethidium', 'chlorothiazide', 'anionic', 'silane', 'fluka', 'ufcb', 'acetic', 'propane', 'tricarbonyl', 'persulphate']\n"
     ]
    }
   ],
   "source": [
    "# Step 5: Print out the clusters.\n",
    "#for cluster_id, word_list in clusters.items():\n",
    "#    print(f\"Cluster {cluster_id}: {word_list}\")\n",
    "target_word = \"vacancy\"  # Change this to the word you want to look up.\n",
    "\n",
    "if target_word in words:\n",
    "    # Find the label for the target word.\n",
    "    target_index = words.index(target_word)\n",
    "    target_label = labels[target_index]\n",
    "    \n",
    "    # Print out the cluster that contains the target word.\n",
    "    print(f\"Cluster containing '{target_word}': {clusters[target_label]}\")\n",
    "else:\n",
    "    print(f\"'{target_word}' not found in the vocabulary.\")\n"
   ]
  },
  {
   "cell_type": "markdown",
   "id": "8fb10b50",
   "metadata": {
    "papermill": {
     "duration": 0.00284,
     "end_time": "2025-02-10T15:25:40.531352",
     "exception": false,
     "start_time": "2025-02-10T15:25:40.528512",
     "status": "completed"
    },
    "tags": []
   },
   "source": [
    "# Elbow Method\n",
    "\n",
    "The Elbow method involves plotting the objective value against various values of k. The goal is to identify the 'elbow point' where increasing k yields diminishing returns in performance. While this method is widely used, it can be subjective and may not always provide a clear answer.\n",
    "\n",
    "\n",
    "k=100\n",
    "Cluster containing 'geology': ['si', 'water', 'novel', 'highly', 'effects', 'single', 'attention', 'effect', 'metal', 'dna', 'food', 'investigation', 'large', 'series', 'pain', 'scale', 'induced', 'spectroscopy', 'power', 'electrochemical', 'light', 'chiral', 'elguero', 'reactions', 'sea', 'surfaces', 'cell', 'electron', 'loss', 'brown', 'nanowires', 'phase', 'fetal', 'microscopy', 'magnetic', 'crystal', 'devices', 'geology', 'films', 'enhanced', 'permit', 'derivatives', 'cost', 'resolution', 'cl', 'hydrogen', 'species', 'ru', 'structures', 'reaction', 'silver', 'polymer', 'visual', 'oxide', 'observational', 'alkorta', 'poor', 'evolution', 'cells', 'ap', 'controlled', 'dynamics', 'growth', 'ruthenium', 'diseases', 'mapping', 'nanotubes', 'bulletin', 'inflammatory', 'solution', 'imaging', 'compounds', 'laser', 'rate', 'gold', 'nanoscale', 'graphene', 'scanning', 'latin', 'iv', 'ar', 'anti', 'ward', 'structural', 'formation', 'freshwater', 'clothing', 'silicon', 'phys', 'acid', 'ion', 'micro', 'bound', 'countr1ow', 'nanoparticle', 'mo', 'bond', 'spatial', 'african', 'liquid', 'catalysts', 'containing', 'thin', 'efficient', 'dot', 'double', 'unwin', 'mediated', 'ray', 'freud', 'spectroscopic', 'substituted', 'nanowire', 'bis', 'cdte', 'absorption', 'forest', 'composites', 'poly', 'roman', 'kim', 'porous', 'transient', 'gaponik', 'resonance', 'ag', 'oliver', 'sarah', 'feeling']\n",
    "\n",
    "\n",
    "\n",
    "k=1000 and percent=0.01\n",
    "Cluster containing 'geology': ['series', 'inorganic', 'childhood', 'earth', 'geology', 'plant']\n",
    "\n",
    "\n",
    "k=1000 and percent=0.05\n",
    "Cluster containing 'geology': ['medicine', 'botany', 'geology', 'genetics', 'pharmacy', 'faculty', 'humanities', 'microbiology', 'mathematics', 'histories', 'biochemistry', 'sociology', 'biomedical', 'zoology']\n",
    "\n",
    "\n",
    "k=1000 and percent=0.1 \n",
    "Cluster containing 'geology': ['botany', 'microbiology', 'geology', 'genetics', 'immunology', 'biochemistry', 'zoology']\n",
    "\n",
    "k=1000 and percent=0.5 (i.e. 50%)\n",
    "Cluster containing 'geology': ['geography', 'geology', 'botany', 'zoology']\n",
    "\n",
    "k=1000 and percent=1.0 (i.e. 100%)\n",
    "Cluster containing 'geology': ['earth', 'geology', 'coronal', 'corona', 'dating', 'rocks', 'astronomy', 'carboniferous', 'atmospheric', 'giant', 'mineral', 'stellar', 'quaternary', 'extinction', 'universe', 'terrestrial', 'sediment', 'vegetation', 'oceans', 'mantle', 'planetary', 'offshore', 'zircon', 'apatite', 'sedimentary', 'climatic', 'geophysical', 'isotope', 'geochemistry', 'volcanic', 'winds', 'karst', 'planets', 'crust', 'geomorphology', 'sediments', 'glacial', 'metamorphism', 'igneous', 'metamorphic', 'geochemical', 'oceanic', 'magma', 'jurassic', 'tectonic', 'holocene', 'triassic', 'magmatic']\n",
    "\n",
    "k=2000 and 100%\n",
    "Cluster containing 'geology': ['botany', 'geology', 'zoology']\n",
    "\n",
    "k=1000 and 100% \n",
    "Cluster containing 'geology': ['botany', 'geology', 'zoology']\n",
    "\n",
    "k=1000 and 100% dimensions = 200\n",
    "\n",
    "\n"
   ]
  }
 ],
 "metadata": {
  "kaggle": {
   "accelerator": "none",
   "dataSources": [
    {
     "datasetId": 4462893,
     "sourceId": 7714034,
     "sourceType": "datasetVersion"
    },
    {
     "datasetId": 6633641,
     "sourceId": 10703912,
     "sourceType": "datasetVersion"
    }
   ],
   "dockerImageVersionId": 30886,
   "isGpuEnabled": false,
   "isInternetEnabled": true,
   "language": "python",
   "sourceType": "notebook"
  },
  "kernelspec": {
   "display_name": "Python 3",
   "language": "python",
   "name": "python3"
  },
  "language_info": {
   "codemirror_mode": {
    "name": "ipython",
    "version": 3
   },
   "file_extension": ".py",
   "mimetype": "text/x-python",
   "name": "python",
   "nbconvert_exporter": "python",
   "pygments_lexer": "ipython3",
   "version": "3.10.12"
  },
  "papermill": {
   "default_parameters": {},
   "duration": 2569.075538,
   "end_time": "2025-02-10T15:25:44.261432",
   "environment_variables": {},
   "exception": null,
   "input_path": "__notebook__.ipynb",
   "output_path": "__notebook__.ipynb",
   "parameters": {},
   "start_time": "2025-02-10T14:42:55.185894",
   "version": "2.6.0"
  }
 },
 "nbformat": 4,
 "nbformat_minor": 5
}
