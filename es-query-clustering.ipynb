{
 "cells": [
  {
   "cell_type": "code",
   "execution_count": 1,
   "id": "7bf595a1",
   "metadata": {
    "_cell_guid": "b1076dfc-b9ad-4769-8c92-a6c4dae69d19",
    "_uuid": "8f2839f25d086af736a60e9eeb907d3b93b6e0e5",
    "execution": {
     "iopub.execute_input": "2025-02-11T17:38:12.784987Z",
     "iopub.status.busy": "2025-02-11T17:38:12.784715Z",
     "iopub.status.idle": "2025-02-11T17:38:31.622323Z",
     "shell.execute_reply": "2025-02-11T17:38:31.621278Z"
    },
    "papermill": {
     "duration": 18.84313,
     "end_time": "2025-02-11T17:38:31.623835",
     "exception": false,
     "start_time": "2025-02-11T17:38:12.780705",
     "status": "completed"
    },
    "tags": []
   },
   "outputs": [
    {
     "name": "stdout",
     "output_type": "stream",
     "text": [
      "/kaggle/input/tcd-corpus/TCD_All_Micro.txt\n",
      "/kaggle/input/es-query-history/ws-query-history-v25.txt\n",
      "/kaggle/input/es-query-history/es-query-history-v25.txt\n"
     ]
    }
   ],
   "source": [
    "import numpy as np # linear algebra\n",
    "import pandas as pd # data processing, CSV file I/O (e.g. pd.read_csv)\n",
    "import time\n",
    "import os\n",
    "\n",
    "from gensim.models import Word2Vec\n",
    "from gensim.utils import simple_preprocess\n",
    "from sklearn.cluster import KMeans\n",
    "\n",
    "\n",
    "for dirname, _, filenames in os.walk('/kaggle/input'):\n",
    "    for filename in filenames:\n",
    "        print(os.path.join(dirname, filename))\n",
    "\n"
   ]
  },
  {
   "cell_type": "code",
   "execution_count": 2,
   "id": "a471b33d",
   "metadata": {
    "execution": {
     "iopub.execute_input": "2025-02-11T17:38:31.630081Z",
     "iopub.status.busy": "2025-02-11T17:38:31.629525Z",
     "iopub.status.idle": "2025-02-11T17:40:27.537153Z",
     "shell.execute_reply": "2025-02-11T17:40:27.535824Z"
    },
    "papermill": {
     "duration": 115.913183,
     "end_time": "2025-02-11T17:40:27.539622",
     "exception": false,
     "start_time": "2025-02-11T17:38:31.626439",
     "status": "completed"
    },
    "tags": []
   },
   "outputs": [
    {
     "name": "stdout",
     "output_type": "stream",
     "text": [
      "This step took --- 115.9 seconds ---\n"
     ]
    }
   ],
   "source": [
    "start_time = time.time()\n",
    "\n",
    "# Step 1: Read the corpus from the file \n",
    "#with open(\"/kaggle/input/es-query-history/es-query-history-v25.txt\", \"r\", encoding=\"utf-8\") as file:\n",
    "\n",
    "with open(\"/kaggle/input/tcd-corpus/TCD_All_Micro.txt\", \"r\", encoding=\"utf-8\") as file:\n",
    "    all_lines = file.readlines()  # Read all lines from the file\n",
    "    percent_count = int(len(all_lines) * 1.0 )  # quick run:  get n% of the total number of lines\n",
    "    lines = all_lines[:percent_count]          # quick run: keep only the first n% of lines\n",
    "\n",
    "\n",
    "\n",
    "# Remove any empty lines and preprocess each line into tokens\n",
    "tokenized_corpus = [simple_preprocess(line) for line in lines if line.strip()]\n",
    "\n",
    "# Check if we have any data\n",
    "if not tokenized_corpus:\n",
    "    raise ValueError(\"The input file is empty or contains no valid text.\")\n",
    "\n",
    "\n",
    "\n",
    "# import the ES two-column query history \n",
    "#query_history_file=\"/kaggle/input/es-query-history/es-query-history-v25.txt\"\n",
    "#column_names = ['queries', 'volume']\n",
    "#es_df = pd.read_csv(\n",
    "#    query_history_file,\n",
    "#    sep =\"\\t\",\n",
    "#    names=column_names,\n",
    "#    header=None\n",
    "#)\n",
    "\n",
    "print(\"This step took --- %.1f seconds ---\" % (time.time() - start_time))"
   ]
  },
  {
   "cell_type": "code",
   "execution_count": 3,
   "id": "ff95ff0f",
   "metadata": {
    "execution": {
     "iopub.execute_input": "2025-02-11T17:40:27.544790Z",
     "iopub.status.busy": "2025-02-11T17:40:27.544392Z",
     "iopub.status.idle": "2025-02-11T17:45:35.399714Z",
     "shell.execute_reply": "2025-02-11T17:45:35.398225Z"
    },
    "papermill": {
     "duration": 307.860692,
     "end_time": "2025-02-11T17:45:35.402304",
     "exception": false,
     "start_time": "2025-02-11T17:40:27.541612",
     "status": "completed"
    },
    "tags": []
   },
   "outputs": [
    {
     "name": "stdout",
     "output_type": "stream",
     "text": [
      "This step took --- 307.8 seconds ---\n"
     ]
    }
   ],
   "source": [
    "start_time = time.time()\n",
    "# Step 2: Train a Word2Vec model on the tokenized corpus\n",
    "model = Word2Vec(sentences=tokenized_corpus, vector_size=100, window=5, min_count=1, workers=4)\n",
    "\n",
    "# Extract the vocabulary words from the model.\n",
    "words = list(model.wv.index_to_key)\n",
    "#print(\"Vocabulary:\", words)\n",
    "\n",
    "print(\"This step took --- %.1f seconds ---\" % (time.time() - start_time))"
   ]
  },
  {
   "cell_type": "code",
   "execution_count": 4,
   "id": "fd9f68eb",
   "metadata": {
    "execution": {
     "iopub.execute_input": "2025-02-11T17:45:35.407382Z",
     "iopub.status.busy": "2025-02-11T17:45:35.407068Z",
     "iopub.status.idle": "2025-02-11T17:45:36.717078Z",
     "shell.execute_reply": "2025-02-11T17:45:36.715933Z"
    },
    "papermill": {
     "duration": 1.314337,
     "end_time": "2025-02-11T17:45:36.718651",
     "exception": false,
     "start_time": "2025-02-11T17:45:35.404314",
     "status": "completed"
    },
    "tags": []
   },
   "outputs": [],
   "source": [
    "# Step 3: Extract the corresponding word embeddings\n",
    "word_vectors = np.array([model.wv[word] for word in words])\n",
    "\n"
   ]
  },
  {
   "cell_type": "code",
   "execution_count": 5,
   "id": "b860aad5",
   "metadata": {
    "execution": {
     "iopub.execute_input": "2025-02-11T17:45:36.727265Z",
     "iopub.status.busy": "2025-02-11T17:45:36.726904Z",
     "iopub.status.idle": "2025-02-11T17:52:01.155226Z",
     "shell.execute_reply": "2025-02-11T17:52:01.153907Z"
    },
    "papermill": {
     "duration": 384.436476,
     "end_time": "2025-02-11T17:52:01.157439",
     "exception": false,
     "start_time": "2025-02-11T17:45:36.720963",
     "status": "completed"
    },
    "tags": []
   },
   "outputs": [
    {
     "name": "stdout",
     "output_type": "stream",
     "text": [
      "This step took --- 384.4 seconds ---\n"
     ]
    }
   ],
   "source": [
    "start_time = time.time()\n",
    "# Step 4: Use K-Means clustering to cluster the word embeddings into a predefined number of clusters.\n",
    "num_clusters = 1000  # Trial and error suggests 2000 is good compromise to produce 3 or 4 in each.\n",
    "kmeans = KMeans(n_clusters=num_clusters, random_state=42, n_init='auto')\n",
    "kmeans.fit(word_vectors)\n",
    "labels = kmeans.labels_\n",
    "\n",
    "# Organize words by their assigned cluster.\n",
    "clusters = {}\n",
    "for word, label in zip(words, labels):\n",
    "    clusters.setdefault(label, []).append(word)\n",
    "\n",
    "print(\"This step took --- %.1f seconds ---\" % (time.time() - start_time))"
   ]
  },
  {
   "cell_type": "code",
   "execution_count": 6,
   "id": "b842d8dc",
   "metadata": {
    "execution": {
     "iopub.execute_input": "2025-02-11T17:52:01.162915Z",
     "iopub.status.busy": "2025-02-11T17:52:01.162568Z",
     "iopub.status.idle": "2025-02-11T17:52:01.168441Z",
     "shell.execute_reply": "2025-02-11T17:52:01.167164Z"
    },
    "papermill": {
     "duration": 0.010217,
     "end_time": "2025-02-11T17:52:01.169766",
     "exception": false,
     "start_time": "2025-02-11T17:52:01.159549",
     "status": "completed"
    },
    "tags": []
   },
   "outputs": [
    {
     "name": "stdout",
     "output_type": "stream",
     "text": [
      "Cluster containing 'geology': ['history', 'humanities', 'geography', 'medieval', 'ancient', 'classics', 'geology', 'histories', 'clu', 'archaeology']\n"
     ]
    }
   ],
   "source": [
    "# Step 5: Print out the clusters.\n",
    "#for cluster_id, word_list in clusters.items():\n",
    "#    print(f\"Cluster {cluster_id}: {word_list}\")\n",
    "target_word = \"geology\"  # Change this to the word you want to look up.\n",
    "\n",
    "if target_word in words:\n",
    "    # Find the label for the target word.\n",
    "    target_index = words.index(target_word)\n",
    "    target_label = labels[target_index]\n",
    "    \n",
    "    # Print out the cluster that contains the target word.\n",
    "    print(f\"Cluster containing '{target_word}': {clusters[target_label]}\")\n",
    "else:\n",
    "    print(f\"'{target_word}' not found in the vocabulary.\")\n"
   ]
  },
  {
   "cell_type": "code",
   "execution_count": 7,
   "id": "986b31d5",
   "metadata": {
    "execution": {
     "iopub.execute_input": "2025-02-11T17:52:01.175635Z",
     "iopub.status.busy": "2025-02-11T17:52:01.175291Z",
     "iopub.status.idle": "2025-02-11T17:52:01.181720Z",
     "shell.execute_reply": "2025-02-11T17:52:01.180521Z"
    },
    "papermill": {
     "duration": 0.011122,
     "end_time": "2025-02-11T17:52:01.183283",
     "exception": false,
     "start_time": "2025-02-11T17:52:01.172161",
     "status": "completed"
    },
    "tags": []
   },
   "outputs": [
    {
     "name": "stdout",
     "output_type": "stream",
     "text": [
      "Cluster containing 'vacancies': ['queries', 'calls', 'instructions', 'lists', 'regularly', 'spam', 'incoming', 'contacts', 'checks', 'anonymous', 'alerts', 'commands', 'enquiries', 'registers', 'emails', 'advertisement', 'tweets', 'logs', 'credentials', 'electronically', 'subscribers', 'notices', 'webpage', 'searches', 'periodically', 'advertisements', 'vacancies', 'tokens', 'releases', 'permissions', 'replies', 'announcements', 'passwords', 'reminders', 'cookies', 'subscriptions', 'mails', 'urls', 'mailing', 'webpages']\n"
     ]
    }
   ],
   "source": [
    "# Step 5: Print out the clusters.\n",
    "#for cluster_id, word_list in clusters.items():\n",
    "#    print(f\"Cluster {cluster_id}: {word_list}\")\n",
    "target_word = \"vacancies\"  # Change this to the word you want to look up.\n",
    "\n",
    "if target_word in words:\n",
    "    # Find the label for the target word.\n",
    "    target_index = words.index(target_word)\n",
    "    target_label = labels[target_index]\n",
    "    \n",
    "    # Print out the cluster that contains the target word.\n",
    "    print(f\"Cluster containing '{target_word}': {clusters[target_label]}\")\n",
    "else:\n",
    "    print(f\"'{target_word}' not found in the vocabulary.\")\n"
   ]
  },
  {
   "cell_type": "markdown",
   "id": "51ade0a7",
   "metadata": {
    "papermill": {
     "duration": 0.001874,
     "end_time": "2025-02-11T17:52:01.187718",
     "exception": false,
     "start_time": "2025-02-11T17:52:01.185844",
     "status": "completed"
    },
    "tags": []
   },
   "source": [
    "# Elbow Method\n",
    "\n",
    "The Elbow method involves plotting the objective value against various values of k. The goal is to identify the 'elbow point' where increasing k yields diminishing returns in performance. While this method is widely used, it can be subjective and may not always provide a clear answer.\n",
    "\n",
    "\n",
    "k=100\n",
    "Cluster containing 'geology': ['si', 'water', 'novel', 'highly', 'effects', 'single', 'attention', 'effect', 'metal', 'dna', 'food', 'investigation', 'large', 'series', 'pain', 'scale', 'induced', 'spectroscopy', 'power', 'electrochemical', 'light', 'chiral', 'elguero', 'reactions', 'sea', 'surfaces', 'cell', 'electron', 'loss', 'brown', 'nanowires', 'phase', 'fetal', 'microscopy', 'magnetic', 'crystal', 'devices', 'geology', 'films', 'enhanced', 'permit', 'derivatives', 'cost', 'resolution', 'cl', 'hydrogen', 'species', 'ru', 'structures', 'reaction', 'silver', 'polymer', 'visual', 'oxide', 'observational', 'alkorta', 'poor', 'evolution', 'cells', 'ap', 'controlled', 'dynamics', 'growth', 'ruthenium', 'diseases', 'mapping', 'nanotubes', 'bulletin', 'inflammatory', 'solution', 'imaging', 'compounds', 'laser', 'rate', 'gold', 'nanoscale', 'graphene', 'scanning', 'latin', 'iv', 'ar', 'anti', 'ward', 'structural', 'formation', 'freshwater', 'clothing', 'silicon', 'phys', 'acid', 'ion', 'micro', 'bound', 'countr1ow', 'nanoparticle', 'mo', 'bond', 'spatial', 'african', 'liquid', 'catalysts', 'containing', 'thin', 'efficient', 'dot', 'double', 'unwin', 'mediated', 'ray', 'freud', 'spectroscopic', 'substituted', 'nanowire', 'bis', 'cdte', 'absorption', 'forest', 'composites', 'poly', 'roman', 'kim', 'porous', 'transient', 'gaponik', 'resonance', 'ag', 'oliver', 'sarah', 'feeling']\n",
    "\n",
    "\n",
    "\n",
    "k=1000 and percent=0.01\n",
    "Cluster containing 'geology': ['series', 'inorganic', 'childhood', 'earth', 'geology', 'plant']\n",
    "\n",
    "\n",
    "k=1000 and percent=0.05\n",
    "Cluster containing 'geology': ['medicine', 'botany', 'geology', 'genetics', 'pharmacy', 'faculty', 'humanities', 'microbiology', 'mathematics', 'histories', 'biochemistry', 'sociology', 'biomedical', 'zoology']\n",
    "\n",
    "\n",
    "k=1000 and percent=0.1 \n",
    "Cluster containing 'geology': ['botany', 'microbiology', 'geology', 'genetics', 'immunology', 'biochemistry', 'zoology']\n",
    "\n",
    "k=1000 and percent=0.5 (i.e. 50%)\n",
    "Cluster containing 'geology': ['geography', 'geology', 'botany', 'zoology']\n",
    "\n",
    "k=1000 and percent=1.0 (i.e. 100%)\n",
    "Cluster containing 'geology': ['earth', 'geology', 'coronal', 'corona', 'dating', 'rocks', 'astronomy', 'carboniferous', 'atmospheric', 'giant', 'mineral', 'stellar', 'quaternary', 'extinction', 'universe', 'terrestrial', 'sediment', 'vegetation', 'oceans', 'mantle', 'planetary', 'offshore', 'zircon', 'apatite', 'sedimentary', 'climatic', 'geophysical', 'isotope', 'geochemistry', 'volcanic', 'winds', 'karst', 'planets', 'crust', 'geomorphology', 'sediments', 'glacial', 'metamorphism', 'igneous', 'metamorphic', 'geochemical', 'oceanic', 'magma', 'jurassic', 'tectonic', 'holocene', 'triassic', 'magmatic']\n",
    "\n",
    "k=2000 and 100%\n",
    "Cluster containing 'geology': ['botany', 'geology', 'zoology']\n",
    "\n",
    "k=1000 and 100% \n",
    "Cluster containing 'geology': ['botany', 'geology', 'zoology']\n",
    "\n",
    "k=2000 and 100% dimensions = 200\n",
    "Cluster containing 'geology': ['botany', 'geology', 'museum', 'zoology', 'geological', 'fagel', 'garden', 'gardens', 'herbarium', 'botanic', 'botanical']\n",
    "\n",
    "k=3000 and 100% dimensions = 200\n",
    "Cluster containing 'geology': ['geology']\n",
    "\n",
    "k=1500 and 100% dimensions = 200\n",
    "Cluster containing 'geology': ['tr', 'geography', 'geology', 'nanoscience', 'geoscience', 'ggu']\n",
    "\n",
    "k=1500 and 100% dimensions = 50\n",
    "Cluster containing 'geology': ['humanities', 'geography', 'botany', 'geology', 'zoology']\n",
    "\n",
    "k=3000 and 100% dimensions = 50\n",
    "\n",
    "\n",
    "\n",
    "\n",
    "\n"
   ]
  }
 ],
 "metadata": {
  "kaggle": {
   "accelerator": "none",
   "dataSources": [
    {
     "datasetId": 4462893,
     "sourceId": 7714034,
     "sourceType": "datasetVersion"
    },
    {
     "datasetId": 6633641,
     "sourceId": 10703912,
     "sourceType": "datasetVersion"
    }
   ],
   "dockerImageVersionId": 30886,
   "isGpuEnabled": false,
   "isInternetEnabled": true,
   "language": "python",
   "sourceType": "notebook"
  },
  "kernelspec": {
   "display_name": "Python 3",
   "language": "python",
   "name": "python3"
  },
  "language_info": {
   "codemirror_mode": {
    "name": "ipython",
    "version": 3
   },
   "file_extension": ".py",
   "mimetype": "text/x-python",
   "name": "python",
   "nbconvert_exporter": "python",
   "pygments_lexer": "ipython3",
   "version": "3.10.12"
  },
  "papermill": {
   "default_parameters": {},
   "duration": 834.658165,
   "end_time": "2025-02-11T17:52:05.016975",
   "environment_variables": {},
   "exception": null,
   "input_path": "__notebook__.ipynb",
   "output_path": "__notebook__.ipynb",
   "parameters": {},
   "start_time": "2025-02-11T17:38:10.358810",
   "version": "2.6.0"
  }
 },
 "nbformat": 4,
 "nbformat_minor": 5
}
