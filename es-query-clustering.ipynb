{
 "cells": [
  {
   "cell_type": "code",
   "execution_count": 1,
   "id": "601abf0c",
   "metadata": {
    "_cell_guid": "b1076dfc-b9ad-4769-8c92-a6c4dae69d19",
    "_uuid": "8f2839f25d086af736a60e9eeb907d3b93b6e0e5",
    "execution": {
     "iopub.execute_input": "2025-02-12T11:30:05.632626Z",
     "iopub.status.busy": "2025-02-12T11:30:05.632133Z",
     "iopub.status.idle": "2025-02-12T11:30:28.553836Z",
     "shell.execute_reply": "2025-02-12T11:30:28.552507Z"
    },
    "papermill": {
     "duration": 22.92847,
     "end_time": "2025-02-12T11:30:28.555899",
     "exception": false,
     "start_time": "2025-02-12T11:30:05.627429",
     "status": "completed"
    },
    "tags": []
   },
   "outputs": [
    {
     "name": "stdout",
     "output_type": "stream",
     "text": [
      "/kaggle/input/es-query-history/ws-query-history-v25.txt\n",
      "/kaggle/input/es-query-history/es-query-history-v25.txt\n",
      "/kaggle/input/tcd-corpus/TCD_All_Micro.txt\n"
     ]
    }
   ],
   "source": [
    "import numpy as np # linear algebra\n",
    "import pandas as pd # data processing, CSV file I/O (e.g. pd.read_csv)\n",
    "import time\n",
    "import os\n",
    "\n",
    "from gensim.models import Word2Vec\n",
    "from gensim.utils import simple_preprocess\n",
    "from sklearn.cluster import KMeans\n",
    "\n",
    "\n",
    "for dirname, _, filenames in os.walk('/kaggle/input'):\n",
    "    for filename in filenames:\n",
    "        print(os.path.join(dirname, filename))\n",
    "\n"
   ]
  },
  {
   "cell_type": "code",
   "execution_count": 2,
   "id": "755bce67",
   "metadata": {
    "execution": {
     "iopub.execute_input": "2025-02-12T11:30:28.564783Z",
     "iopub.status.busy": "2025-02-12T11:30:28.564135Z",
     "iopub.status.idle": "2025-02-12T11:33:11.016989Z",
     "shell.execute_reply": "2025-02-12T11:33:11.015812Z"
    },
    "papermill": {
     "duration": 162.461877,
     "end_time": "2025-02-12T11:33:11.021429",
     "exception": false,
     "start_time": "2025-02-12T11:30:28.559552",
     "status": "completed"
    },
    "tags": []
   },
   "outputs": [
    {
     "name": "stdout",
     "output_type": "stream",
     "text": [
      "This step took --- 162.4 seconds ---\n"
     ]
    }
   ],
   "source": [
    "start_time = time.time()\n",
    "\n",
    "# Step 1: Read the corpus from the file \n",
    "#with open(\"/kaggle/input/es-query-history/es-query-history-v25.txt\", \"r\", encoding=\"utf-8\") as file:\n",
    "\n",
    "with open(\"/kaggle/input/tcd-corpus/TCD_All_Micro.txt\", \"r\", encoding=\"utf-8\") as file:\n",
    "    all_lines = file.readlines()  # Read all lines from the file\n",
    "    percent_count = int(len(all_lines) * 1.0 )  # quick run:  get n% of the total number of lines\n",
    "    lines = all_lines[:percent_count]          # quick run: keep only the first n% of lines\n",
    "\n",
    "\n",
    "\n",
    "# Remove any empty lines and preprocess each line into tokens\n",
    "tokenized_corpus = [simple_preprocess(line) for line in lines if line.strip()]\n",
    "\n",
    "# Check if we have any data\n",
    "if not tokenized_corpus:\n",
    "    raise ValueError(\"The input file is empty or contains no valid text.\")\n",
    "\n",
    "\n",
    "\n",
    "# import the ES two-column query history \n",
    "#query_history_file=\"/kaggle/input/es-query-history/es-query-history-v25.txt\"\n",
    "#column_names = ['queries', 'volume']\n",
    "#es_df = pd.read_csv(\n",
    "#    query_history_file,\n",
    "#    sep =\"\\t\",\n",
    "#    names=column_names,\n",
    "#    header=None\n",
    "#)\n",
    "\n",
    "print(\"This step took --- %.1f seconds ---\" % (time.time() - start_time))"
   ]
  },
  {
   "cell_type": "code",
   "execution_count": 3,
   "id": "c80c6496",
   "metadata": {
    "execution": {
     "iopub.execute_input": "2025-02-12T11:33:11.028682Z",
     "iopub.status.busy": "2025-02-12T11:33:11.028297Z",
     "iopub.status.idle": "2025-02-12T11:39:18.887162Z",
     "shell.execute_reply": "2025-02-12T11:39:18.885919Z"
    },
    "papermill": {
     "duration": 367.866107,
     "end_time": "2025-02-12T11:39:18.890455",
     "exception": false,
     "start_time": "2025-02-12T11:33:11.024348",
     "status": "completed"
    },
    "tags": []
   },
   "outputs": [
    {
     "name": "stdout",
     "output_type": "stream",
     "text": [
      "This step took --- 367.9 seconds ---\n"
     ]
    }
   ],
   "source": [
    "start_time = time.time()\n",
    "# Step 2: Train a Word2Vec model on the tokenized corpus\n",
    "model = Word2Vec(sentences=tokenized_corpus, vector_size=100, window=5, min_count=1, workers=4)\n",
    "\n",
    "# Extract the vocabulary words from the model.\n",
    "words = list(model.wv.index_to_key)\n",
    "#print(\"Vocabulary:\", words)\n",
    "\n",
    "print(\"This step took --- %.1f seconds ---\" % (time.time() - start_time))"
   ]
  },
  {
   "cell_type": "code",
   "execution_count": 4,
   "id": "c6c8db16",
   "metadata": {
    "execution": {
     "iopub.execute_input": "2025-02-12T11:39:18.897910Z",
     "iopub.status.busy": "2025-02-12T11:39:18.897502Z",
     "iopub.status.idle": "2025-02-12T11:39:20.858896Z",
     "shell.execute_reply": "2025-02-12T11:39:20.857703Z"
    },
    "papermill": {
     "duration": 1.967538,
     "end_time": "2025-02-12T11:39:20.861003",
     "exception": false,
     "start_time": "2025-02-12T11:39:18.893465",
     "status": "completed"
    },
    "tags": []
   },
   "outputs": [],
   "source": [
    "# Step 3: Extract the corresponding word embeddings\n",
    "word_vectors = np.array([model.wv[word] for word in words])\n",
    "\n"
   ]
  },
  {
   "cell_type": "code",
   "execution_count": 5,
   "id": "30b0ca87",
   "metadata": {
    "execution": {
     "iopub.execute_input": "2025-02-12T11:39:20.871506Z",
     "iopub.status.busy": "2025-02-12T11:39:20.871110Z",
     "iopub.status.idle": "2025-02-12T11:50:00.280363Z",
     "shell.execute_reply": "2025-02-12T11:50:00.276538Z"
    },
    "papermill": {
     "duration": 639.418789,
     "end_time": "2025-02-12T11:50:00.282920",
     "exception": false,
     "start_time": "2025-02-12T11:39:20.864131",
     "status": "completed"
    },
    "tags": []
   },
   "outputs": [
    {
     "name": "stdout",
     "output_type": "stream",
     "text": [
      "This step took --- 639.4 seconds ---\n"
     ]
    }
   ],
   "source": [
    "start_time = time.time()\n",
    "# Step 4: Use K-Means clustering to cluster the word embeddings into a predefined number of clusters.\n",
    "num_clusters = 1000  # Trial and error suggests 2000 is good compromise to produce 3 or 4 in each.\n",
    "kmeans = KMeans(n_clusters=num_clusters, random_state=42, n_init='auto')\n",
    "kmeans.fit(word_vectors)\n",
    "labels = kmeans.labels_\n",
    "\n",
    "# Organize words by their assigned cluster.\n",
    "clusters = {}\n",
    "for word, label in zip(words, labels):\n",
    "    clusters.setdefault(label, []).append(word)\n",
    "\n",
    "print(\"This step took --- %.1f seconds ---\" % (time.time() - start_time))"
   ]
  },
  {
   "cell_type": "code",
   "execution_count": 6,
   "id": "658da605",
   "metadata": {
    "execution": {
     "iopub.execute_input": "2025-02-12T11:50:00.292317Z",
     "iopub.status.busy": "2025-02-12T11:50:00.291720Z",
     "iopub.status.idle": "2025-02-12T11:50:00.301522Z",
     "shell.execute_reply": "2025-02-12T11:50:00.299735Z"
    },
    "papermill": {
     "duration": 0.018291,
     "end_time": "2025-02-12T11:50:00.304437",
     "exception": false,
     "start_time": "2025-02-12T11:50:00.286146",
     "status": "completed"
    },
    "tags": []
   },
   "outputs": [
    {
     "name": "stdout",
     "output_type": "stream",
     "text": [
      "Cluster containing 'geology': ['geography', 'botany', 'geology', 'zoology']\n"
     ]
    }
   ],
   "source": [
    "# Step 5: Print out the clusters.\n",
    "#for cluster_id, word_list in clusters.items():\n",
    "#    print(f\"Cluster {cluster_id}: {word_list}\")\n",
    "target_word = \"geology\"  # Change this to the word you want to look up.\n",
    "\n",
    "if target_word in words:\n",
    "    # Find the label for the target word.\n",
    "    target_index = words.index(target_word)\n",
    "    target_label = labels[target_index]\n",
    "    \n",
    "    # Print out the cluster that contains the target word.\n",
    "    print(f\"Cluster containing '{target_word}': {clusters[target_label]}\")\n",
    "else:\n",
    "    print(f\"'{target_word}' not found in the vocabulary.\")\n"
   ]
  },
  {
   "cell_type": "code",
   "execution_count": 7,
   "id": "38e26252",
   "metadata": {
    "execution": {
     "iopub.execute_input": "2025-02-12T11:50:00.312700Z",
     "iopub.status.busy": "2025-02-12T11:50:00.312082Z",
     "iopub.status.idle": "2025-02-12T11:50:00.320812Z",
     "shell.execute_reply": "2025-02-12T11:50:00.319264Z"
    },
    "papermill": {
     "duration": 0.015156,
     "end_time": "2025-02-12T11:50:00.322902",
     "exception": false,
     "start_time": "2025-02-12T11:50:00.307746",
     "status": "completed"
    },
    "tags": []
   },
   "outputs": [
    {
     "name": "stdout",
     "output_type": "stream",
     "text": [
      "Cluster containing 'vacancies': ['cap', 'casual', 'vacancies', 'farmer', 'likewise', 'bid', 'convenience', 'deductions', 'investor', 'donation', 'quotas', 'redistribution', 'gms', 'franc', 'euros', 'ryanair', 'privately', 'giips', 'liberalisation', 'incumbent', 'subscriptions', 'wholesale', 'arbitrage', 'contracting', 'vouchers', 'fines', 'sme', 'gifts', 'exporting', 'marketplace', 'usd', 'announces', 'sponsorship', 'sterling', 'endowments', 'clearing', 'earning', 'buyers', 'unlimited', 'collateral', 'creditors', 'inward', 'refunded', 'rents', 'shortages', 'amounted', 'lenders', 'unrestricted', 'jobseekers', 'bursaries', 'exporters', 'preferential', 'tenants', 'loyalty', 'traders', 'borrowers', 'imposing', 'unconditional', 'landlords', 'deregulation', 'acquisitions', 'tenant', 'beneficiaries', 'inflow', 'sellers', 'brokers', 'reallocation', 'profitability', 'relocation', 'reservations', 'denominated', 'costing', 'trader', 'substitutes', 'exemptions', 'freeze', 'salaries', 'insecure', 'revaluation', 'indefinitely', 'trades', 'mortgages', 'inventions', 'subsistence', 'amortisation', 'availing', 'outflows', 'visas', 'auctions', 'shareholders', 'bids', 'borrower', 'luxury', 'prsa', 'insurers', 'fao', 'ledger', 'hedge', 'decoupled', 'frictions', 'dividend', 'fare', 'monies', 'benefactions', 'merchants', 'billions', 'priced', 'shareholder', 'recruiters', 'lender', 'overtime', 'subsidised', 'servicing', 'sizeable', 'unsecured', 'beneficiary', 'affordability', 'remittances', 'autarky', 'miners', 'lieu', 'landlord', 'shortfall', 'cryptocurrency', 'bidding', 'dispensation', 'debtors', 'valuations', 'issuance', 'trillion', 'liberalization', 'incentivised', 'accrued', 'discretionary', 'leases', 'freelancers', 'competitor', 'taxpayers', 'repayment', 'abolition', 'ldcs', 'emoluments', 'domestically', 'backlog', 'surpluses', 'overcrowding', 'prohibit', 'bidders', 'equities', 'vhi', 'accruing', 'nancial', 'havens', 'groceries', 'actuarial', 'opec', 'advertisers', 'cheques', 'laundering', 'dividends', 'incumbents', 'intermediaries', 'ipos', 'bequests', 'irel', 'debtor', 'tightening', 'overdue', 'renters', 'retirees', 'owed', 'prohibitive', 'expropriation', 'cheapest', 'tradeable', 'concessions', 'payer', 'premia', 'renting', 'leasing', 'repay', 'dormant', 'incurring', 'exporter', 'disposals', 'bailout', 'tenders', 'dollarization', 'taxpayer', 'vcs', 'invoice', 'upfront', 'homeowners', 'affiliates', 'ioer', 'devaluation', 'withdrawals', 'discounts', 'premiums', 'deductible', 'mncs', 'diversified', 'takeover', 'saver', 'creditor', 'taxable', 'indebtedness', 'insolvency', 'isps', 'capitalists', 'paye', 'debtt', 'boeing', 'lucrative', 'manufactures', 'interbank', 'notional', 'subsidized', 'reliefs', 'tcard', 'eft', 'booms', 'hoarding', 'invoices', 'betting', 'resale', 'bitcoins', 'postage', 'stipends', 'ftes', 'earmarked', 'payers', 'repayments', 'ket', 'cents', 'depositors', 'disutility', 'communis', 'remittance', 'tsb', 'royalties', 'occupiers', 'sepa', 'importers', 'avcs', 'crunch', 'invoicing', 'royalty', 'savers', 'repayable', 'cista', 'glut', 'illiquid', 'mmfs', 'bonuses', 'importer', 'ernment', 'meur', 'tradesmen', 'disbursement', 'supernormal']\n"
     ]
    }
   ],
   "source": [
    "# Step 5: Print out the clusters.\n",
    "#for cluster_id, word_list in clusters.items():\n",
    "#    print(f\"Cluster {cluster_id}: {word_list}\")\n",
    "target_word = \"vacancies\"  # Change this to the word you want to look up.\n",
    "\n",
    "if target_word in words:\n",
    "    # Find the label for the target word.\n",
    "    target_index = words.index(target_word)\n",
    "    target_label = labels[target_index]\n",
    "    \n",
    "    # Print out the cluster that contains the target word.\n",
    "    print(f\"Cluster containing '{target_word}': {clusters[target_label]}\")\n",
    "else:\n",
    "    print(f\"'{target_word}' not found in the vocabulary.\")\n"
   ]
  },
  {
   "cell_type": "markdown",
   "id": "bfba5a61",
   "metadata": {
    "papermill": {
     "duration": 0.003133,
     "end_time": "2025-02-12T11:50:00.329543",
     "exception": false,
     "start_time": "2025-02-12T11:50:00.326410",
     "status": "completed"
    },
    "tags": []
   },
   "source": [
    "# Elbow Method\n",
    "\n",
    "The Elbow method involves plotting the objective value against various values of k. The goal is to identify the 'elbow point' where increasing k yields diminishing returns in performance. While this method is widely used, it can be subjective and may not always provide a clear answer.\n",
    "\n",
    "\n",
    "k=100\n",
    "Cluster containing 'geology': ['si', 'water', 'novel', 'highly', 'effects', 'single', 'attention', 'effect', 'metal', 'dna', 'food', 'investigation', 'large', 'series', 'pain', 'scale', 'induced', 'spectroscopy', 'power', 'electrochemical', 'light', 'chiral', 'elguero', 'reactions', 'sea', 'surfaces', 'cell', 'electron', 'loss', 'brown', 'nanowires', 'phase', 'fetal', 'microscopy', 'magnetic', 'crystal', 'devices', 'geology', 'films', 'enhanced', 'permit', 'derivatives', 'cost', 'resolution', 'cl', 'hydrogen', 'species', 'ru', 'structures', 'reaction', 'silver', 'polymer', 'visual', 'oxide', 'observational', 'alkorta', 'poor', 'evolution', 'cells', 'ap', 'controlled', 'dynamics', 'growth', 'ruthenium', 'diseases', 'mapping', 'nanotubes', 'bulletin', 'inflammatory', 'solution', 'imaging', 'compounds', 'laser', 'rate', 'gold', 'nanoscale', 'graphene', 'scanning', 'latin', 'iv', 'ar', 'anti', 'ward', 'structural', 'formation', 'freshwater', 'clothing', 'silicon', 'phys', 'acid', 'ion', 'micro', 'bound', 'countr1ow', 'nanoparticle', 'mo', 'bond', 'spatial', 'african', 'liquid', 'catalysts', 'containing', 'thin', 'efficient', 'dot', 'double', 'unwin', 'mediated', 'ray', 'freud', 'spectroscopic', 'substituted', 'nanowire', 'bis', 'cdte', 'absorption', 'forest', 'composites', 'poly', 'roman', 'kim', 'porous', 'transient', 'gaponik', 'resonance', 'ag', 'oliver', 'sarah', 'feeling']\n",
    "\n",
    "\n",
    "\n",
    "k=1000 and percent=0.01\n",
    "Cluster containing 'geology': ['series', 'inorganic', 'childhood', 'earth', 'geology', 'plant']\n",
    "\n",
    "\n",
    "k=1000 and percent=0.05\n",
    "Cluster containing 'geology': ['medicine', 'botany', 'geology', 'genetics', 'pharmacy', 'faculty', 'humanities', 'microbiology', 'mathematics', 'histories', 'biochemistry', 'sociology', 'biomedical', 'zoology']\n",
    "\n",
    "\n",
    "k=1000 and percent=0.1 \n",
    "Cluster containing 'geology': ['botany', 'microbiology', 'geology', 'genetics', 'immunology', 'biochemistry', 'zoology']\n",
    "\n",
    "k=1000 and percent=0.5 (i.e. 50%)\n",
    "Cluster containing 'geology': ['geography', 'geology', 'botany', 'zoology']\n",
    "\n",
    "k=1000 and percent=1.0 (i.e. 100%)\n",
    "Cluster containing 'geology': ['earth', 'geology', 'coronal', 'corona', 'dating', 'rocks', 'astronomy', 'carboniferous', 'atmospheric', 'giant', 'mineral', 'stellar', 'quaternary', 'extinction', 'universe', 'terrestrial', 'sediment', 'vegetation', 'oceans', 'mantle', 'planetary', 'offshore', 'zircon', 'apatite', 'sedimentary', 'climatic', 'geophysical', 'isotope', 'geochemistry', 'volcanic', 'winds', 'karst', 'planets', 'crust', 'geomorphology', 'sediments', 'glacial', 'metamorphism', 'igneous', 'metamorphic', 'geochemical', 'oceanic', 'magma', 'jurassic', 'tectonic', 'holocene', 'triassic', 'magmatic']\n",
    "\n",
    "k=2000 and 100%\n",
    "Cluster containing 'geology': ['botany', 'geology', 'zoology']\n",
    "\n",
    "k=1000 and 100% \n",
    "Cluster containing 'geology': ['botany', 'geology', 'zoology']\n",
    "\n",
    "k=2000 and 100% dimensions = 200\n",
    "Cluster containing 'geology': ['botany', 'geology', 'museum', 'zoology', 'geological', 'fagel', 'garden', 'gardens', 'herbarium', 'botanic', 'botanical']\n",
    "\n",
    "k=3000 and 100% dimensions = 200\n",
    "Cluster containing 'geology': ['geology']\n",
    "\n",
    "k=1500 and 100% dimensions = 200\n",
    "Cluster containing 'geology': ['tr', 'geography', 'geology', 'nanoscience', 'geoscience', 'ggu']\n",
    "\n",
    "k=1500 and 100% dimensions = 50\n",
    "Cluster containing 'geology': ['humanities', 'geography', 'botany', 'geology', 'zoology']\n",
    "\n",
    "k=3000 and 100% dimensions = 50\n",
    "\n",
    "\n",
    "\n",
    "\n",
    "\n"
   ]
  }
 ],
 "metadata": {
  "kaggle": {
   "accelerator": "none",
   "dataSources": [
    {
     "datasetId": 4462893,
     "sourceId": 7714034,
     "sourceType": "datasetVersion"
    },
    {
     "datasetId": 6633641,
     "sourceId": 10703912,
     "sourceType": "datasetVersion"
    }
   ],
   "dockerImageVersionId": 30886,
   "isGpuEnabled": false,
   "isInternetEnabled": true,
   "language": "python",
   "sourceType": "notebook"
  },
  "kernelspec": {
   "display_name": "Python 3",
   "language": "python",
   "name": "python3"
  },
  "language_info": {
   "codemirror_mode": {
    "name": "ipython",
    "version": 3
   },
   "file_extension": ".py",
   "mimetype": "text/x-python",
   "name": "python",
   "nbconvert_exporter": "python",
   "pygments_lexer": "ipython3",
   "version": "3.10.12"
  },
  "papermill": {
   "default_parameters": {},
   "duration": 1201.297865,
   "end_time": "2025-02-12T11:50:03.960518",
   "environment_variables": {},
   "exception": null,
   "input_path": "__notebook__.ipynb",
   "output_path": "__notebook__.ipynb",
   "parameters": {},
   "start_time": "2025-02-12T11:30:02.662653",
   "version": "2.6.0"
  }
 },
 "nbformat": 4,
 "nbformat_minor": 5
}
