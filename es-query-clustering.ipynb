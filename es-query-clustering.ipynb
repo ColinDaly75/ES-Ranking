{
 "cells": [
  {
   "cell_type": "code",
   "execution_count": 1,
   "id": "e682bd3f",
   "metadata": {
    "_cell_guid": "b1076dfc-b9ad-4769-8c92-a6c4dae69d19",
    "_uuid": "8f2839f25d086af736a60e9eeb907d3b93b6e0e5",
    "execution": {
     "iopub.execute_input": "2025-02-10T08:42:17.476012Z",
     "iopub.status.busy": "2025-02-10T08:42:17.475531Z",
     "iopub.status.idle": "2025-02-10T08:42:38.102784Z",
     "shell.execute_reply": "2025-02-10T08:42:38.101022Z"
    },
    "papermill": {
     "duration": 20.633956,
     "end_time": "2025-02-10T08:42:38.104986",
     "exception": false,
     "start_time": "2025-02-10T08:42:17.471030",
     "status": "completed"
    },
    "tags": []
   },
   "outputs": [
    {
     "name": "stdout",
     "output_type": "stream",
     "text": [
      "/kaggle/input/es-query-history/ws-query-history-v25.txt\n",
      "/kaggle/input/es-query-history/es-query-history-v25.txt\n",
      "/kaggle/input/tcd-corpus/TCD_All_Micro.txt\n"
     ]
    }
   ],
   "source": [
    "import numpy as np # linear algebra\n",
    "import pandas as pd # data processing, CSV file I/O (e.g. pd.read_csv)\n",
    "import time\n",
    "import os\n",
    "\n",
    "from gensim.models import Word2Vec\n",
    "from gensim.utils import simple_preprocess\n",
    "from sklearn.cluster import KMeans\n",
    "\n",
    "\n",
    "for dirname, _, filenames in os.walk('/kaggle/input'):\n",
    "    for filename in filenames:\n",
    "        print(os.path.join(dirname, filename))\n",
    "\n"
   ]
  },
  {
   "cell_type": "code",
   "execution_count": 2,
   "id": "806dafee",
   "metadata": {
    "execution": {
     "iopub.execute_input": "2025-02-10T08:42:38.112365Z",
     "iopub.status.busy": "2025-02-10T08:42:38.111580Z",
     "iopub.status.idle": "2025-02-10T08:45:20.111284Z",
     "shell.execute_reply": "2025-02-10T08:45:20.109812Z"
    },
    "papermill": {
     "duration": 162.007838,
     "end_time": "2025-02-10T08:45:20.115905",
     "exception": false,
     "start_time": "2025-02-10T08:42:38.108067",
     "status": "completed"
    },
    "tags": []
   },
   "outputs": [
    {
     "name": "stdout",
     "output_type": "stream",
     "text": [
      "This step took --- 162.0 seconds ---\n"
     ]
    }
   ],
   "source": [
    "start_time = time.time()\n",
    "\n",
    "# Step 1: Read the corpus from the file \n",
    "#with open(\"/kaggle/input/es-query-history/es-query-history-v25.txt\", \"r\", encoding=\"utf-8\") as file:\n",
    "\n",
    "with open(\"/kaggle/input/tcd-corpus/TCD_All_Micro.txt\", \"r\", encoding=\"utf-8\") as file:\n",
    "    all_lines = file.readlines()  # Read all lines from the file\n",
    "    percent_count = int(len(all_lines) * 1.0 )  # quick run:  get n% of the total number of lines\n",
    "    lines = all_lines[:percent_count]          # quick run: keep only the first n% of lines\n",
    "\n",
    "\n",
    "\n",
    "# Remove any empty lines and preprocess each line into tokens\n",
    "tokenized_corpus = [simple_preprocess(line) for line in lines if line.strip()]\n",
    "\n",
    "# Check if we have any data\n",
    "if not tokenized_corpus:\n",
    "    raise ValueError(\"The input file is empty or contains no valid text.\")\n",
    "\n",
    "\n",
    "\n",
    "# import the ES two-column query history \n",
    "#query_history_file=\"/kaggle/input/es-query-history/es-query-history-v25.txt\"\n",
    "#column_names = ['queries', 'volume']\n",
    "#es_df = pd.read_csv(\n",
    "#    query_history_file,\n",
    "#    sep =\"\\t\",\n",
    "#    names=column_names,\n",
    "#    header=None\n",
    "#)\n",
    "\n",
    "print(\"This step took --- %.1f seconds ---\" % (time.time() - start_time))"
   ]
  },
  {
   "cell_type": "code",
   "execution_count": 3,
   "id": "55c69f83",
   "metadata": {
    "execution": {
     "iopub.execute_input": "2025-02-10T08:45:20.123297Z",
     "iopub.status.busy": "2025-02-10T08:45:20.122828Z",
     "iopub.status.idle": "2025-02-10T08:51:44.532682Z",
     "shell.execute_reply": "2025-02-10T08:51:44.531381Z"
    },
    "papermill": {
     "duration": 384.417278,
     "end_time": "2025-02-10T08:51:44.536184",
     "exception": false,
     "start_time": "2025-02-10T08:45:20.118906",
     "status": "completed"
    },
    "tags": []
   },
   "outputs": [
    {
     "name": "stdout",
     "output_type": "stream",
     "text": [
      "This step took --- 384.4 seconds ---\n"
     ]
    }
   ],
   "source": [
    "start_time = time.time()\n",
    "# Step 2: Train a Word2Vec model on the tokenized corpus\n",
    "model = Word2Vec(sentences=tokenized_corpus, vector_size=100, window=5, min_count=1, workers=4)\n",
    "\n",
    "# Extract the vocabulary words from the model.\n",
    "words = list(model.wv.index_to_key)\n",
    "#print(\"Vocabulary:\", words)\n",
    "\n",
    "print(\"This step took --- %.1f seconds ---\" % (time.time() - start_time))"
   ]
  },
  {
   "cell_type": "code",
   "execution_count": 4,
   "id": "e8bc1891",
   "metadata": {
    "execution": {
     "iopub.execute_input": "2025-02-10T08:51:44.543809Z",
     "iopub.status.busy": "2025-02-10T08:51:44.543358Z",
     "iopub.status.idle": "2025-02-10T08:51:46.546828Z",
     "shell.execute_reply": "2025-02-10T08:51:46.545640Z"
    },
    "papermill": {
     "duration": 2.009767,
     "end_time": "2025-02-10T08:51:46.549005",
     "exception": false,
     "start_time": "2025-02-10T08:51:44.539238",
     "status": "completed"
    },
    "tags": []
   },
   "outputs": [],
   "source": [
    "# Step 3: Extract the corresponding word embeddings\n",
    "word_vectors = np.array([model.wv[word] for word in words])\n",
    "\n"
   ]
  },
  {
   "cell_type": "code",
   "execution_count": 5,
   "id": "241fdad7",
   "metadata": {
    "execution": {
     "iopub.execute_input": "2025-02-10T08:51:46.559107Z",
     "iopub.status.busy": "2025-02-10T08:51:46.558669Z",
     "iopub.status.idle": "2025-02-10T09:10:09.018007Z",
     "shell.execute_reply": "2025-02-10T09:10:09.016527Z"
    },
    "papermill": {
     "duration": 1102.470434,
     "end_time": "2025-02-10T09:10:09.022651",
     "exception": false,
     "start_time": "2025-02-10T08:51:46.552217",
     "status": "completed"
    },
    "tags": []
   },
   "outputs": [
    {
     "name": "stdout",
     "output_type": "stream",
     "text": [
      "This step took --- 1102.5 seconds ---\n"
     ]
    }
   ],
   "source": [
    "start_time = time.time()\n",
    "# Step 4: Use K-Means clustering to cluster the word embeddings into a predefined number of clusters.\n",
    "num_clusters = 2000  # Trial and error suggests 2000 is good compromise to produce 3 or 4 in each.\n",
    "kmeans = KMeans(n_clusters=num_clusters, random_state=42, n_init='auto')\n",
    "kmeans.fit(word_vectors)\n",
    "labels = kmeans.labels_\n",
    "\n",
    "# Organize words by their assigned cluster.\n",
    "clusters = {}\n",
    "for word, label in zip(words, labels):\n",
    "    clusters.setdefault(label, []).append(word)\n",
    "\n",
    "print(\"This step took --- %.1f seconds ---\" % (time.time() - start_time))"
   ]
  },
  {
   "cell_type": "code",
   "execution_count": 6,
   "id": "f5f8a0ca",
   "metadata": {
    "execution": {
     "iopub.execute_input": "2025-02-10T09:10:09.030680Z",
     "iopub.status.busy": "2025-02-10T09:10:09.030239Z",
     "iopub.status.idle": "2025-02-10T09:10:09.037681Z",
     "shell.execute_reply": "2025-02-10T09:10:09.036035Z"
    },
    "papermill": {
     "duration": 0.013971,
     "end_time": "2025-02-10T09:10:09.039865",
     "exception": false,
     "start_time": "2025-02-10T09:10:09.025894",
     "status": "completed"
    },
    "tags": []
   },
   "outputs": [
    {
     "name": "stdout",
     "output_type": "stream",
     "text": [
      "Cluster containing 'geology': ['botany', 'geology', 'zoology', 'crann', 'nanoscience', 'astrophysics', 'magnetism', 'astronomy']\n"
     ]
    }
   ],
   "source": [
    "# Step 5: Print out the clusters.\n",
    "#for cluster_id, word_list in clusters.items():\n",
    "#    print(f\"Cluster {cluster_id}: {word_list}\")\n",
    "target_word = \"geology\"  # Change this to the word you want to look up.\n",
    "\n",
    "if target_word in words:\n",
    "    # Find the label for the target word.\n",
    "    target_index = words.index(target_word)\n",
    "    target_label = labels[target_index]\n",
    "    \n",
    "    # Print out the cluster that contains the target word.\n",
    "    print(f\"Cluster containing '{target_word}': {clusters[target_label]}\")\n",
    "else:\n",
    "    print(f\"'{target_word}' not found in the vocabulary.\")\n"
   ]
  },
  {
   "cell_type": "code",
   "execution_count": 7,
   "id": "668433c8",
   "metadata": {
    "execution": {
     "iopub.execute_input": "2025-02-10T09:10:09.047992Z",
     "iopub.status.busy": "2025-02-10T09:10:09.047518Z",
     "iopub.status.idle": "2025-02-10T09:10:09.054850Z",
     "shell.execute_reply": "2025-02-10T09:10:09.053331Z"
    },
    "papermill": {
     "duration": 0.013226,
     "end_time": "2025-02-10T09:10:09.056568",
     "exception": false,
     "start_time": "2025-02-10T09:10:09.043342",
     "status": "completed"
    },
    "tags": []
   },
   "outputs": [
    {
     "name": "stdout",
     "output_type": "stream",
     "text": [
      "Cluster containing 'jobs': ['job', 'labour', 'permanent', 'jobs', 'labor', 'skilled', 'workforce', 'occupations', 'unemployed', 'unskilled']\n"
     ]
    }
   ],
   "source": [
    "# Step 5: Print out the clusters.\n",
    "#for cluster_id, word_list in clusters.items():\n",
    "#    print(f\"Cluster {cluster_id}: {word_list}\")\n",
    "target_word = \"jobs\"  # Change this to the word you want to look up.\n",
    "\n",
    "if target_word in words:\n",
    "    # Find the label for the target word.\n",
    "    target_index = words.index(target_word)\n",
    "    target_label = labels[target_index]\n",
    "    \n",
    "    # Print out the cluster that contains the target word.\n",
    "    print(f\"Cluster containing '{target_word}': {clusters[target_label]}\")\n",
    "else:\n",
    "    print(f\"'{target_word}' not found in the vocabulary.\")\n"
   ]
  }
 ],
 "metadata": {
  "kaggle": {
   "accelerator": "none",
   "dataSources": [
    {
     "datasetId": 4462893,
     "sourceId": 7714034,
     "sourceType": "datasetVersion"
    },
    {
     "datasetId": 6633641,
     "sourceId": 10703912,
     "sourceType": "datasetVersion"
    }
   ],
   "dockerImageVersionId": 30886,
   "isGpuEnabled": false,
   "isInternetEnabled": true,
   "language": "python",
   "sourceType": "notebook"
  },
  "kernelspec": {
   "display_name": "Python 3",
   "language": "python",
   "name": "python3"
  },
  "language_info": {
   "codemirror_mode": {
    "name": "ipython",
    "version": 3
   },
   "file_extension": ".py",
   "mimetype": "text/x-python",
   "name": "python",
   "nbconvert_exporter": "python",
   "pygments_lexer": "ipython3",
   "version": "3.10.12"
  },
  "papermill": {
   "default_parameters": {},
   "duration": 1678.341489,
   "end_time": "2025-02-10T09:10:12.889302",
   "environment_variables": {},
   "exception": null,
   "input_path": "__notebook__.ipynb",
   "output_path": "__notebook__.ipynb",
   "parameters": {},
   "start_time": "2025-02-10T08:42:14.547813",
   "version": "2.6.0"
  }
 },
 "nbformat": 4,
 "nbformat_minor": 5
}
