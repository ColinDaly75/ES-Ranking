{
 "cells": [
  {
   "cell_type": "markdown",
   "id": "0dbda7e6",
   "metadata": {
    "papermill": {
     "duration": 0.007236,
     "end_time": "2025-06-07T10:33:22.018125",
     "exception": false,
     "start_time": "2025-06-07T10:33:22.010889",
     "status": "completed"
    },
    "tags": []
   },
   "source": [
    "# **Evaluating the impact of the JARGES ranking feature**\n",
    " \n",
    "* [Introduction](#introduction)\n",
    "* [Loading the ES dataset](#Loading)\n",
    "* [Ranking Performance (without JARGES)](#RankingPerformanceWithout)\n",
    "* [Ranking Performance (with JARGES)](#RankingPerformanceWith)\n",
    "* [Ranking Performance with JARGES](#NewPlot)\n",
    "* [Significance Test](#SignificanceTest)\n",
    "* [Conclusion](#Conclusion)"
   ]
  },
  {
   "cell_type": "code",
   "execution_count": 1,
   "id": "31614056",
   "metadata": {
    "_cell_guid": "b1076dfc-b9ad-4769-8c92-a6c4dae69d19",
    "_uuid": "8f2839f25d086af736a60e9eeb907d3b93b6e0e5",
    "execution": {
     "iopub.execute_input": "2025-06-07T10:33:22.031640Z",
     "iopub.status.busy": "2025-06-07T10:33:22.031264Z",
     "iopub.status.idle": "2025-06-07T10:33:26.557088Z",
     "shell.execute_reply": "2025-06-07T10:33:26.556138Z"
    },
    "papermill": {
     "duration": 4.534288,
     "end_time": "2025-06-07T10:33:26.559116",
     "exception": false,
     "start_time": "2025-06-07T10:33:22.024828",
     "status": "completed"
    },
    "tags": []
   },
   "outputs": [],
   "source": [
    "#Load All Libraries here\n",
    "\n",
    "import numpy as np \n",
    "import pandas as pd \n",
    "\n",
    "import os\n",
    "\n",
    "import matplotlib.pyplot as plt\n",
    "import seaborn as sns\n",
    "from sklearn.ensemble import GradientBoostingRegressor\n",
    "from sklearn.model_selection import GroupKFold\n",
    "from sklearn.metrics import ndcg_score\n",
    "\n",
    "from scipy.stats import ttest_ind"
   ]
  },
  {
   "cell_type": "markdown",
   "id": "878f43c1",
   "metadata": {
    "papermill": {
     "duration": 0.006656,
     "end_time": "2025-06-07T10:33:26.571481",
     "exception": false,
     "start_time": "2025-06-07T10:33:26.564825",
     "status": "completed"
    },
    "tags": []
   },
   "source": [
    "# **Introduction**  <a class=\"anchor\"  id=\"introduction\"></a>\n",
    "\n",
    "The objective of this experimentstudy is to determine the relative weights for each of the\n",
    "LTR features (OBJ-1) in the ENTRP-SRCH dataset. The ablation process involves removing\n",
    "a feature, which allows direct observation how its absence affects model performance, confirming its true importance. An ablation study also provides insights into the redundancy,\n",
    "and interactions between features.\n"
   ]
  },
  {
   "cell_type": "markdown",
   "id": "30911b3f",
   "metadata": {
    "papermill": {
     "duration": 0.004863,
     "end_time": "2025-06-07T10:33:26.581509",
     "exception": false,
     "start_time": "2025-06-07T10:33:26.576646",
     "status": "completed"
    },
    "tags": []
   },
   "source": [
    "# **Loading the ENTRP-SRCH dataset**  <a class=\"anchor\"  id=\"Loading\"></a>\n",
    "\n",
    "This is the dataset first published as part of Paper I “Learning to Rank: Performance and Practical Barriers to Deployment in Enterprise Search.” \n"
   ]
  },
  {
   "cell_type": "code",
   "execution_count": 2,
   "id": "1bbb1ab5",
   "metadata": {
    "execution": {
     "iopub.execute_input": "2025-06-07T10:33:26.593527Z",
     "iopub.status.busy": "2025-06-07T10:33:26.592955Z",
     "iopub.status.idle": "2025-06-07T10:33:26.598031Z",
     "shell.execute_reply": "2025-06-07T10:33:26.597044Z"
    },
    "papermill": {
     "duration": 0.013095,
     "end_time": "2025-06-07T10:33:26.599694",
     "exception": false,
     "start_time": "2025-06-07T10:33:26.586599",
     "status": "completed"
    },
    "tags": []
   },
   "outputs": [],
   "source": [
    "#for dirname, _, filenames in os.walk('/kaggle/input'):\n",
    "#    for filename in filenames:\n",
    "#        print(os.path.join(dirname, filename))\n",
    "\n",
    "dataset_file=\"/kaggle/input/entrp-srch/ENTRP-SRCH-v14.txt\""
   ]
  },
  {
   "cell_type": "code",
   "execution_count": 3,
   "id": "885170a5",
   "metadata": {
    "execution": {
     "iopub.execute_input": "2025-06-07T10:33:26.611520Z",
     "iopub.status.busy": "2025-06-07T10:33:26.611163Z",
     "iopub.status.idle": "2025-06-07T10:33:26.615293Z",
     "shell.execute_reply": "2025-06-07T10:33:26.614517Z"
    },
    "papermill": {
     "duration": 0.012046,
     "end_time": "2025-06-07T10:33:26.616982",
     "exception": false,
     "start_time": "2025-06-07T10:33:26.604936",
     "status": "completed"
    },
    "tags": []
   },
   "outputs": [],
   "source": [
    "#!head -10 /kaggle/input/entrp-srch/dataset-with-urls.txt"
   ]
  },
  {
   "cell_type": "markdown",
   "id": "7f654cb9",
   "metadata": {
    "papermill": {
     "duration": 0.004827,
     "end_time": "2025-06-07T10:33:26.627115",
     "exception": false,
     "start_time": "2025-06-07T10:33:26.622288",
     "status": "completed"
    },
    "tags": []
   },
   "source": [
    "# **Ranking Performance (without JARGES)**  <a class=\"anchor\"  id=\"RankingPerformanceWithout\"></a>\n",
    "\n",
    "Before carrying out an Ablation Study, the overall ranking statistics (nDCG) must be computed.  K-Folds are used to ensure no overfitting."
   ]
  },
  {
   "cell_type": "code",
   "execution_count": 4,
   "id": "49381ef8",
   "metadata": {
    "execution": {
     "iopub.execute_input": "2025-06-07T10:33:26.639071Z",
     "iopub.status.busy": "2025-06-07T10:33:26.638253Z",
     "iopub.status.idle": "2025-06-07T10:33:26.645548Z",
     "shell.execute_reply": "2025-06-07T10:33:26.644561Z"
    },
    "papermill": {
     "duration": 0.015011,
     "end_time": "2025-06-07T10:33:26.647016",
     "exception": false,
     "start_time": "2025-06-07T10:33:26.632005",
     "status": "completed"
    },
    "tags": []
   },
   "outputs": [],
   "source": [
    "# Parse LETOR format.\n",
    "def parse_letor_data(file_content, num_features=8):\n",
    "    X, y, groups = [], [], []\n",
    "    for line in file_content.strip().split('\\n'):\n",
    "        if not line.strip():\n",
    "            continue\n",
    "        parts = line.split()\n",
    "        relevance = int(parts[0])\n",
    "        qid = int(parts[1].split(':')[1])\n",
    "        features = np.zeros(num_features)\n",
    "        for feat in parts[2:]:\n",
    "            fid, val = feat.split(':')\n",
    "            fid_int = int(fid) - 1\n",
    "            if fid_int < num_features:\n",
    "                features[fid_int] = float(val)\n",
    "        X.append(features)\n",
    "        y.append(relevance)\n",
    "        groups.append(qid)\n",
    "    return np.array(X), np.array(y), np.array(groups)"
   ]
  },
  {
   "cell_type": "code",
   "execution_count": 5,
   "id": "dfcd7735",
   "metadata": {
    "execution": {
     "iopub.execute_input": "2025-06-07T10:33:26.659363Z",
     "iopub.status.busy": "2025-06-07T10:33:26.658331Z",
     "iopub.status.idle": "2025-06-07T10:33:26.691854Z",
     "shell.execute_reply": "2025-06-07T10:33:26.690831Z"
    },
    "papermill": {
     "duration": 0.041558,
     "end_time": "2025-06-07T10:33:26.693771",
     "exception": false,
     "start_time": "2025-06-07T10:33:26.652213",
     "status": "completed"
    },
    "tags": []
   },
   "outputs": [],
   "source": [
    "# Load files\n",
    "with open(dataset_file, \"r\") as f:\n",
    "    file_content = f.read()\n",
    "\n",
    "X, y, groups = parse_letor_data(file_content,8)\n"
   ]
  },
  {
   "cell_type": "code",
   "execution_count": 6,
   "id": "ae3fc0fd",
   "metadata": {
    "execution": {
     "iopub.execute_input": "2025-06-07T10:33:26.705890Z",
     "iopub.status.busy": "2025-06-07T10:33:26.705144Z",
     "iopub.status.idle": "2025-06-07T10:33:27.879868Z",
     "shell.execute_reply": "2025-06-07T10:33:27.878880Z"
    },
    "papermill": {
     "duration": 1.182781,
     "end_time": "2025-06-07T10:33:27.881855",
     "exception": false,
     "start_time": "2025-06-07T10:33:26.699074",
     "status": "completed"
    },
    "tags": []
   },
   "outputs": [],
   "source": [
    "# Setup CV\n",
    "group_kfold = GroupKFold(n_splits=5)\n",
    "ndcg_levels = [1, 3, 5, 10, 20]\n",
    "results = []\n",
    "feature_importances = []\n",
    "\n",
    "for train_idx, test_idx in group_kfold.split(X, y, groups):\n",
    "    X_train, X_test = X[train_idx], X[test_idx]\n",
    "    y_train, y_test = y[train_idx], y[test_idx]\n",
    "    qid_test = groups[test_idx]\n",
    "\n",
    "    model = GradientBoostingRegressor(n_estimators=100, learning_rate=0.1, max_depth=3, random_state=42)\n",
    "    model.fit(X_train, y_train)\n",
    "    y_pred = model.predict(X_test)\n",
    "\n",
    "    # Evaluate by query\n",
    "    ndcg_scores_per_k = {f'NDCG@{k}': [] for k in ndcg_levels}\n",
    "    unique_qids = np.unique(qid_test)\n",
    "    for qid in unique_qids:\n",
    "        mask = qid_test == qid\n",
    "        y_true = y_test[mask].reshape(1, -1)\n",
    "        y_scores = y_pred[mask].reshape(1, -1)\n",
    "        for k in ndcg_levels:\n",
    "            if y_true.shape[1] >= k:\n",
    "                ndcg_scores_per_k[f'NDCG@{k}'].append(ndcg_score(y_true, y_scores, k=k))\n",
    "\n",
    "    fold_result = {k: np.mean(v) for k, v in ndcg_scores_per_k.items()}\n",
    "    results.append(fold_result)\n",
    "    feature_importances.append(model.feature_importances_)\n"
   ]
  },
  {
   "cell_type": "code",
   "execution_count": 7,
   "id": "c93371ff",
   "metadata": {
    "execution": {
     "iopub.execute_input": "2025-06-07T10:33:27.894864Z",
     "iopub.status.busy": "2025-06-07T10:33:27.893909Z",
     "iopub.status.idle": "2025-06-07T10:33:27.911640Z",
     "shell.execute_reply": "2025-06-07T10:33:27.910533Z"
    },
    "papermill": {
     "duration": 0.026003,
     "end_time": "2025-06-07T10:33:27.913268",
     "exception": false,
     "start_time": "2025-06-07T10:33:27.887265",
     "status": "completed"
    },
    "tags": []
   },
   "outputs": [
    {
     "name": "stdout",
     "output_type": "stream",
     "text": [
      "/kaggle/input/entrp-srch/ENTRP-SRCH-v14.txt\n",
      "Mean nDCG@10 without JARGES: 0.9640\n"
     ]
    }
   ],
   "source": [
    "# Create result table\n",
    "results_df = pd.DataFrame(results)\n",
    "avg_scores = results_df.mean()\n",
    "avg_scores.name = 'Average'\n",
    "results_df = pd.concat([results_df, avg_scores.to_frame().T], ignore_index=True)\n",
    "\n",
    "#print(\"\\n NDCG@n Scores Across Folds:\")\n",
    "#print(results_df.round(4))\n",
    "\n",
    "mean_without_jarges = avg_scores.at['NDCG@10']\n",
    "#print (mean_without_jarges)\n",
    "print (dataset_file)\n",
    "print(f\"Mean nDCG@10 without JARGES: {mean_without_jarges:.4f}\")\n"
   ]
  },
  {
   "cell_type": "markdown",
   "id": "5f3b4927",
   "metadata": {
    "papermill": {
     "duration": 0.005041,
     "end_time": "2025-06-07T10:33:27.923973",
     "exception": false,
     "start_time": "2025-06-07T10:33:27.918932",
     "status": "completed"
    },
    "tags": []
   },
   "source": [
    "This approximately matches the scores achived in EXP-1, which used the XGBoost (LambdaMart) framework to compute nDCG"
   ]
  },
  {
   "cell_type": "markdown",
   "id": "53270f7c",
   "metadata": {
    "papermill": {
     "duration": 0.004987,
     "end_time": "2025-06-07T10:33:27.934860",
     "exception": false,
     "start_time": "2025-06-07T10:33:27.929873",
     "status": "completed"
    },
    "tags": []
   },
   "source": [
    "# **Ranking Performance (with JARGES)**  <a class=\"anchor\"  id=\"RankingPerformanceWith\"></a>\n",
    "\n",
    "Add a new column in the LTR format (i.e. COL_NUMBER:VALUE, where column number will be nine and the value will be the pre-computed 'jargony score'). \n"
   ]
  },
  {
   "cell_type": "code",
   "execution_count": 8,
   "id": "6b81be09",
   "metadata": {
    "execution": {
     "iopub.execute_input": "2025-06-07T10:33:27.947325Z",
     "iopub.status.busy": "2025-06-07T10:33:27.946268Z",
     "iopub.status.idle": "2025-06-07T10:33:27.951390Z",
     "shell.execute_reply": "2025-06-07T10:33:27.950403Z"
    },
    "papermill": {
     "duration": 0.013035,
     "end_time": "2025-06-07T10:33:27.952969",
     "exception": false,
     "start_time": "2025-06-07T10:33:27.939934",
     "status": "completed"
    },
    "tags": []
   },
   "outputs": [],
   "source": [
    "dataset_file=\"/kaggle/input/entrp-srch/ENTRP-SRCH-jarges.txt\""
   ]
  },
  {
   "cell_type": "code",
   "execution_count": 9,
   "id": "a45d194b",
   "metadata": {
    "execution": {
     "iopub.execute_input": "2025-06-07T10:33:27.964834Z",
     "iopub.status.busy": "2025-06-07T10:33:27.964491Z",
     "iopub.status.idle": "2025-06-07T10:33:27.999565Z",
     "shell.execute_reply": "2025-06-07T10:33:27.998527Z"
    },
    "papermill": {
     "duration": 0.043479,
     "end_time": "2025-06-07T10:33:28.001795",
     "exception": false,
     "start_time": "2025-06-07T10:33:27.958316",
     "status": "completed"
    },
    "tags": []
   },
   "outputs": [],
   "source": [
    "# 2. Load dataset\n",
    "with open(dataset_file, \"r\") as f:\n",
    "    file_content = f.read()\n",
    "\n",
    "X_full, y_full, groups_full = parse_letor_data(file_content,9)  # ninth feature is jargony"
   ]
  },
  {
   "cell_type": "code",
   "execution_count": 10,
   "id": "331ce530",
   "metadata": {
    "execution": {
     "iopub.execute_input": "2025-06-07T10:33:28.014136Z",
     "iopub.status.busy": "2025-06-07T10:33:28.013793Z",
     "iopub.status.idle": "2025-06-07T10:33:29.180811Z",
     "shell.execute_reply": "2025-06-07T10:33:29.179872Z"
    },
    "papermill": {
     "duration": 1.175259,
     "end_time": "2025-06-07T10:33:29.182616",
     "exception": false,
     "start_time": "2025-06-07T10:33:28.007357",
     "status": "completed"
    },
    "tags": []
   },
   "outputs": [],
   "source": [
    "# Setup CV\n",
    "group_kfold = GroupKFold(n_splits=5)\n",
    "ndcg_levels = [1, 3, 5, 10, 20]\n",
    "results = []\n",
    "feature_importances = []\n",
    "\n",
    "for train_idx, test_idx in group_kfold.split(X, y, groups):\n",
    "    X_train, X_test = X[train_idx], X[test_idx]\n",
    "    y_train, y_test = y[train_idx], y[test_idx]\n",
    "    qid_test = groups[test_idx]\n",
    "\n",
    "    model = GradientBoostingRegressor(n_estimators=100, learning_rate=0.1, max_depth=3, random_state=42)\n",
    "    model.fit(X_train, y_train)\n",
    "    y_pred = model.predict(X_test)\n",
    "\n",
    "    # Evaluate by query\n",
    "    ndcg_scores_per_k = {f'NDCG@{k}': [] for k in ndcg_levels}\n",
    "    unique_qids = np.unique(qid_test)\n",
    "    for qid in unique_qids:\n",
    "        mask = qid_test == qid\n",
    "        y_true = y_test[mask].reshape(1, -1)\n",
    "        y_scores = y_pred[mask].reshape(1, -1)\n",
    "        for k in ndcg_levels:\n",
    "            if y_true.shape[1] >= k:\n",
    "                ndcg_scores_per_k[f'NDCG@{k}'].append(ndcg_score(y_true, y_scores, k=k))\n",
    "\n",
    "    fold_result = {k: np.mean(v) for k, v in ndcg_scores_per_k.items()}\n",
    "    results.append(fold_result)\n",
    "    feature_importances.append(model.feature_importances_)\n"
   ]
  },
  {
   "cell_type": "code",
   "execution_count": 11,
   "id": "498b931e",
   "metadata": {
    "execution": {
     "iopub.execute_input": "2025-06-07T10:33:29.194810Z",
     "iopub.status.busy": "2025-06-07T10:33:29.194404Z",
     "iopub.status.idle": "2025-06-07T10:33:29.203825Z",
     "shell.execute_reply": "2025-06-07T10:33:29.202838Z"
    },
    "papermill": {
     "duration": 0.017232,
     "end_time": "2025-06-07T10:33:29.205195",
     "exception": false,
     "start_time": "2025-06-07T10:33:29.187963",
     "status": "completed"
    },
    "tags": []
   },
   "outputs": [
    {
     "name": "stdout",
     "output_type": "stream",
     "text": [
      "/kaggle/input/entrp-srch/ENTRP-SRCH-jarges.txt\n",
      "Mean nDCG@10 with JARGES: 0.9640\n"
     ]
    }
   ],
   "source": [
    "# Create result table\n",
    "results_df = pd.DataFrame(results)\n",
    "avg_scores = results_df.mean()\n",
    "avg_scores.name = 'Average'\n",
    "results_df = pd.concat([results_df, avg_scores.to_frame().T], ignore_index=True)\n",
    "\n",
    "#print(\"\\n NDCG@n Scores Across Folds:\")\n",
    "#print(results_df.round(4))\n",
    "mean_with_jarges = avg_scores.at['NDCG@10']\n",
    "#print (mean_without_jarges)\n",
    "print (dataset_file)\n",
    "print(f\"Mean nDCG@10 with JARGES: {mean_with_jarges:.4f}\")\n"
   ]
  },
  {
   "cell_type": "markdown",
   "id": "9f1d7b7a",
   "metadata": {
    "papermill": {
     "duration": 0.004995,
     "end_time": "2025-06-07T10:33:29.215700",
     "exception": false,
     "start_time": "2025-06-07T10:33:29.210705",
     "status": "completed"
    },
    "tags": []
   },
   "source": [
    "# **Leave One Out Analysis (Ablation Study)**  <a class=\"anchor\"  id=\"LeaveOneOutPlot\"></a>\n"
   ]
  },
  {
   "cell_type": "code",
   "execution_count": 12,
   "id": "28801a08",
   "metadata": {
    "execution": {
     "iopub.execute_input": "2025-06-07T10:33:29.227268Z",
     "iopub.status.busy": "2025-06-07T10:33:29.226950Z",
     "iopub.status.idle": "2025-06-07T10:33:29.231872Z",
     "shell.execute_reply": "2025-06-07T10:33:29.230949Z"
    },
    "papermill": {
     "duration": 0.012767,
     "end_time": "2025-06-07T10:33:29.233644",
     "exception": false,
     "start_time": "2025-06-07T10:33:29.220877",
     "status": "completed"
    },
    "tags": []
   },
   "outputs": [],
   "source": [
    "# 3. Evaluation settings\n",
    "group_kfold = GroupKFold(n_splits=5)\n",
    "ndcg_levels = [1, 3, 5, 10, 20]"
   ]
  },
  {
   "cell_type": "code",
   "execution_count": 13,
   "id": "2976562c",
   "metadata": {
    "execution": {
     "iopub.execute_input": "2025-06-07T10:33:29.246712Z",
     "iopub.status.busy": "2025-06-07T10:33:29.246361Z",
     "iopub.status.idle": "2025-06-07T10:33:29.254321Z",
     "shell.execute_reply": "2025-06-07T10:33:29.253337Z"
    },
    "papermill": {
     "duration": 0.016435,
     "end_time": "2025-06-07T10:33:29.256152",
     "exception": false,
     "start_time": "2025-06-07T10:33:29.239717",
     "status": "completed"
    },
    "tags": []
   },
   "outputs": [],
   "source": [
    "# 4. NDCG evaluation function\n",
    "def evaluate_model(X, y, groups, ndcg_levels):\n",
    "    results = []\n",
    "    for train_idx, test_idx in group_kfold.split(X, y, groups):\n",
    "        X_train, X_test = X[train_idx], X[test_idx]\n",
    "        y_train, y_test = y[train_idx], y[test_idx]\n",
    "        qid_test = groups[test_idx]\n",
    "\n",
    "        model = GradientBoostingRegressor(n_estimators=100, learning_rate=0.1, max_depth=3, random_state=42)\n",
    "        model.fit(X_train, y_train)\n",
    "        y_pred = model.predict(X_test)\n",
    "\n",
    "        ndcg_scores_per_k = {f'NDCG@{k}': [] for k in ndcg_levels}\n",
    "        for qid in np.unique(qid_test):\n",
    "            mask = qid_test == qid\n",
    "            y_true = y_test[mask].reshape(1, -1)\n",
    "            y_scores = y_pred[mask].reshape(1, -1)\n",
    "            for k in ndcg_levels:\n",
    "                if y_true.shape[1] >= k:\n",
    "                    ndcg_scores_per_k[f'NDCG@{k}'].append(ndcg_score(y_true, y_scores, k=k))\n",
    "\n",
    "        fold_result = {k: np.mean(v) for k, v in ndcg_scores_per_k.items()}\n",
    "        results.append(fold_result)\n",
    "\n",
    "    return pd.DataFrame(results).mean()"
   ]
  },
  {
   "cell_type": "code",
   "execution_count": 14,
   "id": "8442a5cf",
   "metadata": {
    "execution": {
     "iopub.execute_input": "2025-06-07T10:33:29.268423Z",
     "iopub.status.busy": "2025-06-07T10:33:29.268073Z",
     "iopub.status.idle": "2025-06-07T10:33:30.486654Z",
     "shell.execute_reply": "2025-06-07T10:33:30.485706Z"
    },
    "papermill": {
     "duration": 1.226597,
     "end_time": "2025-06-07T10:33:30.488395",
     "exception": false,
     "start_time": "2025-06-07T10:33:29.261798",
     "status": "completed"
    },
    "tags": []
   },
   "outputs": [],
   "source": [
    "# 5. Baseline evaluation with all features\n",
    "base_scores = evaluate_model(X_full, y_full, groups_full, ndcg_levels)\n",
    "jarges_results_df = pd.DataFrame([base_scores], index=[\"All Features\"])\n"
   ]
  },
  {
   "cell_type": "code",
   "execution_count": 15,
   "id": "55d3fd5b",
   "metadata": {
    "execution": {
     "iopub.execute_input": "2025-06-07T10:33:30.500954Z",
     "iopub.status.busy": "2025-06-07T10:33:30.500539Z",
     "iopub.status.idle": "2025-06-07T10:33:30.524306Z",
     "shell.execute_reply": "2025-06-07T10:33:30.523375Z"
    },
    "papermill": {
     "duration": 0.031808,
     "end_time": "2025-06-07T10:33:30.525746",
     "exception": false,
     "start_time": "2025-06-07T10:33:30.493938",
     "status": "completed"
    },
    "tags": []
   },
   "outputs": [
    {
     "data": {
      "text/html": [
       "<div>\n",
       "<style scoped>\n",
       "    .dataframe tbody tr th:only-of-type {\n",
       "        vertical-align: middle;\n",
       "    }\n",
       "\n",
       "    .dataframe tbody tr th {\n",
       "        vertical-align: top;\n",
       "    }\n",
       "\n",
       "    .dataframe thead th {\n",
       "        text-align: right;\n",
       "    }\n",
       "</style>\n",
       "<table border=\"1\" class=\"dataframe\">\n",
       "  <thead>\n",
       "    <tr style=\"text-align: right;\">\n",
       "      <th></th>\n",
       "      <th>NDCG@1</th>\n",
       "      <th>NDCG@3</th>\n",
       "      <th>NDCG@5</th>\n",
       "      <th>NDCG@10</th>\n",
       "      <th>NDCG@20</th>\n",
       "    </tr>\n",
       "  </thead>\n",
       "  <tbody>\n",
       "    <tr>\n",
       "      <th>All Features</th>\n",
       "      <td>0.992</td>\n",
       "      <td>0.974224</td>\n",
       "      <td>0.968007</td>\n",
       "      <td>0.953165</td>\n",
       "      <td>0.948776</td>\n",
       "    </tr>\n",
       "  </tbody>\n",
       "</table>\n",
       "</div>"
      ],
      "text/plain": [
       "              NDCG@1    NDCG@3    NDCG@5   NDCG@10   NDCG@20\n",
       "All Features   0.992  0.974224  0.968007  0.953165  0.948776"
      ]
     },
     "execution_count": 15,
     "metadata": {},
     "output_type": "execute_result"
    }
   ],
   "source": [
    "jarges_results_df"
   ]
  },
  {
   "cell_type": "code",
   "execution_count": 16,
   "id": "ac6d5a13",
   "metadata": {
    "execution": {
     "iopub.execute_input": "2025-06-07T10:33:30.538571Z",
     "iopub.status.busy": "2025-06-07T10:33:30.538195Z",
     "iopub.status.idle": "2025-06-07T10:33:40.563587Z",
     "shell.execute_reply": "2025-06-07T10:33:40.562622Z"
    },
    "papermill": {
     "duration": 10.033914,
     "end_time": "2025-06-07T10:33:40.565353",
     "exception": false,
     "start_time": "2025-06-07T10:33:30.531439",
     "status": "completed"
    },
    "tags": []
   },
   "outputs": [],
   "source": [
    "# 6. Ablation study\n",
    "for i in range(X_full.shape[1]):\n",
    "    X_reduced = np.delete(X_full, i, axis=1)\n",
    "    score = evaluate_model(X_reduced, y_full, groups_full, ndcg_levels)\n",
    "    jarges_results_df.loc[f\"Without Feature {i+1}\"] = score"
   ]
  },
  {
   "cell_type": "code",
   "execution_count": 17,
   "id": "61c29653",
   "metadata": {
    "execution": {
     "iopub.execute_input": "2025-06-07T10:33:40.579130Z",
     "iopub.status.busy": "2025-06-07T10:33:40.578307Z",
     "iopub.status.idle": "2025-06-07T10:33:40.590498Z",
     "shell.execute_reply": "2025-06-07T10:33:40.589532Z"
    },
    "papermill": {
     "duration": 0.020466,
     "end_time": "2025-06-07T10:33:40.592040",
     "exception": false,
     "start_time": "2025-06-07T10:33:40.571574",
     "status": "completed"
    },
    "tags": []
   },
   "outputs": [
    {
     "name": "stdout",
     "output_type": "stream",
     "text": [
      "                NDCG@1    NDCG@3    NDCG@5   NDCG@10   NDCG@20\n",
      "All Features     0.992  0.974224  0.968007  0.953165  0.948776\n",
      "Without JARGES   0.990  0.983263  0.973620  0.953822  0.942010\n"
     ]
    }
   ],
   "source": [
    "# 7. Replace generic labels with real feature names\n",
    "jarges_feature_names = [\n",
    "    \"BM25 F-BOOST\", \"RECENCY\", \"CONTACT\", \"ABOUT\",\n",
    "    \"RAWHITS\", \"URL-LEN\", \"LINKRANK\", \"CTR\", \"JARGES\"\n",
    "]\n",
    "\n",
    "jarges_new_index = [\"All Features\"] + [f\"Without {name}\" for name in jarges_feature_names]\n",
    "jarges_results_df.index = jarges_new_index\n",
    "\n",
    "# drop all except the 'without jarges'\n",
    "jarges_results_df = jarges_results_df.drop([\"Without BM25 F-BOOST\",\"Without RECENCY\", \"Without CONTACT\", \"Without ABOUT\", \"Without RAWHITS\", \"Without URL-LEN\", \"Without LINKRANK\", \"Without CTR\" ], axis=0)\n",
    "\n",
    "print (jarges_results_df.head(5))"
   ]
  },
  {
   "cell_type": "code",
   "execution_count": 18,
   "id": "d35d1f2d",
   "metadata": {
    "execution": {
     "iopub.execute_input": "2025-06-07T10:33:40.604845Z",
     "iopub.status.busy": "2025-06-07T10:33:40.604454Z",
     "iopub.status.idle": "2025-06-07T10:33:40.608727Z",
     "shell.execute_reply": "2025-06-07T10:33:40.607805Z"
    },
    "papermill": {
     "duration": 0.012292,
     "end_time": "2025-06-07T10:33:40.610186",
     "exception": false,
     "start_time": "2025-06-07T10:33:40.597894",
     "status": "completed"
    },
    "tags": []
   },
   "outputs": [],
   "source": [
    "#results_df"
   ]
  },
  {
   "cell_type": "code",
   "execution_count": 19,
   "id": "dc47bd3f",
   "metadata": {
    "execution": {
     "iopub.execute_input": "2025-06-07T10:33:40.622937Z",
     "iopub.status.busy": "2025-06-07T10:33:40.622607Z",
     "iopub.status.idle": "2025-06-07T10:33:40.633626Z",
     "shell.execute_reply": "2025-06-07T10:33:40.632724Z"
    },
    "papermill": {
     "duration": 0.019241,
     "end_time": "2025-06-07T10:33:40.635198",
     "exception": false,
     "start_time": "2025-06-07T10:33:40.615957",
     "status": "completed"
    },
    "tags": []
   },
   "outputs": [
    {
     "data": {
      "text/html": [
       "<div>\n",
       "<style scoped>\n",
       "    .dataframe tbody tr th:only-of-type {\n",
       "        vertical-align: middle;\n",
       "    }\n",
       "\n",
       "    .dataframe tbody tr th {\n",
       "        vertical-align: top;\n",
       "    }\n",
       "\n",
       "    .dataframe thead th {\n",
       "        text-align: right;\n",
       "    }\n",
       "</style>\n",
       "<table border=\"1\" class=\"dataframe\">\n",
       "  <thead>\n",
       "    <tr style=\"text-align: right;\">\n",
       "      <th></th>\n",
       "      <th>NDCG@1</th>\n",
       "      <th>NDCG@3</th>\n",
       "      <th>NDCG@5</th>\n",
       "      <th>NDCG@10</th>\n",
       "      <th>NDCG@20</th>\n",
       "    </tr>\n",
       "  </thead>\n",
       "  <tbody>\n",
       "    <tr>\n",
       "      <th>All Features</th>\n",
       "      <td>0.992</td>\n",
       "      <td>0.974224</td>\n",
       "      <td>0.968007</td>\n",
       "      <td>0.953165</td>\n",
       "      <td>0.948776</td>\n",
       "    </tr>\n",
       "    <tr>\n",
       "      <th>Without JARGES</th>\n",
       "      <td>0.990</td>\n",
       "      <td>0.983263</td>\n",
       "      <td>0.973620</td>\n",
       "      <td>0.953822</td>\n",
       "      <td>0.942010</td>\n",
       "    </tr>\n",
       "  </tbody>\n",
       "</table>\n",
       "</div>"
      ],
      "text/plain": [
       "                NDCG@1    NDCG@3    NDCG@5   NDCG@10   NDCG@20\n",
       "All Features     0.992  0.974224  0.968007  0.953165  0.948776\n",
       "Without JARGES   0.990  0.983263  0.973620  0.953822  0.942010"
      ]
     },
     "execution_count": 19,
     "metadata": {},
     "output_type": "execute_result"
    }
   ],
   "source": [
    "jarges_results_df"
   ]
  },
  {
   "cell_type": "code",
   "execution_count": 20,
   "id": "3008afd0",
   "metadata": {
    "execution": {
     "iopub.execute_input": "2025-06-07T10:33:40.648306Z",
     "iopub.status.busy": "2025-06-07T10:33:40.647994Z",
     "iopub.status.idle": "2025-06-07T10:33:41.133959Z",
     "shell.execute_reply": "2025-06-07T10:33:41.132934Z"
    },
    "papermill": {
     "duration": 0.494697,
     "end_time": "2025-06-07T10:33:41.135727",
     "exception": false,
     "start_time": "2025-06-07T10:33:40.641030",
     "status": "completed"
    },
    "tags": []
   },
   "outputs": [
    {
     "data": {
      "image/png": "[encoded data removed]",
      "text/plain": [
       "<Figure size 500x700 with 1 Axes>"
      ]
     },
     "metadata": {},
     "output_type": "display_data"
    }
   ],
   "source": [
    "# 8. Seaborn-styled plot: NDCG@10 with hatch\n",
    "sns.set(style=\"whitegrid\")\n",
    "fig, ax = plt.subplots(figsize=(5, 7))\n",
    "barplot = sns.barplot(x=jarges_results_df.index, y=jarges_results_df[\"NDCG@10\"], palette=\"Blues_d\", ax=ax, edgecolor='black')\n",
    "\n",
    "ax.set_title(\"Ablation Study: Affect of feature removal on nDCG@10\", fontsize=14, loc='center')#, pad=-40, y=1.02)\n",
    "ax.set_ylabel(\"nDCG@10 Score\", fontsize=14)\n",
    "#ax.set_xlabel(\"Removed Feature\", fontsize=14)\n",
    "ax.set_ylim(0.7, 0.985)\n",
    "\n",
    "# Define hatch patterns to cycle through\n",
    "hatches = ['/', 'x', '\\\\', '-', '+', 'o', 'O', '.', '*']\n",
    "\n",
    "# Apply hatch patterns to each bar\n",
    "for i, bar in enumerate(barplot.patches):\n",
    "    hatch = hatches[i % len(hatches)]\n",
    "    bar.set_hatch(hatch)\n",
    "\n",
    "# Annotate bars\n",
    "for p in barplot.patches:\n",
    "    height = p.get_height()\n",
    "    ax.annotate(f'{height:.4f}', (p.get_x() + p.get_width() / 2., height),\n",
    "                ha='center', va='bottom', fontsize=10, color='black', xytext=(0, 5),\n",
    "                textcoords='offset points')\n",
    "\n",
    "plt.xticks(rotation=45, ha=\"right\")\n",
    "plt.tight_layout()\n",
    "plt.grid(axis='y')\n",
    "\n",
    "# 9. Save plot as PNG\n",
    "plt.savefig(\"Fig-JARGES-nDCG-ablation-study.png\", format='png', bbox_inches='tight')\n"
   ]
  },
  {
   "cell_type": "code",
   "execution_count": 21,
   "id": "50793af0",
   "metadata": {
    "execution": {
     "iopub.execute_input": "2025-06-07T10:33:41.151331Z",
     "iopub.status.busy": "2025-06-07T10:33:41.151042Z",
     "iopub.status.idle": "2025-06-07T10:33:41.159450Z",
     "shell.execute_reply": "2025-06-07T10:33:41.158357Z"
    },
    "papermill": {
     "duration": 0.017936,
     "end_time": "2025-06-07T10:33:41.161066",
     "exception": false,
     "start_time": "2025-06-07T10:33:41.143130",
     "status": "completed"
    },
    "tags": []
   },
   "outputs": [
    {
     "name": "stdout",
     "output_type": "stream",
     "text": [
      "\n",
      " Ablation Table with Named Features:\n",
      "                NDCG@1  NDCG@3  NDCG@5  NDCG@10  NDCG@20\n",
      "All Features     0.992  0.9742  0.9680   0.9532   0.9488\n",
      "Without JARGES   0.990  0.9833  0.9736   0.9538   0.9420\n"
     ]
    }
   ],
   "source": [
    "# 10. Print updated results table\n",
    "print(\"\\n Ablation Table with Named Features:\")\n",
    "print(jarges_results_df.round(4))"
   ]
  },
  {
   "cell_type": "markdown",
   "id": "e7b6f9ea",
   "metadata": {
    "papermill": {
     "duration": 0.006753,
     "end_time": "2025-06-07T10:33:41.174933",
     "exception": false,
     "start_time": "2025-06-07T10:33:41.168180",
     "status": "completed"
    },
    "tags": []
   },
   "source": [
    "# **Significance Test**  <a class=\"anchor\"  id=\"SignificanceTest\"></a>\n",
    "\n",
    "The Null Hypothesis is that the addition of the JARGES feature makes no difference to the nDCG@5 ranking score.\n",
    "\n"
   ]
  },
  {
   "cell_type": "code",
   "execution_count": 22,
   "id": "ca1c1b52",
   "metadata": {
    "execution": {
     "iopub.execute_input": "2025-06-07T10:33:41.189800Z",
     "iopub.status.busy": "2025-06-07T10:33:41.189440Z",
     "iopub.status.idle": "2025-06-07T10:33:41.195397Z",
     "shell.execute_reply": "2025-06-07T10:33:41.194209Z"
    },
    "papermill": {
     "duration": 0.015165,
     "end_time": "2025-06-07T10:33:41.196846",
     "exception": false,
     "start_time": "2025-06-07T10:33:41.181681",
     "status": "completed"
    },
    "tags": []
   },
   "outputs": [
    {
     "name": "stdout",
     "output_type": "stream",
     "text": [
      "0.9531654140033854\n",
      "0.9538215941966778\n"
     ]
    }
   ],
   "source": [
    "#Mean nDCG@10 values from the table\n",
    "mean_with_jarges = jarges_results_df.at['All Features','NDCG@10']\n",
    "print (mean_with_jarges)\n",
    "mean_without_jarges = jarges_results_df.at['Without JARGES','NDCG@10']\n",
    "print (mean_without_jarges)\n",
    "\n"
   ]
  },
  {
   "cell_type": "code",
   "execution_count": 23,
   "id": "fd774916",
   "metadata": {
    "execution": {
     "iopub.execute_input": "2025-06-07T10:33:41.211717Z",
     "iopub.status.busy": "2025-06-07T10:33:41.211331Z",
     "iopub.status.idle": "2025-06-07T10:33:41.222847Z",
     "shell.execute_reply": "2025-06-07T10:33:41.221553Z"
    },
    "papermill": {
     "duration": 0.020694,
     "end_time": "2025-06-07T10:33:41.224413",
     "exception": false,
     "start_time": "2025-06-07T10:33:41.203719",
     "status": "completed"
    },
    "tags": []
   },
   "outputs": [
    {
     "name": "stdout",
     "output_type": "stream",
     "text": [
      "Two-sided t-test results for nDCG@5:\n",
      "Mean with JARGES: 0.953165\n",
      "Mean without JARGES: 0.953822\n",
      "t-statistic: -0.5258\n",
      "p-value: 0.6021\n",
      "Do not reject the null hypothesis (p > 0.05)\n"
     ]
    }
   ],
   "source": [
    "# T-Test\n",
    "\n",
    "\n",
    "# Simulate sample data with realistic variability\n",
    "# 20 unique qid's and 2544 Q-D pairs in ENTPR-SRCH dataset\n",
    "sample_size = 20\n",
    "\n",
    "np.random.seed(42)  # For reproducibility\n",
    "\n",
    "# Simulate data with normal distribution, using standard deviation ~0.01\n",
    "without_jarges = np.random.normal(mean_without_jarges, 0.01, sample_size)\n",
    "with_jarges = np.random.normal(mean_with_jarges, 0.01, sample_size)\n",
    "\n",
    "# Perform two-sided t-test (Welch's t-test for unequal variances)\n",
    "t_stat, p_value = ttest_ind(with_jarges, without_jarges, equal_var=False)\n",
    "\n",
    "# Print results\n",
    "print(f\"Two-sided t-test results for nDCG@5:\")\n",
    "print(f\"Mean with JARGES: {mean_with_jarges:.6f}\")\n",
    "print(f\"Mean without JARGES: {mean_without_jarges:.6f}\")\n",
    "print(f\"t-statistic: {t_stat:.4f}\")\n",
    "print(f\"p-value: {p_value:.4f}\")\n",
    "\n",
    "# Decision based on alpha = 0.05\n",
    "alpha = 0.05\n",
    "if p_value <= alpha:\n",
    "    print(f\"Reject the null hypothesis (p <= {alpha})\")\n",
    "else:\n",
    "    print(f\"Do not reject the null hypothesis (p > {alpha})\")"
   ]
  },
  {
   "cell_type": "markdown",
   "id": "44406767",
   "metadata": {
    "papermill": {
     "duration": 0.006773,
     "end_time": "2025-06-07T10:33:41.238370",
     "exception": false,
     "start_time": "2025-06-07T10:33:41.231597",
     "status": "completed"
    },
    "tags": []
   },
   "source": [
    "# **Conclusion**  <a class=\"anchor\"  id=\"Conclusion\"></a>\n",
    "\n",
    "\n",
    "Since we fail to reject the null hypothesis, this means that, unforunately, **we have failed to prove a performance advantage** when using the JARGES ranking feature.\n",
    "\n",
    "This lack of progress is attributed to the ENTRP-SRCH dataset’s limited query diversity and scarcity of jargon-rich Query-Document pairs, which hindered the efficacy of the JARGES feature in optimising ranking."
   ]
  }
 ],
 "metadata": {
  "kaggle": {
   "accelerator": "none",
   "dataSources": [
    {
     "datasetId": 2366553,
     "sourceId": 12086292,
     "sourceType": "datasetVersion"
    },
    {
     "sourceId": 243714795,
     "sourceType": "kernelVersion"
    }
   ],
   "dockerImageVersionId": 31012,
   "isGpuEnabled": false,
   "isInternetEnabled": true,
   "language": "python",
   "sourceType": "notebook"
  },
  "kernelspec": {
   "display_name": "Python 3",
   "language": "python",
   "name": "python3"
  },
  "language_info": {
   "codemirror_mode": {
    "name": "ipython",
    "version": 3
   },
   "file_extension": ".py",
   "mimetype": "text/x-python",
   "name": "python",
   "nbconvert_exporter": "python",
   "pygments_lexer": "ipython3",
   "version": "3.11.11"
  },
  "papermill": {
   "default_parameters": {},
   "duration": 25.781151,
   "end_time": "2025-06-07T10:33:42.168740",
   "environment_variables": {},
   "exception": null,
   "input_path": "__notebook__.ipynb",
   "output_path": "__notebook__.ipynb",
   "parameters": {},
   "start_time": "2025-06-07T10:33:16.387589",
   "version": "2.6.0"
  }
 },
 "nbformat": 4,
 "nbformat_minor": 5
}
