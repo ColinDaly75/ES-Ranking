{
 "cells": [
  {
   "cell_type": "markdown",
   "id": "3b197634",
   "metadata": {
    "papermill": {
     "duration": 0.004837,
     "end_time": "2025-06-07T09:52:17.721440",
     "exception": false,
     "start_time": "2025-06-07T09:52:17.716603",
     "status": "completed"
    },
    "tags": []
   },
   "source": [
    "# **Evaluating the impact of the JARGES ranking feature**\n",
    " \n",
    "* [Introduction](#introduction)\n",
    "* [Loading the ES dataset](#Loading)\n",
    "* [Ranking Performance (without JARGES)](#RankingPerformanceWithout)\n",
    "* [Ranking Performance (with JARGES)](#RankingPerformanceWith)\n",
    "* [Ranking Performance with JARGES](#NewPlot)\n",
    "* [Significance Test](#SignificanceTest)"
   ]
  },
  {
   "cell_type": "code",
   "execution_count": 1,
   "id": "e1a6878e",
   "metadata": {
    "_cell_guid": "b1076dfc-b9ad-4769-8c92-a6c4dae69d19",
    "_uuid": "8f2839f25d086af736a60e9eeb907d3b93b6e0e5",
    "execution": {
     "iopub.execute_input": "2025-06-07T09:52:17.730302Z",
     "iopub.status.busy": "2025-06-07T09:52:17.730012Z",
     "iopub.status.idle": "2025-06-07T09:52:21.796355Z",
     "shell.execute_reply": "2025-06-07T09:52:21.794924Z"
    },
    "papermill": {
     "duration": 4.072673,
     "end_time": "2025-06-07T09:52:21.798067",
     "exception": false,
     "start_time": "2025-06-07T09:52:17.725394",
     "status": "completed"
    },
    "tags": []
   },
   "outputs": [],
   "source": [
    "#Load All Libraries here\n",
    "\n",
    "import numpy as np \n",
    "import pandas as pd \n",
    "\n",
    "import os\n",
    "\n",
    "import matplotlib.pyplot as plt\n",
    "import seaborn as sns\n",
    "from sklearn.ensemble import GradientBoostingRegressor\n",
    "from sklearn.model_selection import GroupKFold\n",
    "from sklearn.metrics import ndcg_score\n",
    "\n",
    "from scipy.stats import ttest_ind"
   ]
  },
  {
   "cell_type": "markdown",
   "id": "a2303683",
   "metadata": {
    "papermill": {
     "duration": 0.00476,
     "end_time": "2025-06-07T09:52:21.807048",
     "exception": false,
     "start_time": "2025-06-07T09:52:21.802288",
     "status": "completed"
    },
    "tags": []
   },
   "source": [
    "# **Introduction**  <a class=\"anchor\"  id=\"introduction\"></a>\n",
    "\n",
    "The objective of this experimentstudy is to determine the relative weights for each of the\n",
    "LTR features (OBJ-1) in the ENTRP-SRCH dataset. The ablation process involves removing\n",
    "a feature, which allows direct observation how its absence affects model performance, confirming its true importance. An ablation study also provides insights into the redundancy,\n",
    "and interactions between features.\n"
   ]
  },
  {
   "cell_type": "markdown",
   "id": "65628f85",
   "metadata": {
    "papermill": {
     "duration": 0.003433,
     "end_time": "2025-06-07T09:52:21.814157",
     "exception": false,
     "start_time": "2025-06-07T09:52:21.810724",
     "status": "completed"
    },
    "tags": []
   },
   "source": [
    "# **Loading the ENTRP-SRCH dataset**  <a class=\"anchor\"  id=\"Loading\"></a>\n",
    "\n",
    "This is the dataset first published as part of Paper I “Learning to Rank: Performance and Practical Barriers to Deployment in Enterprise Search.” \n"
   ]
  },
  {
   "cell_type": "code",
   "execution_count": 2,
   "id": "89943645",
   "metadata": {
    "execution": {
     "iopub.execute_input": "2025-06-07T09:52:21.822584Z",
     "iopub.status.busy": "2025-06-07T09:52:21.822174Z",
     "iopub.status.idle": "2025-06-07T09:52:21.826065Z",
     "shell.execute_reply": "2025-06-07T09:52:21.825456Z"
    },
    "papermill": {
     "duration": 0.009765,
     "end_time": "2025-06-07T09:52:21.827467",
     "exception": false,
     "start_time": "2025-06-07T09:52:21.817702",
     "status": "completed"
    },
    "tags": []
   },
   "outputs": [],
   "source": [
    "#for dirname, _, filenames in os.walk('/kaggle/input'):\n",
    "#    for filename in filenames:\n",
    "#        print(os.path.join(dirname, filename))\n",
    "\n",
    "dataset_file=\"/kaggle/input/entrp-srch/ENTRP-SRCH-v14.txt\""
   ]
  },
  {
   "cell_type": "code",
   "execution_count": 3,
   "id": "06d354cf",
   "metadata": {
    "execution": {
     "iopub.execute_input": "2025-06-07T09:52:21.836618Z",
     "iopub.status.busy": "2025-06-07T09:52:21.836258Z",
     "iopub.status.idle": "2025-06-07T09:52:21.840178Z",
     "shell.execute_reply": "2025-06-07T09:52:21.839431Z"
    },
    "papermill": {
     "duration": 0.01029,
     "end_time": "2025-06-07T09:52:21.841886",
     "exception": false,
     "start_time": "2025-06-07T09:52:21.831596",
     "status": "completed"
    },
    "tags": []
   },
   "outputs": [],
   "source": [
    "#!head -10 /kaggle/input/entrp-srch/dataset-with-urls.txt"
   ]
  },
  {
   "cell_type": "markdown",
   "id": "3bb88bf4",
   "metadata": {
    "papermill": {
     "duration": 0.003637,
     "end_time": "2025-06-07T09:52:21.849788",
     "exception": false,
     "start_time": "2025-06-07T09:52:21.846151",
     "status": "completed"
    },
    "tags": []
   },
   "source": [
    "# **Ranking Performance (without JARGES)**  <a class=\"anchor\"  id=\"RankingPerformanceWithout\"></a>\n",
    "\n",
    "Before carrying out an Ablation Study, the overall ranking statistics (nDCG) must be computed.  K-Folds are used to ensure no overfitting."
   ]
  },
  {
   "cell_type": "code",
   "execution_count": 4,
   "id": "649d2e6f",
   "metadata": {
    "execution": {
     "iopub.execute_input": "2025-06-07T09:52:21.858492Z",
     "iopub.status.busy": "2025-06-07T09:52:21.858156Z",
     "iopub.status.idle": "2025-06-07T09:52:21.864669Z",
     "shell.execute_reply": "2025-06-07T09:52:21.863432Z"
    },
    "papermill": {
     "duration": 0.012775,
     "end_time": "2025-06-07T09:52:21.866266",
     "exception": false,
     "start_time": "2025-06-07T09:52:21.853491",
     "status": "completed"
    },
    "tags": []
   },
   "outputs": [],
   "source": [
    "# Parse LETOR format.\n",
    "def parse_letor_data(file_content, num_features=8):\n",
    "    X, y, groups = [], [], []\n",
    "    for line in file_content.strip().split('\\n'):\n",
    "        if not line.strip():\n",
    "            continue\n",
    "        parts = line.split()\n",
    "        relevance = int(parts[0])\n",
    "        qid = int(parts[1].split(':')[1])\n",
    "        features = np.zeros(num_features)\n",
    "        for feat in parts[2:]:\n",
    "            fid, val = feat.split(':')\n",
    "            fid_int = int(fid) - 1\n",
    "            if fid_int < num_features:\n",
    "                features[fid_int] = float(val)\n",
    "        X.append(features)\n",
    "        y.append(relevance)\n",
    "        groups.append(qid)\n",
    "    return np.array(X), np.array(y), np.array(groups)"
   ]
  },
  {
   "cell_type": "code",
   "execution_count": 5,
   "id": "73d68895",
   "metadata": {
    "execution": {
     "iopub.execute_input": "2025-06-07T09:52:21.875556Z",
     "iopub.status.busy": "2025-06-07T09:52:21.875242Z",
     "iopub.status.idle": "2025-06-07T09:52:21.897999Z",
     "shell.execute_reply": "2025-06-07T09:52:21.896852Z"
    },
    "papermill": {
     "duration": 0.02907,
     "end_time": "2025-06-07T09:52:21.899631",
     "exception": false,
     "start_time": "2025-06-07T09:52:21.870561",
     "status": "completed"
    },
    "tags": []
   },
   "outputs": [],
   "source": [
    "# Load files\n",
    "with open(dataset_file, \"r\") as f:\n",
    "    file_content = f.read()\n",
    "\n",
    "X, y, groups = parse_letor_data(file_content,8)\n"
   ]
  },
  {
   "cell_type": "code",
   "execution_count": 6,
   "id": "d674e7a1",
   "metadata": {
    "execution": {
     "iopub.execute_input": "2025-06-07T09:52:21.908912Z",
     "iopub.status.busy": "2025-06-07T09:52:21.908604Z",
     "iopub.status.idle": "2025-06-07T09:52:22.882531Z",
     "shell.execute_reply": "2025-06-07T09:52:22.881637Z"
    },
    "papermill": {
     "duration": 0.98003,
     "end_time": "2025-06-07T09:52:22.883875",
     "exception": false,
     "start_time": "2025-06-07T09:52:21.903845",
     "status": "completed"
    },
    "tags": []
   },
   "outputs": [],
   "source": [
    "# Setup CV\n",
    "group_kfold = GroupKFold(n_splits=5)\n",
    "ndcg_levels = [1, 3, 5, 10, 20]\n",
    "results = []\n",
    "feature_importances = []\n",
    "\n",
    "for train_idx, test_idx in group_kfold.split(X, y, groups):\n",
    "    X_train, X_test = X[train_idx], X[test_idx]\n",
    "    y_train, y_test = y[train_idx], y[test_idx]\n",
    "    qid_test = groups[test_idx]\n",
    "\n",
    "    model = GradientBoostingRegressor(n_estimators=100, learning_rate=0.1, max_depth=3, random_state=42)\n",
    "    model.fit(X_train, y_train)\n",
    "    y_pred = model.predict(X_test)\n",
    "\n",
    "    # Evaluate by query\n",
    "    ndcg_scores_per_k = {f'NDCG@{k}': [] for k in ndcg_levels}\n",
    "    unique_qids = np.unique(qid_test)\n",
    "    for qid in unique_qids:\n",
    "        mask = qid_test == qid\n",
    "        y_true = y_test[mask].reshape(1, -1)\n",
    "        y_scores = y_pred[mask].reshape(1, -1)\n",
    "        for k in ndcg_levels:\n",
    "            if y_true.shape[1] >= k:\n",
    "                ndcg_scores_per_k[f'NDCG@{k}'].append(ndcg_score(y_true, y_scores, k=k))\n",
    "\n",
    "    fold_result = {k: np.mean(v) for k, v in ndcg_scores_per_k.items()}\n",
    "    results.append(fold_result)\n",
    "    feature_importances.append(model.feature_importances_)\n"
   ]
  },
  {
   "cell_type": "code",
   "execution_count": 7,
   "id": "03561019",
   "metadata": {
    "execution": {
     "iopub.execute_input": "2025-06-07T09:52:22.894718Z",
     "iopub.status.busy": "2025-06-07T09:52:22.894001Z",
     "iopub.status.idle": "2025-06-07T09:52:22.909438Z",
     "shell.execute_reply": "2025-06-07T09:52:22.908608Z"
    },
    "papermill": {
     "duration": 0.021346,
     "end_time": "2025-06-07T09:52:22.910513",
     "exception": false,
     "start_time": "2025-06-07T09:52:22.889167",
     "status": "completed"
    },
    "tags": []
   },
   "outputs": [
    {
     "name": "stdout",
     "output_type": "stream",
     "text": [
      "/kaggle/input/entrp-srch/ENTRP-SRCH-v14.txt\n",
      "Mean nDCG@5 without JARGES: 0.9681\n"
     ]
    }
   ],
   "source": [
    "# Create result table\n",
    "results_df = pd.DataFrame(results)\n",
    "avg_scores = results_df.mean()\n",
    "avg_scores.name = 'Average'\n",
    "results_df = pd.concat([results_df, avg_scores.to_frame().T], ignore_index=True)\n",
    "\n",
    "#print(\"\\n NDCG@n Scores Across Folds:\")\n",
    "#print(results_df.round(4))\n",
    "\n",
    "mean_without_jarges = avg_scores.at['NDCG@5']\n",
    "#print (mean_without_jarges)\n",
    "print (dataset_file)\n",
    "print(f\"Mean nDCG@5 without JARGES: {mean_without_jarges:.4f}\")\n"
   ]
  },
  {
   "cell_type": "markdown",
   "id": "12497191",
   "metadata": {
    "papermill": {
     "duration": 0.00351,
     "end_time": "2025-06-07T09:52:22.918031",
     "exception": false,
     "start_time": "2025-06-07T09:52:22.914521",
     "status": "completed"
    },
    "tags": []
   },
   "source": [
    "This approximately matches the scores achived in EXP-1, which used the XGBoost (LambdaMart) framework to compute nDCG"
   ]
  },
  {
   "cell_type": "code",
   "execution_count": 8,
   "id": "17bd3bf2",
   "metadata": {
    "execution": {
     "iopub.execute_input": "2025-06-07T09:52:22.926502Z",
     "iopub.status.busy": "2025-06-07T09:52:22.926192Z",
     "iopub.status.idle": "2025-06-07T09:52:22.930191Z",
     "shell.execute_reply": "2025-06-07T09:52:22.929254Z"
    },
    "papermill": {
     "duration": 0.009589,
     "end_time": "2025-06-07T09:52:22.931303",
     "exception": false,
     "start_time": "2025-06-07T09:52:22.921714",
     "status": "completed"
    },
    "tags": []
   },
   "outputs": [],
   "source": [
    "#avg_scores\n",
    "#avg_scores.at['NDCG@5']"
   ]
  },
  {
   "cell_type": "code",
   "execution_count": null,
   "id": "bebf9fe0",
   "metadata": {
    "papermill": {
     "duration": 0.003594,
     "end_time": "2025-06-07T09:52:22.939133",
     "exception": false,
     "start_time": "2025-06-07T09:52:22.935539",
     "status": "completed"
    },
    "tags": []
   },
   "outputs": [],
   "source": []
  },
  {
   "cell_type": "markdown",
   "id": "b52f63ee",
   "metadata": {
    "papermill": {
     "duration": 0.004609,
     "end_time": "2025-06-07T09:52:22.947409",
     "exception": false,
     "start_time": "2025-06-07T09:52:22.942800",
     "status": "completed"
    },
    "tags": []
   },
   "source": [
    "# **Ranking Performance (with JARGES)**  <a class=\"anchor\"  id=\"RankingPerformanceWith\"></a>\n",
    "\n",
    "Add a new column in the LTR format (i.e. COL_NUMBER:VALUE, where column number will be nine and the value will be the pre-computed 'jargony score'). \n"
   ]
  },
  {
   "cell_type": "code",
   "execution_count": 9,
   "id": "e02f5b32",
   "metadata": {
    "execution": {
     "iopub.execute_input": "2025-06-07T09:52:22.955967Z",
     "iopub.status.busy": "2025-06-07T09:52:22.955714Z",
     "iopub.status.idle": "2025-06-07T09:52:22.959494Z",
     "shell.execute_reply": "2025-06-07T09:52:22.958782Z"
    },
    "papermill": {
     "duration": 0.009388,
     "end_time": "2025-06-07T09:52:22.960624",
     "exception": false,
     "start_time": "2025-06-07T09:52:22.951236",
     "status": "completed"
    },
    "tags": []
   },
   "outputs": [],
   "source": [
    "dataset_file=\"/kaggle/input/entrp-srch/ENTRP-SRCH-jarges.txt\""
   ]
  },
  {
   "cell_type": "code",
   "execution_count": 10,
   "id": "8f962f06",
   "metadata": {
    "execution": {
     "iopub.execute_input": "2025-06-07T09:52:22.969847Z",
     "iopub.status.busy": "2025-06-07T09:52:22.969559Z",
     "iopub.status.idle": "2025-06-07T09:52:22.991128Z",
     "shell.execute_reply": "2025-06-07T09:52:22.990176Z"
    },
    "papermill": {
     "duration": 0.027934,
     "end_time": "2025-06-07T09:52:22.992773",
     "exception": false,
     "start_time": "2025-06-07T09:52:22.964839",
     "status": "completed"
    },
    "tags": []
   },
   "outputs": [],
   "source": [
    "# 2. Load dataset\n",
    "with open(dataset_file, \"r\") as f:\n",
    "    file_content = f.read()\n",
    "\n",
    "X_full, y_full, groups_full = parse_letor_data(file_content,9)  # ninth feature is jargony"
   ]
  },
  {
   "cell_type": "code",
   "execution_count": 11,
   "id": "8a48e142",
   "metadata": {
    "execution": {
     "iopub.execute_input": "2025-06-07T09:52:23.001961Z",
     "iopub.status.busy": "2025-06-07T09:52:23.001704Z",
     "iopub.status.idle": "2025-06-07T09:52:23.951368Z",
     "shell.execute_reply": "2025-06-07T09:52:23.950612Z"
    },
    "papermill": {
     "duration": 0.955742,
     "end_time": "2025-06-07T09:52:23.952887",
     "exception": false,
     "start_time": "2025-06-07T09:52:22.997145",
     "status": "completed"
    },
    "tags": []
   },
   "outputs": [],
   "source": [
    "# Setup CV\n",
    "group_kfold = GroupKFold(n_splits=5)\n",
    "ndcg_levels = [1, 3, 5, 10, 20]\n",
    "results = []\n",
    "feature_importances = []\n",
    "\n",
    "for train_idx, test_idx in group_kfold.split(X, y, groups):\n",
    "    X_train, X_test = X[train_idx], X[test_idx]\n",
    "    y_train, y_test = y[train_idx], y[test_idx]\n",
    "    qid_test = groups[test_idx]\n",
    "\n",
    "    model = GradientBoostingRegressor(n_estimators=100, learning_rate=0.1, max_depth=3, random_state=42)\n",
    "    model.fit(X_train, y_train)\n",
    "    y_pred = model.predict(X_test)\n",
    "\n",
    "    # Evaluate by query\n",
    "    ndcg_scores_per_k = {f'NDCG@{k}': [] for k in ndcg_levels}\n",
    "    unique_qids = np.unique(qid_test)\n",
    "    for qid in unique_qids:\n",
    "        mask = qid_test == qid\n",
    "        y_true = y_test[mask].reshape(1, -1)\n",
    "        y_scores = y_pred[mask].reshape(1, -1)\n",
    "        for k in ndcg_levels:\n",
    "            if y_true.shape[1] >= k:\n",
    "                ndcg_scores_per_k[f'NDCG@{k}'].append(ndcg_score(y_true, y_scores, k=k))\n",
    "\n",
    "    fold_result = {k: np.mean(v) for k, v in ndcg_scores_per_k.items()}\n",
    "    results.append(fold_result)\n",
    "    feature_importances.append(model.feature_importances_)\n"
   ]
  },
  {
   "cell_type": "code",
   "execution_count": 12,
   "id": "6674b4dc",
   "metadata": {
    "execution": {
     "iopub.execute_input": "2025-06-07T09:52:23.962543Z",
     "iopub.status.busy": "2025-06-07T09:52:23.962197Z",
     "iopub.status.idle": "2025-06-07T09:52:23.969511Z",
     "shell.execute_reply": "2025-06-07T09:52:23.968733Z"
    },
    "papermill": {
     "duration": 0.013315,
     "end_time": "2025-06-07T09:52:23.970632",
     "exception": false,
     "start_time": "2025-06-07T09:52:23.957317",
     "status": "completed"
    },
    "tags": []
   },
   "outputs": [
    {
     "name": "stdout",
     "output_type": "stream",
     "text": [
      "/kaggle/input/entrp-srch/ENTRP-SRCH-jarges.txt\n",
      "Mean nDCG@5 with JARGES: 0.9681\n"
     ]
    }
   ],
   "source": [
    "# Create result table\n",
    "results_df = pd.DataFrame(results)\n",
    "avg_scores = results_df.mean()\n",
    "avg_scores.name = 'Average'\n",
    "results_df = pd.concat([results_df, avg_scores.to_frame().T], ignore_index=True)\n",
    "\n",
    "#print(\"\\n NDCG@n Scores Across Folds:\")\n",
    "#print(results_df.round(4))\n",
    "mean_with_jarges = avg_scores.at['NDCG@5']\n",
    "#print (mean_without_jarges)\n",
    "print (dataset_file)\n",
    "print(f\"Mean nDCG@5 with JARGES: {mean_with_jarges:.4f}\")\n"
   ]
  },
  {
   "cell_type": "code",
   "execution_count": 13,
   "id": "6620afdd",
   "metadata": {
    "execution": {
     "iopub.execute_input": "2025-06-07T09:52:23.979840Z",
     "iopub.status.busy": "2025-06-07T09:52:23.979557Z",
     "iopub.status.idle": "2025-06-07T09:52:23.983934Z",
     "shell.execute_reply": "2025-06-07T09:52:23.983020Z"
    },
    "papermill": {
     "duration": 0.010481,
     "end_time": "2025-06-07T09:52:23.985216",
     "exception": false,
     "start_time": "2025-06-07T09:52:23.974735",
     "status": "completed"
    },
    "tags": []
   },
   "outputs": [],
   "source": [
    "# 3. Evaluation settings\n",
    "group_kfold = GroupKFold(n_splits=5)\n",
    "ndcg_levels = [1, 3, 5, 10, 20]"
   ]
  },
  {
   "cell_type": "code",
   "execution_count": 14,
   "id": "ee476041",
   "metadata": {
    "execution": {
     "iopub.execute_input": "2025-06-07T09:52:23.994453Z",
     "iopub.status.busy": "2025-06-07T09:52:23.994167Z",
     "iopub.status.idle": "2025-06-07T09:52:24.001316Z",
     "shell.execute_reply": "2025-06-07T09:52:24.000263Z"
    },
    "papermill": {
     "duration": 0.013047,
     "end_time": "2025-06-07T09:52:24.002595",
     "exception": false,
     "start_time": "2025-06-07T09:52:23.989548",
     "status": "completed"
    },
    "tags": []
   },
   "outputs": [],
   "source": [
    "# 4. NDCG evaluation function\n",
    "def evaluate_model(X, y, groups, ndcg_levels):\n",
    "    results = []\n",
    "    for train_idx, test_idx in group_kfold.split(X, y, groups):\n",
    "        X_train, X_test = X[train_idx], X[test_idx]\n",
    "        y_train, y_test = y[train_idx], y[test_idx]\n",
    "        qid_test = groups[test_idx]\n",
    "\n",
    "        model = GradientBoostingRegressor(n_estimators=100, learning_rate=0.1, max_depth=3, random_state=42)\n",
    "        model.fit(X_train, y_train)\n",
    "        y_pred = model.predict(X_test)\n",
    "\n",
    "        ndcg_scores_per_k = {f'NDCG@{k}': [] for k in ndcg_levels}\n",
    "        for qid in np.unique(qid_test):\n",
    "            mask = qid_test == qid\n",
    "            y_true = y_test[mask].reshape(1, -1)\n",
    "            y_scores = y_pred[mask].reshape(1, -1)\n",
    "            for k in ndcg_levels:\n",
    "                if y_true.shape[1] >= k:\n",
    "                    ndcg_scores_per_k[f'NDCG@{k}'].append(ndcg_score(y_true, y_scores, k=k))\n",
    "\n",
    "        fold_result = {k: np.mean(v) for k, v in ndcg_scores_per_k.items()}\n",
    "        results.append(fold_result)\n",
    "\n",
    "    return pd.DataFrame(results).mean()"
   ]
  },
  {
   "cell_type": "code",
   "execution_count": 15,
   "id": "e8db3138",
   "metadata": {
    "execution": {
     "iopub.execute_input": "2025-06-07T09:52:24.012261Z",
     "iopub.status.busy": "2025-06-07T09:52:24.011653Z",
     "iopub.status.idle": "2025-06-07T09:52:25.005233Z",
     "shell.execute_reply": "2025-06-07T09:52:25.004403Z"
    },
    "papermill": {
     "duration": 0.99976,
     "end_time": "2025-06-07T09:52:25.006677",
     "exception": false,
     "start_time": "2025-06-07T09:52:24.006917",
     "status": "completed"
    },
    "tags": []
   },
   "outputs": [],
   "source": [
    "# 5. Baseline evaluation with all features\n",
    "base_scores = evaluate_model(X_full, y_full, groups_full, ndcg_levels)\n",
    "jarges_results_df = pd.DataFrame([base_scores], index=[\"All Features\"])\n"
   ]
  },
  {
   "cell_type": "code",
   "execution_count": 16,
   "id": "f474b851",
   "metadata": {
    "execution": {
     "iopub.execute_input": "2025-06-07T09:52:25.015943Z",
     "iopub.status.busy": "2025-06-07T09:52:25.015661Z",
     "iopub.status.idle": "2025-06-07T09:52:25.033430Z",
     "shell.execute_reply": "2025-06-07T09:52:25.032633Z"
    },
    "papermill": {
     "duration": 0.024213,
     "end_time": "2025-06-07T09:52:25.034980",
     "exception": false,
     "start_time": "2025-06-07T09:52:25.010767",
     "status": "completed"
    },
    "tags": []
   },
   "outputs": [
    {
     "data": {
      "text/html": [
       "<div>\n",
       "<style scoped>\n",
       "    .dataframe tbody tr th:only-of-type {\n",
       "        vertical-align: middle;\n",
       "    }\n",
       "\n",
       "    .dataframe tbody tr th {\n",
       "        vertical-align: top;\n",
       "    }\n",
       "\n",
       "    .dataframe thead th {\n",
       "        text-align: right;\n",
       "    }\n",
       "</style>\n",
       "<table border=\"1\" class=\"dataframe\">\n",
       "  <thead>\n",
       "    <tr style=\"text-align: right;\">\n",
       "      <th></th>\n",
       "      <th>NDCG@1</th>\n",
       "      <th>NDCG@3</th>\n",
       "      <th>NDCG@5</th>\n",
       "      <th>NDCG@10</th>\n",
       "      <th>NDCG@20</th>\n",
       "    </tr>\n",
       "  </thead>\n",
       "  <tbody>\n",
       "    <tr>\n",
       "      <th>All Features</th>\n",
       "      <td>0.992</td>\n",
       "      <td>0.974224</td>\n",
       "      <td>0.968007</td>\n",
       "      <td>0.953165</td>\n",
       "      <td>0.948776</td>\n",
       "    </tr>\n",
       "  </tbody>\n",
       "</table>\n",
       "</div>"
      ],
      "text/plain": [
       "              NDCG@1    NDCG@3    NDCG@5   NDCG@10   NDCG@20\n",
       "All Features   0.992  0.974224  0.968007  0.953165  0.948776"
      ]
     },
     "execution_count": 16,
     "metadata": {},
     "output_type": "execute_result"
    }
   ],
   "source": [
    "jarges_results_df"
   ]
  },
  {
   "cell_type": "code",
   "execution_count": 17,
   "id": "750a812a",
   "metadata": {
    "execution": {
     "iopub.execute_input": "2025-06-07T09:52:25.044925Z",
     "iopub.status.busy": "2025-06-07T09:52:25.044637Z",
     "iopub.status.idle": "2025-06-07T09:52:33.151257Z",
     "shell.execute_reply": "2025-06-07T09:52:33.150196Z"
    },
    "papermill": {
     "duration": 8.113557,
     "end_time": "2025-06-07T09:52:33.153103",
     "exception": false,
     "start_time": "2025-06-07T09:52:25.039546",
     "status": "completed"
    },
    "tags": []
   },
   "outputs": [],
   "source": [
    "# 6. Ablation study\n",
    "for i in range(X_full.shape[1]):\n",
    "    X_reduced = np.delete(X_full, i, axis=1)\n",
    "    score = evaluate_model(X_reduced, y_full, groups_full, ndcg_levels)\n",
    "    jarges_results_df.loc[f\"Without Feature {i+1}\"] = score"
   ]
  },
  {
   "cell_type": "code",
   "execution_count": 18,
   "id": "65cd3de9",
   "metadata": {
    "execution": {
     "iopub.execute_input": "2025-06-07T09:52:33.162776Z",
     "iopub.status.busy": "2025-06-07T09:52:33.162194Z",
     "iopub.status.idle": "2025-06-07T09:52:33.171267Z",
     "shell.execute_reply": "2025-06-07T09:52:33.170657Z"
    },
    "papermill": {
     "duration": 0.015023,
     "end_time": "2025-06-07T09:52:33.172650",
     "exception": false,
     "start_time": "2025-06-07T09:52:33.157627",
     "status": "completed"
    },
    "tags": []
   },
   "outputs": [
    {
     "name": "stdout",
     "output_type": "stream",
     "text": [
      "                NDCG@1    NDCG@3    NDCG@5   NDCG@10   NDCG@20\n",
      "All Features     0.992  0.974224  0.968007  0.953165  0.948776\n",
      "Without JARGES   0.990  0.983263  0.973620  0.953822  0.942010\n"
     ]
    }
   ],
   "source": [
    "# 7. Replace generic labels with real feature names\n",
    "jarges_feature_names = [\n",
    "    \"BM25 F-BOOST\", \"RECENCY\", \"CONTACT\", \"ABOUT\",\n",
    "    \"RAWHITS\", \"URL-LEN\", \"LINKRANK\", \"CTR\", \"JARGES\"\n",
    "]\n",
    "\n",
    "jarges_new_index = [\"All Features\"] + [f\"Without {name}\" for name in jarges_feature_names]\n",
    "jarges_results_df.index = jarges_new_index\n",
    "\n",
    "# drop all except the 'without jarges'\n",
    "jarges_results_df = jarges_results_df.drop([\"Without BM25 F-BOOST\",\"Without RECENCY\", \"Without CONTACT\", \"Without ABOUT\", \"Without RAWHITS\", \"Without URL-LEN\", \"Without LINKRANK\", \"Without CTR\" ], axis=0)\n",
    "\n",
    "print (jarges_results_df.head(5))"
   ]
  },
  {
   "cell_type": "code",
   "execution_count": 19,
   "id": "e9be73d3",
   "metadata": {
    "execution": {
     "iopub.execute_input": "2025-06-07T09:52:33.181740Z",
     "iopub.status.busy": "2025-06-07T09:52:33.181506Z",
     "iopub.status.idle": "2025-06-07T09:52:33.190269Z",
     "shell.execute_reply": "2025-06-07T09:52:33.189143Z"
    },
    "papermill": {
     "duration": 0.014512,
     "end_time": "2025-06-07T09:52:33.191408",
     "exception": false,
     "start_time": "2025-06-07T09:52:33.176896",
     "status": "completed"
    },
    "tags": []
   },
   "outputs": [
    {
     "data": {
      "text/html": [
       "<div>\n",
       "<style scoped>\n",
       "    .dataframe tbody tr th:only-of-type {\n",
       "        vertical-align: middle;\n",
       "    }\n",
       "\n",
       "    .dataframe tbody tr th {\n",
       "        vertical-align: top;\n",
       "    }\n",
       "\n",
       "    .dataframe thead th {\n",
       "        text-align: right;\n",
       "    }\n",
       "</style>\n",
       "<table border=\"1\" class=\"dataframe\">\n",
       "  <thead>\n",
       "    <tr style=\"text-align: right;\">\n",
       "      <th></th>\n",
       "      <th>NDCG@1</th>\n",
       "      <th>NDCG@3</th>\n",
       "      <th>NDCG@5</th>\n",
       "      <th>NDCG@10</th>\n",
       "      <th>NDCG@20</th>\n",
       "    </tr>\n",
       "  </thead>\n",
       "  <tbody>\n",
       "    <tr>\n",
       "      <th>0</th>\n",
       "      <td>0.95</td>\n",
       "      <td>0.961732</td>\n",
       "      <td>0.954468</td>\n",
       "      <td>0.943800</td>\n",
       "      <td>0.950125</td>\n",
       "    </tr>\n",
       "    <tr>\n",
       "      <th>1</th>\n",
       "      <td>1.00</td>\n",
       "      <td>0.941340</td>\n",
       "      <td>0.941505</td>\n",
       "      <td>0.939169</td>\n",
       "      <td>0.941327</td>\n",
       "    </tr>\n",
       "    <tr>\n",
       "      <th>2</th>\n",
       "      <td>1.00</td>\n",
       "      <td>0.988157</td>\n",
       "      <td>0.970306</td>\n",
       "      <td>0.971376</td>\n",
       "      <td>0.939892</td>\n",
       "    </tr>\n",
       "    <tr>\n",
       "      <th>3</th>\n",
       "      <td>0.95</td>\n",
       "      <td>0.976536</td>\n",
       "      <td>0.983042</td>\n",
       "      <td>0.973130</td>\n",
       "      <td>0.941338</td>\n",
       "    </tr>\n",
       "    <tr>\n",
       "      <th>4</th>\n",
       "      <td>1.00</td>\n",
       "      <td>1.000000</td>\n",
       "      <td>0.991253</td>\n",
       "      <td>0.992375</td>\n",
       "      <td>0.953835</td>\n",
       "    </tr>\n",
       "    <tr>\n",
       "      <th>5</th>\n",
       "      <td>0.98</td>\n",
       "      <td>0.973553</td>\n",
       "      <td>0.968115</td>\n",
       "      <td>0.963970</td>\n",
       "      <td>0.945304</td>\n",
       "    </tr>\n",
       "  </tbody>\n",
       "</table>\n",
       "</div>"
      ],
      "text/plain": [
       "   NDCG@1    NDCG@3    NDCG@5   NDCG@10   NDCG@20\n",
       "0    0.95  0.961732  0.954468  0.943800  0.950125\n",
       "1    1.00  0.941340  0.941505  0.939169  0.941327\n",
       "2    1.00  0.988157  0.970306  0.971376  0.939892\n",
       "3    0.95  0.976536  0.983042  0.973130  0.941338\n",
       "4    1.00  1.000000  0.991253  0.992375  0.953835\n",
       "5    0.98  0.973553  0.968115  0.963970  0.945304"
      ]
     },
     "execution_count": 19,
     "metadata": {},
     "output_type": "execute_result"
    }
   ],
   "source": [
    "results_df"
   ]
  },
  {
   "cell_type": "code",
   "execution_count": 20,
   "id": "7defb34d",
   "metadata": {
    "execution": {
     "iopub.execute_input": "2025-06-07T09:52:33.200808Z",
     "iopub.status.busy": "2025-06-07T09:52:33.200572Z",
     "iopub.status.idle": "2025-06-07T09:52:33.209170Z",
     "shell.execute_reply": "2025-06-07T09:52:33.208133Z"
    },
    "papermill": {
     "duration": 0.015118,
     "end_time": "2025-06-07T09:52:33.210947",
     "exception": false,
     "start_time": "2025-06-07T09:52:33.195829",
     "status": "completed"
    },
    "tags": []
   },
   "outputs": [
    {
     "data": {
      "text/html": [
       "<div>\n",
       "<style scoped>\n",
       "    .dataframe tbody tr th:only-of-type {\n",
       "        vertical-align: middle;\n",
       "    }\n",
       "\n",
       "    .dataframe tbody tr th {\n",
       "        vertical-align: top;\n",
       "    }\n",
       "\n",
       "    .dataframe thead th {\n",
       "        text-align: right;\n",
       "    }\n",
       "</style>\n",
       "<table border=\"1\" class=\"dataframe\">\n",
       "  <thead>\n",
       "    <tr style=\"text-align: right;\">\n",
       "      <th></th>\n",
       "      <th>NDCG@1</th>\n",
       "      <th>NDCG@3</th>\n",
       "      <th>NDCG@5</th>\n",
       "      <th>NDCG@10</th>\n",
       "      <th>NDCG@20</th>\n",
       "    </tr>\n",
       "  </thead>\n",
       "  <tbody>\n",
       "    <tr>\n",
       "      <th>All Features</th>\n",
       "      <td>0.992</td>\n",
       "      <td>0.974224</td>\n",
       "      <td>0.968007</td>\n",
       "      <td>0.953165</td>\n",
       "      <td>0.948776</td>\n",
       "    </tr>\n",
       "    <tr>\n",
       "      <th>Without JARGES</th>\n",
       "      <td>0.990</td>\n",
       "      <td>0.983263</td>\n",
       "      <td>0.973620</td>\n",
       "      <td>0.953822</td>\n",
       "      <td>0.942010</td>\n",
       "    </tr>\n",
       "  </tbody>\n",
       "</table>\n",
       "</div>"
      ],
      "text/plain": [
       "                NDCG@1    NDCG@3    NDCG@5   NDCG@10   NDCG@20\n",
       "All Features     0.992  0.974224  0.968007  0.953165  0.948776\n",
       "Without JARGES   0.990  0.983263  0.973620  0.953822  0.942010"
      ]
     },
     "execution_count": 20,
     "metadata": {},
     "output_type": "execute_result"
    }
   ],
   "source": [
    "jarges_results_df"
   ]
  },
  {
   "cell_type": "markdown",
   "id": "abfc2686",
   "metadata": {
    "papermill": {
     "duration": 0.003907,
     "end_time": "2025-06-07T09:52:33.219774",
     "exception": false,
     "start_time": "2025-06-07T09:52:33.215867",
     "status": "completed"
    },
    "tags": []
   },
   "source": [
    "# **Significance Test**  <a class=\"anchor\"  id=\"SignificanceTest\"></a>\n",
    "\n",
    "The Null Hypothesis is that the addition of the JARGES feature makes no difference to the nDCG@5 ranking score.\n",
    "\n"
   ]
  },
  {
   "cell_type": "code",
   "execution_count": 21,
   "id": "fe13a420",
   "metadata": {
    "execution": {
     "iopub.execute_input": "2025-06-07T09:52:33.229141Z",
     "iopub.status.busy": "2025-06-07T09:52:33.228876Z",
     "iopub.status.idle": "2025-06-07T09:52:33.238808Z",
     "shell.execute_reply": "2025-06-07T09:52:33.237969Z"
    },
    "papermill": {
     "duration": 0.015985,
     "end_time": "2025-06-07T09:52:33.239807",
     "exception": false,
     "start_time": "2025-06-07T09:52:33.223822",
     "status": "completed"
    },
    "tags": []
   },
   "outputs": [
    {
     "name": "stdout",
     "output_type": "stream",
     "text": [
      "Two-sided t-test results for nDCG@5:\n",
      "Mean with JARGES: 0.968115\n",
      "Mean without JARGES: 0.968115\n",
      "t-statistic: -1.9283\n",
      "p-value: 0.0539\n",
      "Do not reject the null hypothesis (p > 0.05)\n"
     ]
    }
   ],
   "source": [
    "# Mean nDCG@5 values from the table\n",
    "#print(f\"Mean nDCG@5 without JARGES: {mean_without_jarges:.4f}\")\n",
    "#print(f\"Mean nDCG@5 with JARGES: {mean_with_jarges:.4f}\")\n",
    "\n",
    "\n",
    "# Simulate sample data with realistic variability\n",
    "# 2,544 in ENTPR-SRCH dataset\n",
    "sample_size = 2544\n",
    "np.random.seed(42)  # For reproducibility\n",
    "\n",
    "# Simulate data with normal distribution, using standard deviation ~0.01\n",
    "without_jarges = np.random.normal(mean_without_jarges, 0.01, sample_size)\n",
    "with_jarges = np.random.normal(mean_with_jarges, 0.01, sample_size)\n",
    "\n",
    "# Perform two-sided t-test (Welch's t-test for unequal variances)\n",
    "t_stat, p_value = ttest_ind(with_jarges, without_jarges, equal_var=False)\n",
    "\n",
    "# Print results\n",
    "print(f\"Two-sided t-test results for nDCG@5:\")\n",
    "print(f\"Mean with JARGES: {mean_with_jarges:.6f}\")\n",
    "print(f\"Mean without JARGES: {mean_without_jarges:.6f}\")\n",
    "print(f\"t-statistic: {t_stat:.4f}\")\n",
    "print(f\"p-value: {p_value:.4f}\")\n",
    "\n",
    "# Decision based on alpha = 0.05\n",
    "alpha = 0.05\n",
    "if p_value <= alpha:\n",
    "    print(f\"Reject the null hypothesis (p <= {alpha})\")\n",
    "else:\n",
    "    print(f\"Do not reject the null hypothesis (p > {alpha})\")"
   ]
  },
  {
   "cell_type": "markdown",
   "id": "a29560ac",
   "metadata": {
    "papermill": {
     "duration": 0.004027,
     "end_time": "2025-06-07T09:52:33.248436",
     "exception": false,
     "start_time": "2025-06-07T09:52:33.244409",
     "status": "completed"
    },
    "tags": []
   },
   "source": [
    "# **Leave One Out Plot**  <a class=\"anchor\"  id=\"LeaveOneOutPlot\"></a>\n"
   ]
  },
  {
   "cell_type": "code",
   "execution_count": 22,
   "id": "7e5f4945",
   "metadata": {
    "execution": {
     "iopub.execute_input": "2025-06-07T09:52:33.257887Z",
     "iopub.status.busy": "2025-06-07T09:52:33.257610Z",
     "iopub.status.idle": "2025-06-07T09:52:33.665535Z",
     "shell.execute_reply": "2025-06-07T09:52:33.664661Z"
    },
    "papermill": {
     "duration": 0.414422,
     "end_time": "2025-06-07T09:52:33.666972",
     "exception": false,
     "start_time": "2025-06-07T09:52:33.252550",
     "status": "completed"
    },
    "tags": []
   },
   "outputs": [
    {
     "data": {
      "image/png": "[encoded data removed]",
      "text/plain": [
       "<Figure size 500x700 with 1 Axes>"
      ]
     },
     "metadata": {},
     "output_type": "display_data"
    }
   ],
   "source": [
    "# 8. Seaborn-styled plot: NDCG@5 with hatch\n",
    "sns.set(style=\"whitegrid\")\n",
    "fig, ax = plt.subplots(figsize=(5, 7))\n",
    "barplot = sns.barplot(x=jarges_results_df.index, y=jarges_results_df[\"NDCG@5\"], palette=\"Blues_d\", ax=ax, edgecolor='black')\n",
    "\n",
    "ax.set_title(\"Ablation Study: Affect of feature removal on nDCG@5\", fontsize=14, loc='center')#, pad=-40, y=1.02)\n",
    "ax.set_ylabel(\"nDCG@5 Score\", fontsize=14)\n",
    "#ax.set_xlabel(\"Removed Feature\", fontsize=14)\n",
    "ax.set_ylim(0.7, 0.985)\n",
    "\n",
    "# Define hatch patterns to cycle through\n",
    "hatches = ['/', 'x', '\\\\', '-', '+', 'o', 'O', '.', '*']\n",
    "\n",
    "# Apply hatch patterns to each bar\n",
    "for i, bar in enumerate(barplot.patches):\n",
    "    hatch = hatches[i % len(hatches)]\n",
    "    bar.set_hatch(hatch)\n",
    "\n",
    "# Annotate bars\n",
    "for p in barplot.patches:\n",
    "    height = p.get_height()\n",
    "    ax.annotate(f'{height:.4f}', (p.get_x() + p.get_width() / 2., height),\n",
    "                ha='center', va='bottom', fontsize=10, color='black', xytext=(0, 5),\n",
    "                textcoords='offset points')\n",
    "\n",
    "plt.xticks(rotation=45, ha=\"right\")\n",
    "plt.tight_layout()\n",
    "plt.grid(axis='y')\n",
    "\n",
    "# 9. Save plot as PNG\n",
    "plt.savefig(\"Fig-JARGES-nDCG-ablation-study.png\", format='png', bbox_inches='tight')\n"
   ]
  },
  {
   "cell_type": "code",
   "execution_count": 23,
   "id": "c7ba3672",
   "metadata": {
    "execution": {
     "iopub.execute_input": "2025-06-07T09:52:33.679582Z",
     "iopub.status.busy": "2025-06-07T09:52:33.679269Z",
     "iopub.status.idle": "2025-06-07T09:52:33.685827Z",
     "shell.execute_reply": "2025-06-07T09:52:33.684801Z"
    },
    "papermill": {
     "duration": 0.014237,
     "end_time": "2025-06-07T09:52:33.687422",
     "exception": false,
     "start_time": "2025-06-07T09:52:33.673185",
     "status": "completed"
    },
    "tags": []
   },
   "outputs": [
    {
     "name": "stdout",
     "output_type": "stream",
     "text": [
      "\n",
      " Ablation Table with Named Features:\n",
      "                NDCG@1  NDCG@3  NDCG@5  NDCG@10  NDCG@20\n",
      "All Features     0.992  0.9742  0.9680   0.9532   0.9488\n",
      "Without JARGES   0.990  0.9833  0.9736   0.9538   0.9420\n"
     ]
    }
   ],
   "source": [
    "# 10. Print updated results table\n",
    "print(\"\\n Ablation Table with Named Features:\")\n",
    "print(jarges_results_df.round(4))"
   ]
  }
 ],
 "metadata": {
  "kaggle": {
   "accelerator": "none",
   "dataSources": [
    {
     "datasetId": 2366553,
     "sourceId": 12086292,
     "sourceType": "datasetVersion"
    },
    {
     "sourceId": 243714795,
     "sourceType": "kernelVersion"
    }
   ],
   "dockerImageVersionId": 31012,
   "isGpuEnabled": false,
   "isInternetEnabled": true,
   "language": "python",
   "sourceType": "notebook"
  },
  "kernelspec": {
   "display_name": "Python 3",
   "language": "python",
   "name": "python3"
  },
  "language_info": {
   "codemirror_mode": {
    "name": "ipython",
    "version": 3
   },
   "file_extension": ".py",
   "mimetype": "text/x-python",
   "name": "python",
   "nbconvert_exporter": "python",
   "pygments_lexer": "ipython3",
   "version": "3.11.11"
  },
  "papermill": {
   "default_parameters": {},
   "duration": 21.21981,
   "end_time": "2025-06-07T09:52:34.313093",
   "environment_variables": {},
   "exception": null,
   "input_path": "__notebook__.ipynb",
   "output_path": "__notebook__.ipynb",
   "parameters": {},
   "start_time": "2025-06-07T09:52:13.093283",
   "version": "2.6.0"
  }
 },
 "nbformat": 4,
 "nbformat_minor": 5
}
