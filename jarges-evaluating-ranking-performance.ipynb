{
 "cells": [
  {
   "cell_type": "markdown",
   "id": "8e7efb76",
   "metadata": {
    "papermill": {
     "duration": 0.005618,
     "end_time": "2025-06-06T14:06:56.166443",
     "exception": false,
     "start_time": "2025-06-06T14:06:56.160825",
     "status": "completed"
    },
    "tags": []
   },
   "source": [
    "# **Evaluating the impact of the JARGES ranking feature**\n",
    " \n",
    "* [Introduction](#introduction)\n",
    "* [Loading the ES dataset](#Loading)\n",
    "* [Ranking Performance (without JARGES)](#RankingPerformance)\n",
    "* [Add JARGES feature to dataset](#AddFeature)\n",
    "* [Ranking Performance with JARGES](#NewPlot)\n",
    "* [Significance Test](#SignificanceTest)"
   ]
  },
  {
   "cell_type": "code",
   "execution_count": 1,
   "id": "321620ea",
   "metadata": {
    "_cell_guid": "b1076dfc-b9ad-4769-8c92-a6c4dae69d19",
    "_uuid": "8f2839f25d086af736a60e9eeb907d3b93b6e0e5",
    "execution": {
     "iopub.execute_input": "2025-06-06T14:06:56.177734Z",
     "iopub.status.busy": "2025-06-06T14:06:56.177354Z",
     "iopub.status.idle": "2025-06-06T14:07:00.915995Z",
     "shell.execute_reply": "2025-06-06T14:07:00.914970Z"
    },
    "papermill": {
     "duration": 4.746307,
     "end_time": "2025-06-06T14:07:00.917828",
     "exception": false,
     "start_time": "2025-06-06T14:06:56.171521",
     "status": "completed"
    },
    "tags": []
   },
   "outputs": [],
   "source": [
    "#Load All Libraries here\n",
    "\n",
    "import numpy as np \n",
    "import pandas as pd \n",
    "\n",
    "import os\n",
    "\n",
    "import matplotlib.pyplot as plt\n",
    "import seaborn as sns\n",
    "from sklearn.ensemble import GradientBoostingRegressor\n",
    "from sklearn.model_selection import GroupKFold\n",
    "from sklearn.metrics import ndcg_score\n",
    "\n",
    "from scipy.stats import ttest_ind"
   ]
  },
  {
   "cell_type": "markdown",
   "id": "54e2cc8e",
   "metadata": {
    "papermill": {
     "duration": 0.004557,
     "end_time": "2025-06-06T14:07:00.927359",
     "exception": false,
     "start_time": "2025-06-06T14:07:00.922802",
     "status": "completed"
    },
    "tags": []
   },
   "source": [
    "# **Introduction**  <a class=\"anchor\"  id=\"introduction\"></a>\n",
    "\n",
    "The objective of this experimentstudy is to determine the relative weights for each of the\n",
    "LTR features (OBJ-1) in the ENTRP-SRCH dataset. The ablation process involves removing\n",
    "a feature, which allows direct observation how its absence affects model performance, confirming its true importance. An ablation study also provides insights into the redundancy,\n",
    "and interactions between features.\n"
   ]
  },
  {
   "cell_type": "markdown",
   "id": "3ede3d80",
   "metadata": {
    "papermill": {
     "duration": 0.004482,
     "end_time": "2025-06-06T14:07:00.936549",
     "exception": false,
     "start_time": "2025-06-06T14:07:00.932067",
     "status": "completed"
    },
    "tags": []
   },
   "source": [
    "# **Loading the ENTRP-SRCH dataset**  <a class=\"anchor\"  id=\"Loading\"></a>\n",
    "\n",
    "This is the dataset first published as part of Paper I “Learning to Rank: Performance and Practical Barriers to Deployment in Enterprise Search.” \n"
   ]
  },
  {
   "cell_type": "code",
   "execution_count": 2,
   "id": "e1d53a1f",
   "metadata": {
    "execution": {
     "iopub.execute_input": "2025-06-06T14:07:00.947448Z",
     "iopub.status.busy": "2025-06-06T14:07:00.947019Z",
     "iopub.status.idle": "2025-06-06T14:07:00.961124Z",
     "shell.execute_reply": "2025-06-06T14:07:00.959836Z"
    },
    "papermill": {
     "duration": 0.021482,
     "end_time": "2025-06-06T14:07:00.962752",
     "exception": false,
     "start_time": "2025-06-06T14:07:00.941270",
     "status": "completed"
    },
    "tags": []
   },
   "outputs": [
    {
     "name": "stdout",
     "output_type": "stream",
     "text": [
      "/kaggle/input/entrp-srch/ENTRP-SRCH-v14.txt\n",
      "/kaggle/input/entrp-srch/dataset-with-urls.txt\n",
      "/kaggle/input/jarges-detecting-jargon-for-es/corpus_glossary.txt\n",
      "/kaggle/input/jarges-detecting-jargon-for-es/__results__.html\n",
      "/kaggle/input/jarges-detecting-jargon-for-es/refined-jargon-list.txt\n",
      "/kaggle/input/jarges-detecting-jargon-for-es/TCD_All_Micro.txt-small\n",
      "/kaggle/input/jarges-detecting-jargon-for-es/__notebook__.ipynb\n",
      "/kaggle/input/jarges-detecting-jargon-for-es/__output__.json\n",
      "/kaggle/input/jarges-detecting-jargon-for-es/custom.css\n"
     ]
    }
   ],
   "source": [
    "for dirname, _, filenames in os.walk('/kaggle/input'):\n",
    "    for filename in filenames:\n",
    "        print(os.path.join(dirname, filename))\n",
    "\n",
    "dataset_file=\"/kaggle/input/entrp-srch/ENTRP-SRCH-v14.txt\"\n"
   ]
  },
  {
   "cell_type": "code",
   "execution_count": 3,
   "id": "6d10f17b",
   "metadata": {
    "execution": {
     "iopub.execute_input": "2025-06-06T14:07:00.974292Z",
     "iopub.status.busy": "2025-06-06T14:07:00.973954Z",
     "iopub.status.idle": "2025-06-06T14:07:00.978570Z",
     "shell.execute_reply": "2025-06-06T14:07:00.977723Z"
    },
    "papermill": {
     "duration": 0.012425,
     "end_time": "2025-06-06T14:07:00.980296",
     "exception": false,
     "start_time": "2025-06-06T14:07:00.967871",
     "status": "completed"
    },
    "tags": []
   },
   "outputs": [],
   "source": [
    "#!head -10 /kaggle/input/entrp-srch/dataset-with-urls.txt"
   ]
  },
  {
   "cell_type": "markdown",
   "id": "e3e4875a",
   "metadata": {
    "papermill": {
     "duration": 0.004757,
     "end_time": "2025-06-06T14:07:00.990087",
     "exception": false,
     "start_time": "2025-06-06T14:07:00.985330",
     "status": "completed"
    },
    "tags": []
   },
   "source": [
    "# **Ranking Performance (without JARGON)**  <a class=\"anchor\"  id=\"Ranking Performance\"></a>\n",
    "\n",
    "Before carrying out an Ablation Study, the overall ranking statistics (nDCG) must be computed.  K-Folds are used to ensure no overfitting."
   ]
  },
  {
   "cell_type": "code",
   "execution_count": 4,
   "id": "9c384e56",
   "metadata": {
    "execution": {
     "iopub.execute_input": "2025-06-06T14:07:01.001689Z",
     "iopub.status.busy": "2025-06-06T14:07:01.001358Z",
     "iopub.status.idle": "2025-06-06T14:07:01.008319Z",
     "shell.execute_reply": "2025-06-06T14:07:01.007174Z"
    },
    "papermill": {
     "duration": 0.01485,
     "end_time": "2025-06-06T14:07:01.010117",
     "exception": false,
     "start_time": "2025-06-06T14:07:00.995267",
     "status": "completed"
    },
    "tags": []
   },
   "outputs": [],
   "source": [
    "# Parse LETOR format\n",
    "def parse_letor_data(file_content):\n",
    "    X, y, groups = [], [], []\n",
    "    for line in file_content.strip().split('\\n'):\n",
    "        if not line.strip():\n",
    "            continue\n",
    "        parts = line.split()\n",
    "        relevance = int(parts[0])\n",
    "        qid = int(parts[1].split(':')[1])\n",
    "        features = np.zeros(8)\n",
    "        for feat in parts[2:]:\n",
    "            fid, val = feat.split(':')\n",
    "            features[int(fid) - 1] = float(val)\n",
    "        X.append(features)\n",
    "        y.append(relevance)\n",
    "        groups.append(qid)\n",
    "    return np.array(X), np.array(y), np.array(groups)"
   ]
  },
  {
   "cell_type": "code",
   "execution_count": 5,
   "id": "c08ebdc1",
   "metadata": {
    "execution": {
     "iopub.execute_input": "2025-06-06T14:07:01.021165Z",
     "iopub.status.busy": "2025-06-06T14:07:01.020864Z",
     "iopub.status.idle": "2025-06-06T14:07:01.050919Z",
     "shell.execute_reply": "2025-06-06T14:07:01.049941Z"
    },
    "papermill": {
     "duration": 0.037582,
     "end_time": "2025-06-06T14:07:01.052728",
     "exception": false,
     "start_time": "2025-06-06T14:07:01.015146",
     "status": "completed"
    },
    "tags": []
   },
   "outputs": [],
   "source": [
    "# Load file\n",
    "with open(dataset_file, \"r\") as f:\n",
    "    file_content = f.read()\n",
    "\n",
    "X, y, groups = parse_letor_data(file_content)\n"
   ]
  },
  {
   "cell_type": "code",
   "execution_count": 6,
   "id": "627e2db6",
   "metadata": {
    "execution": {
     "iopub.execute_input": "2025-06-06T14:07:01.063993Z",
     "iopub.status.busy": "2025-06-06T14:07:01.063696Z",
     "iopub.status.idle": "2025-06-06T14:07:02.272343Z",
     "shell.execute_reply": "2025-06-06T14:07:02.271376Z"
    },
    "papermill": {
     "duration": 1.216481,
     "end_time": "2025-06-06T14:07:02.274321",
     "exception": false,
     "start_time": "2025-06-06T14:07:01.057840",
     "status": "completed"
    },
    "tags": []
   },
   "outputs": [],
   "source": [
    "# Setup CV\n",
    "group_kfold = GroupKFold(n_splits=5)\n",
    "ndcg_levels = [1, 3, 5, 10, 20]\n",
    "results = []\n",
    "feature_importances = []\n",
    "\n",
    "for train_idx, test_idx in group_kfold.split(X, y, groups):\n",
    "    X_train, X_test = X[train_idx], X[test_idx]\n",
    "    y_train, y_test = y[train_idx], y[test_idx]\n",
    "    qid_test = groups[test_idx]\n",
    "\n",
    "    model = GradientBoostingRegressor(n_estimators=100, learning_rate=0.1, max_depth=3, random_state=42)\n",
    "    model.fit(X_train, y_train)\n",
    "    y_pred = model.predict(X_test)\n",
    "\n",
    "    # Evaluate by query\n",
    "    ndcg_scores_per_k = {f'NDCG@{k}': [] for k in ndcg_levels}\n",
    "    unique_qids = np.unique(qid_test)\n",
    "    for qid in unique_qids:\n",
    "        mask = qid_test == qid\n",
    "        y_true = y_test[mask].reshape(1, -1)\n",
    "        y_scores = y_pred[mask].reshape(1, -1)\n",
    "        for k in ndcg_levels:\n",
    "            if y_true.shape[1] >= k:\n",
    "                ndcg_scores_per_k[f'NDCG@{k}'].append(ndcg_score(y_true, y_scores, k=k))\n",
    "\n",
    "    fold_result = {k: np.mean(v) for k, v in ndcg_scores_per_k.items()}\n",
    "    results.append(fold_result)\n",
    "    feature_importances.append(model.feature_importances_)\n"
   ]
  },
  {
   "cell_type": "code",
   "execution_count": 7,
   "id": "c20a3d7f",
   "metadata": {
    "execution": {
     "iopub.execute_input": "2025-06-06T14:07:02.285973Z",
     "iopub.status.busy": "2025-06-06T14:07:02.285577Z",
     "iopub.status.idle": "2025-06-06T14:07:02.312032Z",
     "shell.execute_reply": "2025-06-06T14:07:02.310886Z"
    },
    "papermill": {
     "duration": 0.033964,
     "end_time": "2025-06-06T14:07:02.313652",
     "exception": false,
     "start_time": "2025-06-06T14:07:02.279688",
     "status": "completed"
    },
    "tags": []
   },
   "outputs": [
    {
     "name": "stdout",
     "output_type": "stream",
     "text": [
      "\n",
      " NDCG@n Scores Across Folds:\n",
      "   NDCG@1  NDCG@3  NDCG@5  NDCG@10  NDCG@20\n",
      "0    0.95  0.9617  0.9545   0.9438   0.9501\n",
      "1    1.00  0.9413  0.9415   0.9392   0.9413\n",
      "2    1.00  0.9882  0.9703   0.9714   0.9399\n",
      "3    0.95  0.9765  0.9830   0.9731   0.9413\n",
      "4    1.00  1.0000  0.9913   0.9924   0.9538\n",
      "5    0.98  0.9736  0.9681   0.9640   0.9453\n"
     ]
    }
   ],
   "source": [
    "# Create result table\n",
    "results_df = pd.DataFrame(results)\n",
    "avg_scores = results_df.mean()\n",
    "avg_scores.name = 'Average'\n",
    "results_df = pd.concat([results_df, avg_scores.to_frame().T], ignore_index=True)\n",
    "\n",
    "print(\"\\n NDCG@n Scores Across Folds:\")\n",
    "print(results_df.round(4))"
   ]
  },
  {
   "cell_type": "markdown",
   "id": "c8fc7a30",
   "metadata": {
    "papermill": {
     "duration": 0.004611,
     "end_time": "2025-06-06T14:07:02.323806",
     "exception": false,
     "start_time": "2025-06-06T14:07:02.319195",
     "status": "completed"
    },
    "tags": []
   },
   "source": [
    "This approximately matches the scores achived in EXP-1, which used the XGBoost (LambdaMart) framework to compute nDCG"
   ]
  },
  {
   "cell_type": "code",
   "execution_count": 8,
   "id": "d4751d9a",
   "metadata": {
    "execution": {
     "iopub.execute_input": "2025-06-06T14:07:02.334583Z",
     "iopub.status.busy": "2025-06-06T14:07:02.334274Z",
     "iopub.status.idle": "2025-06-06T14:07:02.763810Z",
     "shell.execute_reply": "2025-06-06T14:07:02.762979Z"
    },
    "papermill": {
     "duration": 0.436789,
     "end_time": "2025-06-06T14:07:02.765320",
     "exception": false,
     "start_time": "2025-06-06T14:07:02.328531",
     "status": "completed"
    },
    "tags": []
   },
   "outputs": [
    {
     "data": {
      "image/png": "[encoded data removed]",
      "text/plain": [
       "<Figure size 1000x600 with 1 Axes>"
      ]
     },
     "metadata": {},
     "output_type": "display_data"
    }
   ],
   "source": [
    "# Plot\n",
    "results_df.iloc[:-1].plot(kind='bar', figsize=(10, 6), title='NDCG@n Across Folds')\n",
    "plt.xlabel(\"Fold\", fontsize=16)\n",
    "plt.ylabel(\"NDCG Score\",  fontsize=16)\n",
    "plt.xticks(ticks=range(len(results_df)-1), labels=[f'Fold {i+1}' for i in range(len(results_df)-1)], rotation=0)\n",
    "plt.ylim(0, 1.1)\n",
    "plt.tight_layout()\n",
    "plt.legend(loc='lower left')  # Changed legend location to lower left\n",
    "plt.show()"
   ]
  },
  {
   "cell_type": "code",
   "execution_count": 9,
   "id": "eee9b240",
   "metadata": {
    "execution": {
     "iopub.execute_input": "2025-06-06T14:07:02.778373Z",
     "iopub.status.busy": "2025-06-06T14:07:02.778060Z",
     "iopub.status.idle": "2025-06-06T14:07:02.791691Z",
     "shell.execute_reply": "2025-06-06T14:07:02.790544Z"
    },
    "papermill": {
     "duration": 0.022216,
     "end_time": "2025-06-06T14:07:02.793597",
     "exception": false,
     "start_time": "2025-06-06T14:07:02.771381",
     "status": "completed"
    },
    "tags": []
   },
   "outputs": [
    {
     "name": "stdout",
     "output_type": "stream",
     "text": [
      "\n",
      " Average Feature Importances:\n",
      "     Feature  Importance\n",
      "5  Feature_6    0.623960\n",
      "6  Feature_7    0.137136\n",
      "7  Feature_8    0.129636\n",
      "1  Feature_2    0.046416\n",
      "0  Feature_1    0.039510\n",
      "4  Feature_5    0.021321\n",
      "2  Feature_3    0.001507\n",
      "3  Feature_4    0.000514\n"
     ]
    }
   ],
   "source": [
    "# Feature Importances\n",
    "avg_feature_importances = np.mean(feature_importances, axis=0)\n",
    "feature_df = pd.DataFrame({\n",
    "    'Feature': [f'Feature_{i+1}' for i in range(len(avg_feature_importances))],\n",
    "    'Importance': avg_feature_importances\n",
    "}).sort_values(by='Importance', ascending=False)\n",
    "\n",
    "print(\"\\n Average Feature Importances:\")\n",
    "print(feature_df)\n",
    "\n"
   ]
  },
  {
   "cell_type": "markdown",
   "id": "36dc2dba",
   "metadata": {
    "papermill": {
     "duration": 0.006305,
     "end_time": "2025-06-06T14:07:02.806235",
     "exception": false,
     "start_time": "2025-06-06T14:07:02.799930",
     "status": "completed"
    },
    "tags": []
   },
   "source": [
    "# **Add JARGES to dataset**  <a class=\"anchor\"  id=\"AddFeature\"></a>\n",
    "\n",
    "Add a new column in the LTR format (i.e. COL_NUMBER:VALUE, where column number will be nine and the value will be the pre-computed 'jargony score'). \n"
   ]
  },
  {
   "cell_type": "code",
   "execution_count": 10,
   "id": "ae6b994c",
   "metadata": {
    "execution": {
     "iopub.execute_input": "2025-06-06T14:07:02.819270Z",
     "iopub.status.busy": "2025-06-06T14:07:02.818937Z",
     "iopub.status.idle": "2025-06-06T14:07:02.825544Z",
     "shell.execute_reply": "2025-06-06T14:07:02.824520Z"
    },
    "papermill": {
     "duration": 0.014801,
     "end_time": "2025-06-06T14:07:02.827043",
     "exception": false,
     "start_time": "2025-06-06T14:07:02.812242",
     "status": "completed"
    },
    "tags": []
   },
   "outputs": [],
   "source": [
    "# 1. Parse LETOR-style data\n",
    "def parse_letor_data(file_content):\n",
    "    X, y, groups = [], [], []\n",
    "    for line in file_content.strip().split('\\n'):\n",
    "        if not line.strip():\n",
    "            continue\n",
    "        parts = line.split()\n",
    "        relevance = int(parts[0])\n",
    "        qid = int(parts[1].split(':')[1])\n",
    "        features = np.zeros(8)\n",
    "        for feat in parts[2:]:\n",
    "            fid, val = feat.split(':')\n",
    "            features[int(fid) - 1] = float(val)\n",
    "        X.append(features)\n",
    "        y.append(relevance)\n",
    "        groups.append(qid)\n",
    "    return np.array(X), np.array(y), np.array(groups)"
   ]
  },
  {
   "cell_type": "code",
   "execution_count": 11,
   "id": "514bc070",
   "metadata": {
    "execution": {
     "iopub.execute_input": "2025-06-06T14:07:02.840312Z",
     "iopub.status.busy": "2025-06-06T14:07:02.839966Z",
     "iopub.status.idle": "2025-06-06T14:07:02.863346Z",
     "shell.execute_reply": "2025-06-06T14:07:02.862253Z"
    },
    "papermill": {
     "duration": 0.032522,
     "end_time": "2025-06-06T14:07:02.865396",
     "exception": false,
     "start_time": "2025-06-06T14:07:02.832874",
     "status": "completed"
    },
    "tags": []
   },
   "outputs": [],
   "source": [
    "# 2. Load dataset\n",
    "with open(dataset_file, \"r\") as f:\n",
    "    file_content = f.read()\n",
    "\n",
    "X_full, y_full, groups_full = parse_letor_data(file_content)"
   ]
  },
  {
   "cell_type": "code",
   "execution_count": 12,
   "id": "3507396d",
   "metadata": {
    "execution": {
     "iopub.execute_input": "2025-06-06T14:07:02.878700Z",
     "iopub.status.busy": "2025-06-06T14:07:02.878353Z",
     "iopub.status.idle": "2025-06-06T14:07:02.883108Z",
     "shell.execute_reply": "2025-06-06T14:07:02.882025Z"
    },
    "papermill": {
     "duration": 0.013364,
     "end_time": "2025-06-06T14:07:02.884971",
     "exception": false,
     "start_time": "2025-06-06T14:07:02.871607",
     "status": "completed"
    },
    "tags": []
   },
   "outputs": [],
   "source": [
    "# 3. Evaluation settings\n",
    "group_kfold = GroupKFold(n_splits=5)\n",
    "ndcg_levels = [1, 3, 5, 10, 20]"
   ]
  },
  {
   "cell_type": "code",
   "execution_count": 13,
   "id": "025370b7",
   "metadata": {
    "execution": {
     "iopub.execute_input": "2025-06-06T14:07:02.897800Z",
     "iopub.status.busy": "2025-06-06T14:07:02.897398Z",
     "iopub.status.idle": "2025-06-06T14:07:02.910326Z",
     "shell.execute_reply": "2025-06-06T14:07:02.909102Z"
    },
    "papermill": {
     "duration": 0.021493,
     "end_time": "2025-06-06T14:07:02.912271",
     "exception": false,
     "start_time": "2025-06-06T14:07:02.890778",
     "status": "completed"
    },
    "tags": []
   },
   "outputs": [],
   "source": [
    "# 4. NDCG evaluation function\n",
    "def evaluate_model(X, y, groups, ndcg_levels):\n",
    "    results = []\n",
    "    for train_idx, test_idx in group_kfold.split(X, y, groups):\n",
    "        X_train, X_test = X[train_idx], X[test_idx]\n",
    "        y_train, y_test = y[train_idx], y[test_idx]\n",
    "        qid_test = groups[test_idx]\n",
    "\n",
    "        model = GradientBoostingRegressor(n_estimators=100, learning_rate=0.1, max_depth=3, random_state=42)\n",
    "        model.fit(X_train, y_train)\n",
    "        y_pred = model.predict(X_test)\n",
    "\n",
    "        ndcg_scores_per_k = {f'NDCG@{k}': [] for k in ndcg_levels}\n",
    "        for qid in np.unique(qid_test):\n",
    "            mask = qid_test == qid\n",
    "            y_true = y_test[mask].reshape(1, -1)\n",
    "            y_scores = y_pred[mask].reshape(1, -1)\n",
    "            for k in ndcg_levels:\n",
    "                if y_true.shape[1] >= k:\n",
    "                    ndcg_scores_per_k[f'NDCG@{k}'].append(ndcg_score(y_true, y_scores, k=k))\n",
    "\n",
    "        fold_result = {k: np.mean(v) for k, v in ndcg_scores_per_k.items()}\n",
    "        results.append(fold_result)\n",
    "\n",
    "    return pd.DataFrame(results).mean()"
   ]
  },
  {
   "cell_type": "code",
   "execution_count": 14,
   "id": "c737696e",
   "metadata": {
    "execution": {
     "iopub.execute_input": "2025-06-06T14:07:02.924903Z",
     "iopub.status.busy": "2025-06-06T14:07:02.924543Z",
     "iopub.status.idle": "2025-06-06T14:07:04.127628Z",
     "shell.execute_reply": "2025-06-06T14:07:04.126706Z"
    },
    "papermill": {
     "duration": 1.211348,
     "end_time": "2025-06-06T14:07:04.129393",
     "exception": false,
     "start_time": "2025-06-06T14:07:02.918045",
     "status": "completed"
    },
    "tags": []
   },
   "outputs": [],
   "source": [
    "# 5. Baseline evaluation with all features\n",
    "base_scores = evaluate_model(X_full, y_full, groups_full, ndcg_levels)\n",
    "results_df = pd.DataFrame([base_scores], index=[\"All Features\"])\n"
   ]
  },
  {
   "cell_type": "code",
   "execution_count": 15,
   "id": "387f7285",
   "metadata": {
    "execution": {
     "iopub.execute_input": "2025-06-06T14:07:04.141980Z",
     "iopub.status.busy": "2025-06-06T14:07:04.141667Z",
     "iopub.status.idle": "2025-06-06T14:07:04.158980Z",
     "shell.execute_reply": "2025-06-06T14:07:04.157992Z"
    },
    "papermill": {
     "duration": 0.025367,
     "end_time": "2025-06-06T14:07:04.160453",
     "exception": false,
     "start_time": "2025-06-06T14:07:04.135086",
     "status": "completed"
    },
    "tags": []
   },
   "outputs": [
    {
     "data": {
      "text/html": [
       "<div>\n",
       "<style scoped>\n",
       "    .dataframe tbody tr th:only-of-type {\n",
       "        vertical-align: middle;\n",
       "    }\n",
       "\n",
       "    .dataframe tbody tr th {\n",
       "        vertical-align: top;\n",
       "    }\n",
       "\n",
       "    .dataframe thead th {\n",
       "        text-align: right;\n",
       "    }\n",
       "</style>\n",
       "<table border=\"1\" class=\"dataframe\">\n",
       "  <thead>\n",
       "    <tr style=\"text-align: right;\">\n",
       "      <th></th>\n",
       "      <th>NDCG@1</th>\n",
       "      <th>NDCG@3</th>\n",
       "      <th>NDCG@5</th>\n",
       "      <th>NDCG@10</th>\n",
       "      <th>NDCG@20</th>\n",
       "    </tr>\n",
       "  </thead>\n",
       "  <tbody>\n",
       "    <tr>\n",
       "      <th>All Features</th>\n",
       "      <td>0.98</td>\n",
       "      <td>0.973553</td>\n",
       "      <td>0.968115</td>\n",
       "      <td>0.96397</td>\n",
       "      <td>0.945304</td>\n",
       "    </tr>\n",
       "  </tbody>\n",
       "</table>\n",
       "</div>"
      ],
      "text/plain": [
       "              NDCG@1    NDCG@3    NDCG@5  NDCG@10   NDCG@20\n",
       "All Features    0.98  0.973553  0.968115  0.96397  0.945304"
      ]
     },
     "execution_count": 15,
     "metadata": {},
     "output_type": "execute_result"
    }
   ],
   "source": [
    "results_df"
   ]
  },
  {
   "cell_type": "code",
   "execution_count": 16,
   "id": "84f86890",
   "metadata": {
    "execution": {
     "iopub.execute_input": "2025-06-06T14:07:04.174484Z",
     "iopub.status.busy": "2025-06-06T14:07:04.173454Z",
     "iopub.status.idle": "2025-06-06T14:07:12.819440Z",
     "shell.execute_reply": "2025-06-06T14:07:12.818454Z"
    },
    "papermill": {
     "duration": 8.654974,
     "end_time": "2025-06-06T14:07:12.821607",
     "exception": false,
     "start_time": "2025-06-06T14:07:04.166633",
     "status": "completed"
    },
    "tags": []
   },
   "outputs": [],
   "source": [
    "# 6. Ablation study\n",
    "for i in range(X_full.shape[1]):\n",
    "    X_reduced = np.delete(X_full, i, axis=1)\n",
    "    score = evaluate_model(X_reduced, y_full, groups_full, ndcg_levels)\n",
    "    results_df.loc[f\"Without Feature {i+1}\"] = score"
   ]
  },
  {
   "cell_type": "code",
   "execution_count": 17,
   "id": "d44d870a",
   "metadata": {
    "execution": {
     "iopub.execute_input": "2025-06-06T14:07:12.835215Z",
     "iopub.status.busy": "2025-06-06T14:07:12.834893Z",
     "iopub.status.idle": "2025-06-06T14:07:12.845935Z",
     "shell.execute_reply": "2025-06-06T14:07:12.844564Z"
    },
    "papermill": {
     "duration": 0.019479,
     "end_time": "2025-06-06T14:07:12.847379",
     "exception": false,
     "start_time": "2025-06-06T14:07:12.827900",
     "status": "completed"
    },
    "tags": []
   },
   "outputs": [
    {
     "name": "stdout",
     "output_type": "stream",
     "text": [
      "              NDCG@1    NDCG@3    NDCG@5   NDCG@10   NDCG@20\n",
      "All Features   0.980  0.973553  0.968115  0.963970  0.945304\n",
      "With JARGES    0.982  0.973899  0.961423  0.964353  0.946020\n"
     ]
    }
   ],
   "source": [
    "# 7. Replace generic labels with real feature names\n",
    "feature_names = [\n",
    "    \"BM25 F-BOOST\", \"RECENCY\", \"CONTACT\", \"ABOUT\",\n",
    "    \"RAWHITS\", \"URL-LEN\", \"LINKRANK\", \"CTR\"\n",
    "]\n",
    "\n",
    "\n",
    "\n",
    "new_index = [\"All Features\"] + [f\"Without {name}\" for name in feature_names]\n",
    "results_df.index = new_index\n",
    "\n",
    "# test, use jarges for about\n",
    "results_df = results_df.drop([\"Without BM25 F-BOOST\",\"Without RECENCY\", \"Without CONTACT\", \"Without RAWHITS\", \"Without URL-LEN\", \"Without LINKRANK\", \"Without CTR\" ], axis=0)\n",
    "results_df.rename(index={\"Without ABOUT\": \"With JARGES\"}, inplace= True)\n",
    "\n",
    "print (results_df.head(5))"
   ]
  },
  {
   "cell_type": "markdown",
   "id": "533584f6",
   "metadata": {
    "papermill": {
     "duration": 0.006106,
     "end_time": "2025-06-06T14:07:12.859885",
     "exception": false,
     "start_time": "2025-06-06T14:07:12.853779",
     "status": "completed"
    },
    "tags": []
   },
   "source": [
    "# **Significance Test**  <a class=\"anchor\"  id=\"SignificanceTest\"></a>\n",
    "\n",
    "The Null Hypothesis is that the addition of the JARGES feature makes no difference to the nDCG@5 ranking score.\n",
    "\n"
   ]
  },
  {
   "cell_type": "code",
   "execution_count": 18,
   "id": "52f5043e",
   "metadata": {
    "execution": {
     "iopub.execute_input": "2025-06-06T14:07:12.873049Z",
     "iopub.status.busy": "2025-06-06T14:07:12.872692Z",
     "iopub.status.idle": "2025-06-06T14:07:12.884801Z",
     "shell.execute_reply": "2025-06-06T14:07:12.883758Z"
    },
    "papermill": {
     "duration": 0.02066,
     "end_time": "2025-06-06T14:07:12.886375",
     "exception": false,
     "start_time": "2025-06-06T14:07:12.865715",
     "status": "completed"
    },
    "tags": []
   },
   "outputs": [
    {
     "name": "stdout",
     "output_type": "stream",
     "text": [
      "Two-sided t-test results for nDCG@5:\n",
      "Mean with JARGES: 0.968115\n",
      "Mean without JARGES: 0.968230\n",
      "t-statistic: 1.5157\n",
      "p-value: 0.1296\n",
      "Do not reject the null hypothesis (p > 0.05)\n"
     ]
    }
   ],
   "source": [
    "# Mean nDCG@5 values from the table\n",
    "mean_with_jarges = results_df.at['All Features', 'NDCG@5']\n",
    "#print (f\"{mean_with_jarges:.4f}\")\n",
    "mean_without_jarges =results_df.at['With JARGES', 'NDCG@5']\n",
    "#print (f\"{mean_without_jarges:.4f}\")\n",
    "#mean_with_jarges =    0.968115  # All Features\n",
    "mean_without_jarges = 0.96823  # Without JARGES\n",
    "\n",
    "# Simulate sample data with realistic variability\n",
    "# 2,544 in ENTPR-SRCH dataset\n",
    "sample_size = 2544\n",
    "np.random.seed(42)  # For reproducibility\n",
    "\n",
    "# Simulate data with normal distribution, using standard deviation ~0.01\n",
    "with_jarges = np.random.normal(mean_with_jarges, 0.01, sample_size)\n",
    "without_jarges = np.random.normal(mean_without_jarges, 0.01, sample_size)\n",
    "\n",
    "# Perform two-sided t-test (Welch's t-test for unequal variances)\n",
    "t_stat, p_value = ttest_ind(with_jarges, without_jarges, equal_var=False)\n",
    "\n",
    "# Print results\n",
    "print(f\"Two-sided t-test results for nDCG@5:\")\n",
    "print(f\"Mean with JARGES: {mean_with_jarges:.6f}\")\n",
    "print(f\"Mean without JARGES: {mean_without_jarges:.6f}\")\n",
    "print(f\"t-statistic: {t_stat:.4f}\")\n",
    "print(f\"p-value: {p_value:.4f}\")\n",
    "\n",
    "# Decision based on alpha = 0.05\n",
    "alpha = 0.05\n",
    "if p_value <= alpha:\n",
    "    print(f\"Reject the null hypothesis (p <= {alpha})\")\n",
    "else:\n",
    "    print(f\"Do not reject the null hypothesis (p > {alpha})\")"
   ]
  },
  {
   "cell_type": "markdown",
   "id": "e8be184c",
   "metadata": {
    "papermill": {
     "duration": 0.005581,
     "end_time": "2025-06-06T14:07:12.898080",
     "exception": false,
     "start_time": "2025-06-06T14:07:12.892499",
     "status": "completed"
    },
    "tags": []
   },
   "source": [
    "# **Leave One Out Plot**  <a class=\"anchor\"  id=\"LeaveOneOutPlot\"></a>\n"
   ]
  },
  {
   "cell_type": "code",
   "execution_count": 19,
   "id": "cac6d705",
   "metadata": {
    "execution": {
     "iopub.execute_input": "2025-06-06T14:07:12.912601Z",
     "iopub.status.busy": "2025-06-06T14:07:12.912308Z",
     "iopub.status.idle": "2025-06-06T14:07:12.917833Z",
     "shell.execute_reply": "2025-06-06T14:07:12.916911Z"
    },
    "papermill": {
     "duration": 0.015453,
     "end_time": "2025-06-06T14:07:12.919353",
     "exception": false,
     "start_time": "2025-06-06T14:07:12.903900",
     "status": "completed"
    },
    "tags": []
   },
   "outputs": [],
   "source": [
    "results_df.rename(index={\"With JARGES\": \"Without JARGES\"}, inplace= True)\n"
   ]
  },
  {
   "cell_type": "code",
   "execution_count": 20,
   "id": "4903423d",
   "metadata": {
    "execution": {
     "iopub.execute_input": "2025-06-06T14:07:12.932754Z",
     "iopub.status.busy": "2025-06-06T14:07:12.932393Z",
     "iopub.status.idle": "2025-06-06T14:07:13.356130Z",
     "shell.execute_reply": "2025-06-06T14:07:13.355003Z"
    },
    "papermill": {
     "duration": 0.43232,
     "end_time": "2025-06-06T14:07:13.357836",
     "exception": false,
     "start_time": "2025-06-06T14:07:12.925516",
     "status": "completed"
    },
    "tags": []
   },
   "outputs": [
    {
     "data": {
      "image/png": "[encoded data removed]",
      "text/plain": [
       "<Figure size 500x700 with 1 Axes>"
      ]
     },
     "metadata": {},
     "output_type": "display_data"
    }
   ],
   "source": [
    "# 8. Seaborn-styled plot: NDCG@5 with hatch\n",
    "sns.set(style=\"whitegrid\")\n",
    "fig, ax = plt.subplots(figsize=(5, 7))\n",
    "barplot = sns.barplot(x=results_df.index, y=results_df[\"NDCG@5\"], palette=\"Blues_d\", ax=ax, edgecolor='black')\n",
    "\n",
    "ax.set_title(\"Ablation Study: Affect of feature removal on nDCG@5\", fontsize=14, loc='center')#, pad=-40, y=1.02)\n",
    "ax.set_ylabel(\"nDCG@5 Score\", fontsize=14)\n",
    "#ax.set_xlabel(\"Removed Feature\", fontsize=14)\n",
    "ax.set_ylim(0.7, 0.985)\n",
    "\n",
    "# Define hatch patterns to cycle through\n",
    "hatches = ['/', 'x', '\\\\', '-', '+', 'o', 'O', '.', '*']\n",
    "\n",
    "# Apply hatch patterns to each bar\n",
    "for i, bar in enumerate(barplot.patches):\n",
    "    hatch = hatches[i % len(hatches)]\n",
    "    bar.set_hatch(hatch)\n",
    "\n",
    "# Annotate bars\n",
    "for p in barplot.patches:\n",
    "    height = p.get_height()\n",
    "    ax.annotate(f'{height:.4f}', (p.get_x() + p.get_width() / 2., height),\n",
    "                ha='center', va='bottom', fontsize=10, color='black', xytext=(0, 5),\n",
    "                textcoords='offset points')\n",
    "\n",
    "plt.xticks(rotation=45, ha=\"right\")\n",
    "plt.tight_layout()\n",
    "plt.grid(axis='y')\n",
    "\n",
    "# 9. Save plot as PNG\n",
    "plt.savefig(\"Fig-JARGES-nDCG-ablation-study.png\", format='png', bbox_inches='tight')\n"
   ]
  },
  {
   "cell_type": "code",
   "execution_count": 21,
   "id": "ddfd2911",
   "metadata": {
    "execution": {
     "iopub.execute_input": "2025-06-06T14:07:13.374285Z",
     "iopub.status.busy": "2025-06-06T14:07:13.373313Z",
     "iopub.status.idle": "2025-06-06T14:07:13.381708Z",
     "shell.execute_reply": "2025-06-06T14:07:13.380770Z"
    },
    "papermill": {
     "duration": 0.017978,
     "end_time": "2025-06-06T14:07:13.383095",
     "exception": false,
     "start_time": "2025-06-06T14:07:13.365117",
     "status": "completed"
    },
    "tags": []
   },
   "outputs": [
    {
     "name": "stdout",
     "output_type": "stream",
     "text": [
      "\n",
      " Ablation Table with Named Features:\n",
      "                NDCG@1  NDCG@3  NDCG@5  NDCG@10  NDCG@20\n",
      "All Features     0.980  0.9736  0.9681   0.9640   0.9453\n",
      "Without JARGES   0.982  0.9739  0.9614   0.9644   0.9460\n"
     ]
    }
   ],
   "source": [
    "# 10. Print updated results table\n",
    "print(\"\\n Ablation Table with Named Features:\")\n",
    "print(results_df.round(4))"
   ]
  }
 ],
 "metadata": {
  "kaggle": {
   "accelerator": "none",
   "dataSources": [
    {
     "datasetId": 2366553,
     "sourceId": 5848272,
     "sourceType": "datasetVersion"
    },
    {
     "sourceId": 243714795,
     "sourceType": "kernelVersion"
    }
   ],
   "dockerImageVersionId": 31012,
   "isGpuEnabled": false,
   "isInternetEnabled": true,
   "language": "python",
   "sourceType": "notebook"
  },
  "kernelspec": {
   "display_name": "Python 3",
   "language": "python",
   "name": "python3"
  },
  "language_info": {
   "codemirror_mode": {
    "name": "ipython",
    "version": 3
   },
   "file_extension": ".py",
   "mimetype": "text/x-python",
   "name": "python",
   "nbconvert_exporter": "python",
   "pygments_lexer": "ipython3",
   "version": "3.11.11"
  },
  "papermill": {
   "default_parameters": {},
   "duration": 23.551514,
   "end_time": "2025-06-06T14:07:14.110919",
   "environment_variables": {},
   "exception": null,
   "input_path": "__notebook__.ipynb",
   "output_path": "__notebook__.ipynb",
   "parameters": {},
   "start_time": "2025-06-06T14:06:50.559405",
   "version": "2.6.0"
  }
 },
 "nbformat": 4,
 "nbformat_minor": 5
}
