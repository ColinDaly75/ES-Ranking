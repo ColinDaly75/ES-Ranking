{
 "cells": [
  {
   "cell_type": "markdown",
   "id": "c61ffaba",
   "metadata": {
    "papermill": {
     "duration": 0.006854,
     "end_time": "2025-02-18T12:02:30.733787",
     "exception": false,
     "start_time": "2025-02-18T12:02:30.726933",
     "status": "completed"
    },
    "tags": []
   },
   "source": [
    "# **Explicit-Implicit Relevance Judgements Correlation Analysis.**\n"
   ]
  },
  {
   "cell_type": "markdown",
   "id": "2a5160b2",
   "metadata": {
    "papermill": {
     "duration": 0.005185,
     "end_time": "2025-02-18T12:02:30.744773",
     "exception": false,
     "start_time": "2025-02-18T12:02:30.739588",
     "status": "completed"
    },
    "tags": []
   },
   "source": [
    "* [Introduction](#Introduction)\n",
    "* [Loading the ES dataset](#Loading)\n",
    "* [Strip Plot](#Strip)\n",
    "* [Interpreting the Correlation Coefficient](#Interpreting)\n",
    "* [Person versus Spearman](#Pearson)\n",
    "* [Statistical Power](#Power)"
   ]
  },
  {
   "cell_type": "markdown",
   "id": "d848f3ff",
   "metadata": {
    "papermill": {
     "duration": 0.005024,
     "end_time": "2025-02-18T12:02:30.755138",
     "exception": false,
     "start_time": "2025-02-18T12:02:30.750114",
     "status": "completed"
    },
    "tags": []
   },
   "source": [
    "# **Introduction**  <a class=\"anchor\"  id=\"Introduction\"></a>\n",
    "Learning to Rank (LTR) has traditionally made use of relevance judgements (i.e. human annotations) to create training data for ranking models. But, gathering feedback in the form of relevance judgements is expensive, time-consuming and may be subject to annotator bias. Much research has been carried out by commercial web search providers into harnessing click-through data and using it as a surrogate for relevance judgements. Its use in Enterprise Search (ES), however, has not been explored. If click-through data relevance feedback correlates with that of the human relevance judgements, we could dispense with small relevance judgement training data and rely entirely on abundant quantities of click-through data. \n",
    "\n",
    "We performed a correlation analysis and compared the ranking performance of a ‘real world’ ES service of a large organisation using both relevance judgements and click-through data. We introduce and publish the ENTRP-SRCH dataset specifically for ES. \n",
    "\n",
    "We calculated a correlation coefficient of ρ = 0.704 (p<0.01). Additionally, the nDCG@3 ranking performance using relevance judgements is just 1.6% higher than when click-through data is used. Subsequently, we discuss ES implementation trade-offs between relevance judgements and implicit feedback and highlight potential preferences and biases of both end-users and expert annotators."
   ]
  },
  {
   "cell_type": "code",
   "execution_count": 1,
   "id": "fa7a76bd",
   "metadata": {
    "_cell_guid": "b1076dfc-b9ad-4769-8c92-a6c4dae69d19",
    "_uuid": "8f2839f25d086af736a60e9eeb907d3b93b6e0e5",
    "execution": {
     "iopub.execute_input": "2025-02-18T12:02:30.768079Z",
     "iopub.status.busy": "2025-02-18T12:02:30.767511Z",
     "iopub.status.idle": "2025-02-18T12:02:30.795717Z",
     "shell.execute_reply": "2025-02-18T12:02:30.794254Z"
    },
    "papermill": {
     "duration": 0.038216,
     "end_time": "2025-02-18T12:02:30.798770",
     "exception": false,
     "start_time": "2025-02-18T12:02:30.760554",
     "status": "completed"
    },
    "tags": []
   },
   "outputs": [
    {
     "name": "stdout",
     "output_type": "stream",
     "text": [
      "/kaggle/input/explicitimplicitv5/explicit-implicit-v5.csv\n",
      "/kaggle/input/explicitimplicitv5/explicit-implicit-v6.csv\n",
      "/kaggle/input/entrp-srch/ENTRP-SRCH-v14.txt\n",
      "/kaggle/input/entrp-srch/dataset-with-urls.txt\n"
     ]
    }
   ],
   "source": [
    "\n",
    "import numpy as np # linear algebra\n",
    "import pandas as pd # data processing, CSV file I/O (e.g. pd.read_csv)\n",
    "\n",
    "\n",
    "import os\n",
    "for dirname, _, filenames in os.walk('/kaggle/input'):\n",
    "    for filename in filenames:\n",
    "        print(os.path.join(dirname, filename))\n",
    "\n"
   ]
  },
  {
   "cell_type": "code",
   "execution_count": 2,
   "id": "44660018",
   "metadata": {
    "execution": {
     "iopub.execute_input": "2025-02-18T12:02:30.812093Z",
     "iopub.status.busy": "2025-02-18T12:02:30.811592Z",
     "iopub.status.idle": "2025-02-18T12:02:30.817512Z",
     "shell.execute_reply": "2025-02-18T12:02:30.816341Z"
    },
    "papermill": {
     "duration": 0.01529,
     "end_time": "2025-02-18T12:02:30.819786",
     "exception": false,
     "start_time": "2025-02-18T12:02:30.804496",
     "status": "completed"
    },
    "tags": []
   },
   "outputs": [],
   "source": [
    "#!pip3 install -U datapane >/dev/null 2>&1"
   ]
  },
  {
   "cell_type": "code",
   "execution_count": 3,
   "id": "973555b6",
   "metadata": {
    "execution": {
     "iopub.execute_input": "2025-02-18T12:02:30.832704Z",
     "iopub.status.busy": "2025-02-18T12:02:30.832230Z",
     "iopub.status.idle": "2025-02-18T12:02:30.837607Z",
     "shell.execute_reply": "2025-02-18T12:02:30.836393Z"
    },
    "papermill": {
     "duration": 0.014644,
     "end_time": "2025-02-18T12:02:30.839933",
     "exception": false,
     "start_time": "2025-02-18T12:02:30.825289",
     "status": "completed"
    },
    "tags": []
   },
   "outputs": [],
   "source": [
    "#!pip3 install -U jinja2"
   ]
  },
  {
   "cell_type": "markdown",
   "id": "841cc209",
   "metadata": {
    "papermill": {
     "duration": 0.005287,
     "end_time": "2025-02-18T12:02:30.850736",
     "exception": false,
     "start_time": "2025-02-18T12:02:30.845449",
     "status": "completed"
    },
    "tags": []
   },
   "source": [
    "# **Loading the ES dataset**  <a class=\"anchor\"  id=\"Loading\"></a>"
   ]
  },
  {
   "cell_type": "code",
   "execution_count": 4,
   "id": "bc7e31e6",
   "metadata": {
    "execution": {
     "iopub.execute_input": "2025-02-18T12:02:30.863450Z",
     "iopub.status.busy": "2025-02-18T12:02:30.863075Z",
     "iopub.status.idle": "2025-02-18T12:02:32.250879Z",
     "shell.execute_reply": "2025-02-18T12:02:32.249707Z"
    },
    "papermill": {
     "duration": 1.397135,
     "end_time": "2025-02-18T12:02:32.253554",
     "exception": false,
     "start_time": "2025-02-18T12:02:30.856419",
     "status": "completed"
    },
    "tags": []
   },
   "outputs": [],
   "source": [
    "import seaborn as sns\n",
    "import altair as alt \n",
    "import pandas as pd\n",
    "\n",
    "\n",
    "#exim=pd.read_csv(\"/kaggle/input/explicitimplicitv5/explicit-implicit-v6.csv\")\n",
    "\n",
    "exim=pd.read_csv(\"/kaggle/input/entrp-srch/ENTRP-SRCH-v14.txt\",sep='\\s+', header=None, names=[\"HUMAN\", \"QID\", \"BM25\", \"RECENCY\", \"CONTACT\", \"ABOUT\", \"RAWHITS\",\"URL-LEN\",\"LINKRANK\",\"CTR-6\"])"
   ]
  },
  {
   "cell_type": "code",
   "execution_count": 5,
   "id": "24d1a742",
   "metadata": {
    "execution": {
     "iopub.execute_input": "2025-02-18T12:02:32.267232Z",
     "iopub.status.busy": "2025-02-18T12:02:32.266062Z",
     "iopub.status.idle": "2025-02-18T12:02:32.281069Z",
     "shell.execute_reply": "2025-02-18T12:02:32.279804Z"
    },
    "papermill": {
     "duration": 0.024135,
     "end_time": "2025-02-18T12:02:32.283507",
     "exception": false,
     "start_time": "2025-02-18T12:02:32.259372",
     "status": "completed"
    },
    "tags": []
   },
   "outputs": [],
   "source": [
    "exim['CTR-6'] = exim['CTR-6'].str[2:]"
   ]
  },
  {
   "cell_type": "code",
   "execution_count": 6,
   "id": "36611976",
   "metadata": {
    "execution": {
     "iopub.execute_input": "2025-02-18T12:02:32.297094Z",
     "iopub.status.busy": "2025-02-18T12:02:32.296268Z",
     "iopub.status.idle": "2025-02-18T12:02:32.310357Z",
     "shell.execute_reply": "2025-02-18T12:02:32.309164Z"
    },
    "papermill": {
     "duration": 0.023488,
     "end_time": "2025-02-18T12:02:32.312824",
     "exception": false,
     "start_time": "2025-02-18T12:02:32.289336",
     "status": "completed"
    },
    "tags": []
   },
   "outputs": [],
   "source": [
    "#exim[\"HUMAN\"] = pd.to_numeric(exim[\"HUMAN\"])\n",
    "# convert just columns \"a\" and \"b\"\n",
    "exim[[\"HUMAN\", \"CTR-6\"]] = exim[[\"HUMAN\", \"CTR-6\"]].apply(pd.to_numeric)\n"
   ]
  },
  {
   "cell_type": "code",
   "execution_count": 7,
   "id": "27b7fc7c",
   "metadata": {
    "execution": {
     "iopub.execute_input": "2025-02-18T12:02:32.326105Z",
     "iopub.status.busy": "2025-02-18T12:02:32.325670Z",
     "iopub.status.idle": "2025-02-18T12:02:32.330657Z",
     "shell.execute_reply": "2025-02-18T12:02:32.329388Z"
    },
    "papermill": {
     "duration": 0.014394,
     "end_time": "2025-02-18T12:02:32.332942",
     "exception": false,
     "start_time": "2025-02-18T12:02:32.318548",
     "status": "completed"
    },
    "tags": []
   },
   "outputs": [],
   "source": [
    "#exim = exim.dropna()\n"
   ]
  },
  {
   "cell_type": "code",
   "execution_count": 8,
   "id": "e76bbf72",
   "metadata": {
    "execution": {
     "iopub.execute_input": "2025-02-18T12:02:32.347601Z",
     "iopub.status.busy": "2025-02-18T12:02:32.346811Z",
     "iopub.status.idle": "2025-02-18T12:02:32.370806Z",
     "shell.execute_reply": "2025-02-18T12:02:32.369566Z"
    },
    "papermill": {
     "duration": 0.034258,
     "end_time": "2025-02-18T12:02:32.373798",
     "exception": false,
     "start_time": "2025-02-18T12:02:32.339540",
     "status": "completed"
    },
    "tags": []
   },
   "outputs": [
    {
     "data": {
      "text/html": [
       "<div>\n",
       "<style scoped>\n",
       "    .dataframe tbody tr th:only-of-type {\n",
       "        vertical-align: middle;\n",
       "    }\n",
       "\n",
       "    .dataframe tbody tr th {\n",
       "        vertical-align: top;\n",
       "    }\n",
       "\n",
       "    .dataframe thead th {\n",
       "        text-align: right;\n",
       "    }\n",
       "</style>\n",
       "<table border=\"1\" class=\"dataframe\">\n",
       "  <thead>\n",
       "    <tr style=\"text-align: right;\">\n",
       "      <th></th>\n",
       "      <th>HUMAN</th>\n",
       "      <th>QID</th>\n",
       "      <th>BM25</th>\n",
       "      <th>RECENCY</th>\n",
       "      <th>CONTACT</th>\n",
       "      <th>ABOUT</th>\n",
       "      <th>RAWHITS</th>\n",
       "      <th>URL-LEN</th>\n",
       "      <th>LINKRANK</th>\n",
       "      <th>CTR-6</th>\n",
       "    </tr>\n",
       "  </thead>\n",
       "  <tbody>\n",
       "    <tr>\n",
       "      <th>0</th>\n",
       "      <td>5</td>\n",
       "      <td>qid:1</td>\n",
       "      <td>1:7.901979</td>\n",
       "      <td>2:0.17024133</td>\n",
       "      <td>3:0.0</td>\n",
       "      <td>4:0.0</td>\n",
       "      <td>5:34.0</td>\n",
       "      <td>6:6.0</td>\n",
       "      <td>7:1.080049</td>\n",
       "      <td>0.190</td>\n",
       "    </tr>\n",
       "    <tr>\n",
       "      <th>1</th>\n",
       "      <td>3</td>\n",
       "      <td>qid:1</td>\n",
       "      <td>1:7.886458</td>\n",
       "      <td>2:0.24574098</td>\n",
       "      <td>3:0.0</td>\n",
       "      <td>4:0.0</td>\n",
       "      <td>5:22.0</td>\n",
       "      <td>6:8.0</td>\n",
       "      <td>7:0.42990547</td>\n",
       "      <td>0.040</td>\n",
       "    </tr>\n",
       "    <tr>\n",
       "      <th>2</th>\n",
       "      <td>4</td>\n",
       "      <td>qid:1</td>\n",
       "      <td>1:6.097526</td>\n",
       "      <td>2:0.30741006</td>\n",
       "      <td>3:0.0</td>\n",
       "      <td>4:0.0</td>\n",
       "      <td>5:22.0</td>\n",
       "      <td>6:7.0</td>\n",
       "      <td>7:0.4299054</td>\n",
       "      <td>0.030</td>\n",
       "    </tr>\n",
       "    <tr>\n",
       "      <th>3</th>\n",
       "      <td>5</td>\n",
       "      <td>qid:1</td>\n",
       "      <td>1:8.518949</td>\n",
       "      <td>2:0.30792695</td>\n",
       "      <td>3:0.0</td>\n",
       "      <td>4:1.0</td>\n",
       "      <td>5:4.0</td>\n",
       "      <td>6:7.0</td>\n",
       "      <td>7:0.42990547</td>\n",
       "      <td>0.090</td>\n",
       "    </tr>\n",
       "    <tr>\n",
       "      <th>4</th>\n",
       "      <td>3</td>\n",
       "      <td>qid:1</td>\n",
       "      <td>1:4.9042683</td>\n",
       "      <td>2:0.31480822</td>\n",
       "      <td>3:0.0</td>\n",
       "      <td>4:0.0</td>\n",
       "      <td>5:22.0</td>\n",
       "      <td>6:9.0</td>\n",
       "      <td>7:0.42990544</td>\n",
       "      <td>0.000</td>\n",
       "    </tr>\n",
       "    <tr>\n",
       "      <th>5</th>\n",
       "      <td>5</td>\n",
       "      <td>qid:1</td>\n",
       "      <td>1:8.338974</td>\n",
       "      <td>2:0.3061254</td>\n",
       "      <td>3:1.0</td>\n",
       "      <td>4:0.0</td>\n",
       "      <td>5:1.0</td>\n",
       "      <td>6:7.0</td>\n",
       "      <td>7:0.42990547</td>\n",
       "      <td>0.040</td>\n",
       "    </tr>\n",
       "    <tr>\n",
       "      <th>6</th>\n",
       "      <td>5</td>\n",
       "      <td>qid:1</td>\n",
       "      <td>1:7.886458</td>\n",
       "      <td>2:0.13792998</td>\n",
       "      <td>3:0.0</td>\n",
       "      <td>4:0.0</td>\n",
       "      <td>5:4.0</td>\n",
       "      <td>6:7.0</td>\n",
       "      <td>7:0.17706141</td>\n",
       "      <td>0.170</td>\n",
       "    </tr>\n",
       "    <tr>\n",
       "      <th>7</th>\n",
       "      <td>3</td>\n",
       "      <td>qid:1</td>\n",
       "      <td>1:6.806793</td>\n",
       "      <td>2:0.3068949</td>\n",
       "      <td>3:0.0</td>\n",
       "      <td>4:0.0</td>\n",
       "      <td>5:8.0</td>\n",
       "      <td>6:7.0</td>\n",
       "      <td>7:0.4299054</td>\n",
       "      <td>0.001</td>\n",
       "    </tr>\n",
       "    <tr>\n",
       "      <th>8</th>\n",
       "      <td>3</td>\n",
       "      <td>qid:1</td>\n",
       "      <td>1:7.7742815</td>\n",
       "      <td>2:0.20971979</td>\n",
       "      <td>3:0.0</td>\n",
       "      <td>4:0.0</td>\n",
       "      <td>5:6.0</td>\n",
       "      <td>6:8.0</td>\n",
       "      <td>7:0.42990547</td>\n",
       "      <td>0.040</td>\n",
       "    </tr>\n",
       "    <tr>\n",
       "      <th>9</th>\n",
       "      <td>4</td>\n",
       "      <td>qid:1</td>\n",
       "      <td>1:6.4255433</td>\n",
       "      <td>2:0.24574098</td>\n",
       "      <td>3:0.0</td>\n",
       "      <td>4:0.0</td>\n",
       "      <td>5:10.0</td>\n",
       "      <td>6:8.0</td>\n",
       "      <td>7:0.42990547</td>\n",
       "      <td>0.060</td>\n",
       "    </tr>\n",
       "    <tr>\n",
       "      <th>10</th>\n",
       "      <td>4</td>\n",
       "      <td>qid:1</td>\n",
       "      <td>1:7.8942113</td>\n",
       "      <td>2:0.18163878</td>\n",
       "      <td>3:0.0</td>\n",
       "      <td>4:0.0</td>\n",
       "      <td>5:2.0</td>\n",
       "      <td>6:7.0</td>\n",
       "      <td>7:0.42990547</td>\n",
       "      <td>0.010</td>\n",
       "    </tr>\n",
       "    <tr>\n",
       "      <th>11</th>\n",
       "      <td>4</td>\n",
       "      <td>qid:1</td>\n",
       "      <td>1:7.8942113</td>\n",
       "      <td>2:0.13792998</td>\n",
       "      <td>3:0.0</td>\n",
       "      <td>4:0.0</td>\n",
       "      <td>5:2.0</td>\n",
       "      <td>6:7.0</td>\n",
       "      <td>7:0.42990553</td>\n",
       "      <td>0.010</td>\n",
       "    </tr>\n",
       "    <tr>\n",
       "      <th>12</th>\n",
       "      <td>4</td>\n",
       "      <td>qid:1</td>\n",
       "      <td>1:5.419501</td>\n",
       "      <td>2:0.24574098</td>\n",
       "      <td>3:0.0</td>\n",
       "      <td>4:0.0</td>\n",
       "      <td>5:12.0</td>\n",
       "      <td>6:8.0</td>\n",
       "      <td>7:0.42990544</td>\n",
       "      <td>0.030</td>\n",
       "    </tr>\n",
       "    <tr>\n",
       "      <th>13</th>\n",
       "      <td>4</td>\n",
       "      <td>qid:1</td>\n",
       "      <td>1:7.347151</td>\n",
       "      <td>2:0.26961926</td>\n",
       "      <td>3:0.0</td>\n",
       "      <td>4:0.0</td>\n",
       "      <td>5:4.0</td>\n",
       "      <td>6:8.0</td>\n",
       "      <td>7:0.17718421</td>\n",
       "      <td>0.010</td>\n",
       "    </tr>\n",
       "    <tr>\n",
       "      <th>14</th>\n",
       "      <td>4</td>\n",
       "      <td>qid:1</td>\n",
       "      <td>1:7.347151</td>\n",
       "      <td>2:0.2692229</td>\n",
       "      <td>3:0.0</td>\n",
       "      <td>4:0.0</td>\n",
       "      <td>5:1.0</td>\n",
       "      <td>6:7.0</td>\n",
       "      <td>7:0.42990547</td>\n",
       "      <td>0.010</td>\n",
       "    </tr>\n",
       "  </tbody>\n",
       "</table>\n",
       "</div>"
      ],
      "text/plain": [
       "    HUMAN    QID         BM25       RECENCY CONTACT  ABOUT RAWHITS URL-LEN  \\\n",
       "0       5  qid:1   1:7.901979  2:0.17024133   3:0.0  4:0.0  5:34.0   6:6.0   \n",
       "1       3  qid:1   1:7.886458  2:0.24574098   3:0.0  4:0.0  5:22.0   6:8.0   \n",
       "2       4  qid:1   1:6.097526  2:0.30741006   3:0.0  4:0.0  5:22.0   6:7.0   \n",
       "3       5  qid:1   1:8.518949  2:0.30792695   3:0.0  4:1.0   5:4.0   6:7.0   \n",
       "4       3  qid:1  1:4.9042683  2:0.31480822   3:0.0  4:0.0  5:22.0   6:9.0   \n",
       "5       5  qid:1   1:8.338974   2:0.3061254   3:1.0  4:0.0   5:1.0   6:7.0   \n",
       "6       5  qid:1   1:7.886458  2:0.13792998   3:0.0  4:0.0   5:4.0   6:7.0   \n",
       "7       3  qid:1   1:6.806793   2:0.3068949   3:0.0  4:0.0   5:8.0   6:7.0   \n",
       "8       3  qid:1  1:7.7742815  2:0.20971979   3:0.0  4:0.0   5:6.0   6:8.0   \n",
       "9       4  qid:1  1:6.4255433  2:0.24574098   3:0.0  4:0.0  5:10.0   6:8.0   \n",
       "10      4  qid:1  1:7.8942113  2:0.18163878   3:0.0  4:0.0   5:2.0   6:7.0   \n",
       "11      4  qid:1  1:7.8942113  2:0.13792998   3:0.0  4:0.0   5:2.0   6:7.0   \n",
       "12      4  qid:1   1:5.419501  2:0.24574098   3:0.0  4:0.0  5:12.0   6:8.0   \n",
       "13      4  qid:1   1:7.347151  2:0.26961926   3:0.0  4:0.0   5:4.0   6:8.0   \n",
       "14      4  qid:1   1:7.347151   2:0.2692229   3:0.0  4:0.0   5:1.0   6:7.0   \n",
       "\n",
       "        LINKRANK  CTR-6  \n",
       "0     7:1.080049  0.190  \n",
       "1   7:0.42990547  0.040  \n",
       "2    7:0.4299054  0.030  \n",
       "3   7:0.42990547  0.090  \n",
       "4   7:0.42990544  0.000  \n",
       "5   7:0.42990547  0.040  \n",
       "6   7:0.17706141  0.170  \n",
       "7    7:0.4299054  0.001  \n",
       "8   7:0.42990547  0.040  \n",
       "9   7:0.42990547  0.060  \n",
       "10  7:0.42990547  0.010  \n",
       "11  7:0.42990553  0.010  \n",
       "12  7:0.42990544  0.030  \n",
       "13  7:0.17718421  0.010  \n",
       "14  7:0.42990547  0.010  "
      ]
     },
     "execution_count": 8,
     "metadata": {},
     "output_type": "execute_result"
    }
   ],
   "source": [
    "exim.head(15)"
   ]
  },
  {
   "cell_type": "code",
   "execution_count": 9,
   "id": "c5581ecd",
   "metadata": {
    "execution": {
     "iopub.execute_input": "2025-02-18T12:02:32.388101Z",
     "iopub.status.busy": "2025-02-18T12:02:32.387668Z",
     "iopub.status.idle": "2025-02-18T12:02:32.399803Z",
     "shell.execute_reply": "2025-02-18T12:02:32.398405Z"
    },
    "papermill": {
     "duration": 0.021744,
     "end_time": "2025-02-18T12:02:32.401958",
     "exception": false,
     "start_time": "2025-02-18T12:02:32.380214",
     "status": "completed"
    },
    "tags": []
   },
   "outputs": [
    {
     "data": {
      "text/plain": [
       "HUMAN       2554\n",
       "QID         2554\n",
       "BM25        2554\n",
       "RECENCY     2554\n",
       "CONTACT     2554\n",
       "ABOUT       2554\n",
       "RAWHITS     2554\n",
       "URL-LEN     2554\n",
       "LINKRANK    2554\n",
       "CTR-6       2554\n",
       "dtype: int64"
      ]
     },
     "execution_count": 9,
     "metadata": {},
     "output_type": "execute_result"
    }
   ],
   "source": [
    "exim.count()"
   ]
  },
  {
   "cell_type": "code",
   "execution_count": 10,
   "id": "269bde7c",
   "metadata": {
    "execution": {
     "iopub.execute_input": "2025-02-18T12:02:32.417417Z",
     "iopub.status.busy": "2025-02-18T12:02:32.416531Z",
     "iopub.status.idle": "2025-02-18T12:02:32.421679Z",
     "shell.execute_reply": "2025-02-18T12:02:32.420552Z"
    },
    "papermill": {
     "duration": 0.014875,
     "end_time": "2025-02-18T12:02:32.423829",
     "exception": false,
     "start_time": "2025-02-18T12:02:32.408954",
     "status": "completed"
    },
    "tags": []
   },
   "outputs": [],
   "source": [
    "#  USE CTR AS BASELINE\n",
    "# eclude those documents that have no (NULL) CTR score when using ENTRP-SRCH dataset\n",
    "#exim = exim[exim[\"CTR-6\"] != 0.00]   "
   ]
  },
  {
   "cell_type": "code",
   "execution_count": 11,
   "id": "5004e45a",
   "metadata": {
    "execution": {
     "iopub.execute_input": "2025-02-18T12:02:32.438468Z",
     "iopub.status.busy": "2025-02-18T12:02:32.438006Z",
     "iopub.status.idle": "2025-02-18T12:02:32.443843Z",
     "shell.execute_reply": "2025-02-18T12:02:32.442679Z"
    },
    "papermill": {
     "duration": 0.015727,
     "end_time": "2025-02-18T12:02:32.446009",
     "exception": false,
     "start_time": "2025-02-18T12:02:32.430282",
     "status": "completed"
    },
    "tags": []
   },
   "outputs": [
    {
     "name": "stdout",
     "output_type": "stream",
     "text": [
      "The total number of data points in the plot is 2554\n"
     ]
    }
   ],
   "source": [
    "print(\"The total number of data points in the plot is\",len(exim.index))\n",
    "#exim.count()\n",
    "#exim.describe"
   ]
  },
  {
   "cell_type": "code",
   "execution_count": 12,
   "id": "c0f7775d",
   "metadata": {
    "execution": {
     "iopub.execute_input": "2025-02-18T12:02:32.461094Z",
     "iopub.status.busy": "2025-02-18T12:02:32.460669Z",
     "iopub.status.idle": "2025-02-18T12:02:32.465785Z",
     "shell.execute_reply": "2025-02-18T12:02:32.464584Z"
    },
    "papermill": {
     "duration": 0.015574,
     "end_time": "2025-02-18T12:02:32.468386",
     "exception": false,
     "start_time": "2025-02-18T12:02:32.452812",
     "status": "completed"
    },
    "tags": []
   },
   "outputs": [],
   "source": [
    "#exim.describe"
   ]
  },
  {
   "cell_type": "code",
   "execution_count": 13,
   "id": "13ac8cd5",
   "metadata": {
    "execution": {
     "iopub.execute_input": "2025-02-18T12:02:32.483430Z",
     "iopub.status.busy": "2025-02-18T12:02:32.482975Z",
     "iopub.status.idle": "2025-02-18T12:02:32.487924Z",
     "shell.execute_reply": "2025-02-18T12:02:32.486874Z"
    },
    "papermill": {
     "duration": 0.014869,
     "end_time": "2025-02-18T12:02:32.490123",
     "exception": false,
     "start_time": "2025-02-18T12:02:32.475254",
     "status": "completed"
    },
    "tags": []
   },
   "outputs": [],
   "source": [
    "#exim.info"
   ]
  },
  {
   "cell_type": "code",
   "execution_count": 14,
   "id": "f3da43c0",
   "metadata": {
    "execution": {
     "iopub.execute_input": "2025-02-18T12:02:32.505172Z",
     "iopub.status.busy": "2025-02-18T12:02:32.504747Z",
     "iopub.status.idle": "2025-02-18T12:02:32.518332Z",
     "shell.execute_reply": "2025-02-18T12:02:32.517298Z"
    },
    "papermill": {
     "duration": 0.023695,
     "end_time": "2025-02-18T12:02:32.520566",
     "exception": false,
     "start_time": "2025-02-18T12:02:32.496871",
     "status": "completed"
    },
    "tags": []
   },
   "outputs": [
    {
     "data": {
      "text/plain": [
       "HUMAN       8\n",
       "QID         8\n",
       "BM25        8\n",
       "RECENCY     8\n",
       "CONTACT     8\n",
       "ABOUT       8\n",
       "RAWHITS     8\n",
       "URL-LEN     8\n",
       "LINKRANK    8\n",
       "CTR-6       8\n",
       "dtype: int64"
      ]
     },
     "execution_count": 14,
     "metadata": {},
     "output_type": "execute_result"
    }
   ],
   "source": [
    "nrows = exim.loc[(exim['HUMAN'] == 5) & (exim['CTR-6'] == 0.00)]\n",
    "#nrows = exim.loc[(exim['HUMAN'] == 5) & (exim['CTR-6'] == 0.001)]\n",
    "nrows.count()\n",
    "#nrows"
   ]
  },
  {
   "cell_type": "code",
   "execution_count": 15,
   "id": "b559906f",
   "metadata": {
    "execution": {
     "iopub.execute_input": "2025-02-18T12:02:32.536229Z",
     "iopub.status.busy": "2025-02-18T12:02:32.535801Z",
     "iopub.status.idle": "2025-02-18T12:02:32.540980Z",
     "shell.execute_reply": "2025-02-18T12:02:32.539944Z"
    },
    "papermill": {
     "duration": 0.016168,
     "end_time": "2025-02-18T12:02:32.543787",
     "exception": false,
     "start_time": "2025-02-18T12:02:32.527619",
     "status": "completed"
    },
    "tags": []
   },
   "outputs": [],
   "source": [
    "import seaborn as sns\n",
    "\n",
    "import matplotlib.pyplot as plt\n"
   ]
  },
  {
   "cell_type": "code",
   "execution_count": 16,
   "id": "4cb0d434",
   "metadata": {
    "execution": {
     "iopub.execute_input": "2025-02-18T12:02:32.560967Z",
     "iopub.status.busy": "2025-02-18T12:02:32.560590Z",
     "iopub.status.idle": "2025-02-18T12:02:32.872340Z",
     "shell.execute_reply": "2025-02-18T12:02:32.871075Z"
    },
    "papermill": {
     "duration": 0.322917,
     "end_time": "2025-02-18T12:02:32.875236",
     "exception": false,
     "start_time": "2025-02-18T12:02:32.552319",
     "status": "completed"
    },
    "tags": []
   },
   "outputs": [
    {
     "data": {
      "image/png": "[encoded data removed]",
      "text/plain": [
       "<Figure size 1080x720 with 1 Axes>"
      ]
     },
     "metadata": {},
     "output_type": "display_data"
    }
   ],
   "source": [
    "sns.set(rc={'figure.figsize':(15,10)})\n",
    "sns.set(font_scale=2)\n",
    "fig, ax, = plt.subplots()\n",
    "\n",
    "# need to subtract 1 for lineplot to use same range as stripplot\n",
    "# https://stackoverflow.com/questions/53986627/stripplot-and-lineplot-weird-result\n",
    "x2 = (exim['HUMAN']-1)\n",
    "\n",
    "sns_plot = sns.stripplot(x = 'HUMAN', y = 'CTR-6', data = exim, ax =ax).set(title='Strip Plot of CTR versus Human relevance judgements',xlabel='Human relevance judgements',ylabel='CTR %')\n",
    "sns_plot = sns.lineplot(x = x2, y = 'CTR-6', data = exim, ax=ax, color='red', linewidth=1, ci=None)\n",
    "\n"
   ]
  },
  {
   "cell_type": "code",
   "execution_count": 17,
   "id": "f3f22bfa",
   "metadata": {
    "execution": {
     "iopub.execute_input": "2025-02-18T12:02:32.893642Z",
     "iopub.status.busy": "2025-02-18T12:02:32.893246Z",
     "iopub.status.idle": "2025-02-18T12:02:32.995899Z",
     "shell.execute_reply": "2025-02-18T12:02:32.994957Z"
    },
    "papermill": {
     "duration": 0.114974,
     "end_time": "2025-02-18T12:02:32.998505",
     "exception": false,
     "start_time": "2025-02-18T12:02:32.883531",
     "status": "completed"
    },
    "tags": []
   },
   "outputs": [],
   "source": [
    "# save file\n",
    "sns_plot.figure.savefig(\"/kaggle/working/strip-plot-with-line.png\")\n",
    "#!ls -lrt /kaggle/working\n"
   ]
  },
  {
   "cell_type": "code",
   "execution_count": 18,
   "id": "3aac32fe",
   "metadata": {
    "execution": {
     "iopub.execute_input": "2025-02-18T12:02:33.016217Z",
     "iopub.status.busy": "2025-02-18T12:02:33.015792Z",
     "iopub.status.idle": "2025-02-18T12:02:33.241849Z",
     "shell.execute_reply": "2025-02-18T12:02:33.240725Z"
    },
    "papermill": {
     "duration": 0.237657,
     "end_time": "2025-02-18T12:02:33.244309",
     "exception": false,
     "start_time": "2025-02-18T12:02:33.006652",
     "status": "completed"
    },
    "tags": []
   },
   "outputs": [
    {
     "data": {
      "text/plain": [
       "[Text(0.5, 1.0, 'Box Plot of CTR versus Human relevance judgements'),\n",
       " Text(0.5, 0, 'Human relevance judgements'),\n",
       " Text(0, 0.5, 'CTR %')]"
      ]
     },
     "execution_count": 18,
     "metadata": {},
     "output_type": "execute_result"
    },
    {
     "data": {
      "image/png": "[encoded data removed]",
      "text/plain": [
       "<Figure size 1080x720 with 1 Axes>"
      ]
     },
     "metadata": {},
     "output_type": "display_data"
    }
   ],
   "source": [
    "sns.boxplot(x = 'HUMAN', y = 'CTR-6', data = exim, whis=4).set(title='Box Plot of CTR versus Human relevance judgements',xlabel='Human relevance judgements',ylabel='CTR %')\n"
   ]
  },
  {
   "cell_type": "code",
   "execution_count": 19,
   "id": "7c950c4d",
   "metadata": {
    "execution": {
     "iopub.execute_input": "2025-02-18T12:02:33.265213Z",
     "iopub.status.busy": "2025-02-18T12:02:33.264781Z",
     "iopub.status.idle": "2025-02-18T12:02:44.769171Z",
     "shell.execute_reply": "2025-02-18T12:02:44.767776Z"
    },
    "papermill": {
     "duration": 11.5176,
     "end_time": "2025-02-18T12:02:44.772081",
     "exception": false,
     "start_time": "2025-02-18T12:02:33.254481",
     "status": "completed"
    },
    "tags": []
   },
   "outputs": [
    {
     "name": "stdout",
     "output_type": "stream",
     "text": [
      "Requirement already satisfied: scipy in /opt/conda/lib/python3.7/site-packages (1.7.3)\r\n",
      "Requirement already satisfied: numpy<1.23.0,>=1.16.5 in /opt/conda/lib/python3.7/site-packages (from scipy) (1.21.6)\r\n",
      "\u001b[33mWARNING: Running pip as the 'root' user can result in broken permissions and conflicting behaviour with the system package manager. It is recommended to use a virtual environment instead: https://pip.pypa.io/warnings/venv\u001b[0m\u001b[33m\r\n",
      "\u001b[0m"
     ]
    }
   ],
   "source": [
    "!pip3 install scipy"
   ]
  },
  {
   "cell_type": "code",
   "execution_count": 20,
   "id": "c21e0a4e",
   "metadata": {
    "execution": {
     "iopub.execute_input": "2025-02-18T12:02:44.792410Z",
     "iopub.status.busy": "2025-02-18T12:02:44.791965Z",
     "iopub.status.idle": "2025-02-18T12:02:44.797688Z",
     "shell.execute_reply": "2025-02-18T12:02:44.796358Z"
    },
    "papermill": {
     "duration": 0.018586,
     "end_time": "2025-02-18T12:02:44.799863",
     "exception": false,
     "start_time": "2025-02-18T12:02:44.781277",
     "status": "completed"
    },
    "tags": []
   },
   "outputs": [],
   "source": [
    "from scipy.stats import ttest_rel"
   ]
  },
  {
   "cell_type": "code",
   "execution_count": 21,
   "id": "8276071c",
   "metadata": {
    "execution": {
     "iopub.execute_input": "2025-02-18T12:02:44.819894Z",
     "iopub.status.busy": "2025-02-18T12:02:44.819514Z",
     "iopub.status.idle": "2025-02-18T12:02:44.824605Z",
     "shell.execute_reply": "2025-02-18T12:02:44.823349Z"
    },
    "papermill": {
     "duration": 0.017746,
     "end_time": "2025-02-18T12:02:44.826919",
     "exception": false,
     "start_time": "2025-02-18T12:02:44.809173",
     "status": "completed"
    },
    "tags": []
   },
   "outputs": [],
   "source": [
    "#exim.rename(columns={'HUMAN':'','CTR-6:''})"
   ]
  },
  {
   "cell_type": "markdown",
   "id": "e11b4095",
   "metadata": {
    "papermill": {
     "duration": 0.008936,
     "end_time": "2025-02-18T12:02:44.845272",
     "exception": false,
     "start_time": "2025-02-18T12:02:44.836336",
     "status": "completed"
    },
    "tags": []
   },
   "source": [
    "# **Interpreting the Correlation Coefficient**  <a class=\"anchor\"  id=\"Interpreting\"></a>\n",
    "If we wish to label the strength of the association, for absolute values of r, Evans (1996) suggest the following (arbitrary) thresholds can be applied; -\n",
    "* 0-0.19 is regarded as very weak, \n",
    "* 0.2-0.39 as weak, \n",
    "* 0.40-0.59 as moderate, \n",
    "* 0.6-0.79 as strong and \n",
    "* 0.8-1 as very strong correlation\n"
   ]
  },
  {
   "cell_type": "markdown",
   "id": "2cc3f51d",
   "metadata": {
    "papermill": {
     "duration": 0.00892,
     "end_time": "2025-02-18T12:02:44.863605",
     "exception": false,
     "start_time": "2025-02-18T12:02:44.854685",
     "status": "completed"
    },
    "tags": []
   },
   "source": [
    "# **Person versus Spearman**  <a class=\"anchor\"  id=\"Pearson\"></a>\n",
    "Pearson coefficient measures linear trend, \n",
    "Spearman coeffiecient measures monotonic trend"
   ]
  },
  {
   "cell_type": "code",
   "execution_count": 22,
   "id": "19e013c8",
   "metadata": {
    "execution": {
     "iopub.execute_input": "2025-02-18T12:02:44.883845Z",
     "iopub.status.busy": "2025-02-18T12:02:44.883450Z",
     "iopub.status.idle": "2025-02-18T12:02:44.889381Z",
     "shell.execute_reply": "2025-02-18T12:02:44.888219Z"
    },
    "papermill": {
     "duration": 0.018957,
     "end_time": "2025-02-18T12:02:44.891803",
     "exception": false,
     "start_time": "2025-02-18T12:02:44.872846",
     "status": "completed"
    },
    "tags": []
   },
   "outputs": [],
   "source": [
    "\n",
    "# calculate the Pearson's correlation between two variables\n",
    "from numpy.random import randn\n",
    "from numpy.random import seed\n",
    "from scipy.stats import pearsonr\n",
    "from scipy.stats import spearmanr\n",
    "# seed random number generator\n",
    "seed(1)\n",
    "# prepare data"
   ]
  },
  {
   "cell_type": "code",
   "execution_count": 23,
   "id": "decfca32",
   "metadata": {
    "execution": {
     "iopub.execute_input": "2025-02-18T12:02:44.912704Z",
     "iopub.status.busy": "2025-02-18T12:02:44.912282Z",
     "iopub.status.idle": "2025-02-18T12:02:44.922179Z",
     "shell.execute_reply": "2025-02-18T12:02:44.921007Z"
    },
    "papermill": {
     "duration": 0.023232,
     "end_time": "2025-02-18T12:02:44.924450",
     "exception": false,
     "start_time": "2025-02-18T12:02:44.901218",
     "status": "completed"
    },
    "tags": []
   },
   "outputs": [
    {
     "name": "stdout",
     "output_type": "stream",
     "text": [
      "Pearson's correlation:  human v click-through-rate: 0.586\n"
     ]
    }
   ],
   "source": [
    "data1 = exim['HUMAN']\n",
    "data2 = exim['CTR-6']\n",
    "\n",
    "data1 = data1.dropna()\n",
    "data2 = data2.dropna()\n",
    "\n",
    "# calculate Pearson's correlation\n",
    "corr, _ = pearsonr(data1, data2)\n",
    "print('Pearson\\'s correlation:  human v click-through-rate: %.3f' % corr)"
   ]
  },
  {
   "cell_type": "code",
   "execution_count": 24,
   "id": "634b5dff",
   "metadata": {
    "execution": {
     "iopub.execute_input": "2025-02-18T12:02:44.945440Z",
     "iopub.status.busy": "2025-02-18T12:02:44.945001Z",
     "iopub.status.idle": "2025-02-18T12:02:44.957828Z",
     "shell.execute_reply": "2025-02-18T12:02:44.956536Z"
    },
    "papermill": {
     "duration": 0.026288,
     "end_time": "2025-02-18T12:02:44.960223",
     "exception": false,
     "start_time": "2025-02-18T12:02:44.933935",
     "status": "completed"
    },
    "tags": []
   },
   "outputs": [
    {
     "name": "stdout",
     "output_type": "stream",
     "text": [
      "Spearman's correlation:  human v click-through-rate: 0.437\n"
     ]
    }
   ],
   "source": [
    "data1 = exim['HUMAN']\n",
    "data2 = exim['CTR-6']\n",
    "\n",
    "data1 = data1.dropna()\n",
    "data2 = data2.dropna()\n",
    "\n",
    "from scipy.stats import spearmanr\n",
    "corr, _ = spearmanr(data1, data2)\n",
    "print('Spearman\\'s correlation:  human v click-through-rate: %.3f' % corr)"
   ]
  },
  {
   "cell_type": "code",
   "execution_count": 25,
   "id": "adc55c5f",
   "metadata": {
    "execution": {
     "iopub.execute_input": "2025-02-18T12:02:44.981405Z",
     "iopub.status.busy": "2025-02-18T12:02:44.980990Z",
     "iopub.status.idle": "2025-02-18T12:02:44.990698Z",
     "shell.execute_reply": "2025-02-18T12:02:44.989277Z"
    },
    "papermill": {
     "duration": 0.022922,
     "end_time": "2025-02-18T12:02:44.993187",
     "exception": false,
     "start_time": "2025-02-18T12:02:44.970265",
     "status": "completed"
    },
    "tags": []
   },
   "outputs": [
    {
     "name": "stdout",
     "output_type": "stream",
     "text": [
      "Spearmans correlation coefficient: 0.437\n",
      "p-value 1.6350135746535322e-119\n",
      "Samples are correlated (reject H0) p=0.000\n"
     ]
    }
   ],
   "source": [
    "# calculate spearman's correlation\n",
    "coef, p = spearmanr(data1, data2)\n",
    "print('Spearmans correlation coefficient: %.3f' % coef)\n",
    "print ('p-value',p)\n",
    "# interpret the significance\n",
    "alpha = 0.05\n",
    "if p > alpha:\n",
    "\tprint('Samples are uncorrelated (fail to reject H0) p=%.3f' % p)\n",
    "else:\n",
    "\tprint('Samples are correlated (reject H0) p=%.3f' % p)"
   ]
  },
  {
   "cell_type": "markdown",
   "id": "6df4e571",
   "metadata": {
    "papermill": {
     "duration": 0.009451,
     "end_time": "2025-02-18T12:02:45.012747",
     "exception": false,
     "start_time": "2025-02-18T12:02:45.003296",
     "status": "completed"
    },
    "tags": []
   },
   "source": [
    "# **Statistical Power**  <a class=\"anchor\"  id=\"Power\"></a>"
   ]
  },
  {
   "cell_type": "code",
   "execution_count": 26,
   "id": "35d7e2fc",
   "metadata": {
    "execution": {
     "iopub.execute_input": "2025-02-18T12:02:45.034784Z",
     "iopub.status.busy": "2025-02-18T12:02:45.033827Z",
     "iopub.status.idle": "2025-02-18T12:02:45.061941Z",
     "shell.execute_reply": "2025-02-18T12:02:45.060712Z"
    },
    "papermill": {
     "duration": 0.042057,
     "end_time": "2025-02-18T12:02:45.064417",
     "exception": false,
     "start_time": "2025-02-18T12:02:45.022360",
     "status": "completed"
    },
    "tags": []
   },
   "outputs": [
    {
     "name": "stdout",
     "output_type": "stream",
     "text": [
      "Required sample size: 63.765611775409525\n"
     ]
    }
   ],
   "source": [
    "from statsmodels.stats.power import TTestIndPower\n",
    "\n",
    "# Parameters\n",
    "effect_size = 0.5  # Cohen's d\n",
    "alpha = 0.05       # Significance level\n",
    "power = 0.8        # Desired power\n",
    "\n",
    "# Initialize power analysis\n",
    "analysis = TTestIndPower()\n",
    "\n",
    "# Calculate required sample size\n",
    "sample_size = analysis.solve_power(effect_size=effect_size, alpha=alpha, power=power, alternative='two-sided')\n",
    "print(f\"Required sample size: {sample_size}\")"
   ]
  }
 ],
 "metadata": {
  "kaggle": {
   "accelerator": "none",
   "dataSources": [
    {
     "datasetId": 2326986,
     "sourceId": 4128443,
     "sourceType": "datasetVersion"
    },
    {
     "datasetId": 2366553,
     "sourceId": 5848272,
     "sourceType": "datasetVersion"
    }
   ],
   "dockerImageVersionId": 30203,
   "isGpuEnabled": false,
   "isInternetEnabled": true,
   "language": "python",
   "sourceType": "notebook"
  },
  "kernelspec": {
   "display_name": "Python 3",
   "language": "python",
   "name": "python3"
  },
  "language_info": {
   "codemirror_mode": {
    "name": "ipython",
    "version": 3
   },
   "file_extension": ".py",
   "mimetype": "text/x-python",
   "name": "python",
   "nbconvert_exporter": "python",
   "pygments_lexer": "ipython3",
   "version": "3.7.12"
  },
  "papermill": {
   "default_parameters": {},
   "duration": 24.661195,
   "end_time": "2025-02-18T12:02:45.897761",
   "environment_variables": {},
   "exception": null,
   "input_path": "__notebook__.ipynb",
   "output_path": "__notebook__.ipynb",
   "parameters": {},
   "start_time": "2025-02-18T12:02:21.236566",
   "version": "2.3.4"
  }
 },
 "nbformat": 4,
 "nbformat_minor": 5
}
